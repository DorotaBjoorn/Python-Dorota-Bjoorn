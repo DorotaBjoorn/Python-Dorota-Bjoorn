{
 "cells": [
  {
   "cell_type": "markdown",
   "metadata": {},
   "source": [
    "# ASK\n",
    "\n",
    "* EX 4 lists: 5b, 6 (ej testat ännu), 7(ej testat ännu)\n",
    "* EX 5 strings: 4 (alt 2), 5, ev 1b\n",
    "* L 6 functions: vad är Lambda, koden för Draw lines\n",
    "* EC 6:"
   ]
  },
  {
   "cell_type": "markdown",
   "metadata": {},
   "source": [
    "# DO AGAIN\n",
    "\n",
    "* EX 4 lists: 4b\n",
    "* EX 5 strings:\n",
    "* EX 6 functions: "
   ]
  }
 ],
 "metadata": {
  "kernelspec": {
   "display_name": "Python 3.9.13 64-bit (system)",
   "language": "python",
   "name": "python3"
  },
  "language_info": {
   "name": "python",
   "version": "3.9.13"
  },
  "orig_nbformat": 4,
  "vscode": {
   "interpreter": {
    "hash": "28ee99f6a7aea1b12ac9ee24ec50cb70bed218d1abf73fd9933c4d88810e27ea"
   }
  }
 },
 "nbformat": 4,
 "nbformat_minor": 2
}
