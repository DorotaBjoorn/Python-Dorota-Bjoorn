{
 "cells": [
  {
   "cell_type": "markdown",
   "metadata": {},
   "source": [
    "# ASK\n",
    "\n",
    "* EX 4 lists: 6 (ej testat ännu), 7(ej testat ännu)\n",
    "* EX 5 strings: 4 (alt 2), 5, ev 1b\n",
    "* L 6 functions: vad är Lambda, koden för Draw lines\n",
    "* EX 6 functions: 4 (solved but how make more general)\n",
    "* EX 8 files: 4(ej testat ännu)\n",
    "* EX 9 dictrionaries: 2 (solevd but how make more general)\n",
    "\n",
    "Excercise genomgångar: 2-3 3-6 4-5 5-2 5-3"
   ]
  },
  {
   "cell_type": "markdown",
   "metadata": {},
   "source": [
    "# DO AGAIN\n",
    "\n",
    "* EX 4 lists: 4b, 5\n",
    "* EX 5 strings:\n",
    "* EX 6 functions:\n",
    "* EX 7 errors:\n",
    "* EX 8 files: 2b, 2c, 3\n",
    "* EX 9 dictionaries: 3"
   ]
  }
 ],
 "metadata": {
  "kernelspec": {
   "display_name": "Python 3.9.13 64-bit (system)",
   "language": "python",
   "name": "python3"
  },
  "language_info": {
   "name": "python",
   "version": "3.9.13"
  },
  "orig_nbformat": 4,
  "vscode": {
   "interpreter": {
    "hash": "28ee99f6a7aea1b12ac9ee24ec50cb70bed218d1abf73fd9933c4d88810e27ea"
   }
  }
 },
 "nbformat": 4,
 "nbformat_minor": 2
}
