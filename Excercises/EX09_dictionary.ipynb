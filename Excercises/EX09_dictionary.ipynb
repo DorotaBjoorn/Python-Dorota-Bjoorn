{
 "cells": [
  {
   "cell_type": "markdown",
   "metadata": {},
   "source": [
    "#### 1"
   ]
  },
  {
   "cell_type": "code",
   "execution_count": 4,
   "metadata": {},
   "outputs": [
    {
     "name": "stdout",
     "output_type": "stream",
     "text": [
      "11\n"
     ]
    }
   ],
   "source": [
    "education = {\n",
    "    \"course_1\" : 1,\n",
    "    \"course_2\" : 6,\n",
    "    \"course_3\" : 4,\n",
    "}\n",
    "\n",
    "total_points = 0\n",
    "\n",
    "# Denna lösning fungerar också\n",
    "#for course in education:\n",
    "    #total_points += education[course]\n",
    "\n",
    "for course, points in education.items():\n",
    "    total_points += points\n",
    "\n",
    "print(total_points)"
   ]
  },
  {
   "cell_type": "markdown",
   "metadata": {},
   "source": [
    "#### 2"
   ]
  },
  {
   "cell_type": "markdown",
   "metadata": {},
   "source": []
  }
 ],
 "metadata": {
  "kernelspec": {
   "display_name": "Python 3.9.13 ('Python-Dorota-Bjoorn-uzahzrwe')",
   "language": "python",
   "name": "python3"
  },
  "language_info": {
   "codemirror_mode": {
    "name": "ipython",
    "version": 3
   },
   "file_extension": ".py",
   "mimetype": "text/x-python",
   "name": "python",
   "nbconvert_exporter": "python",
   "pygments_lexer": "ipython3",
   "version": "3.9.13"
  },
  "orig_nbformat": 4,
  "vscode": {
   "interpreter": {
    "hash": "5a42c404417d75b6068b47c895b5f82ed1ebeda4880f3472a880a0dea30e7469"
   }
  }
 },
 "nbformat": 4,
 "nbformat_minor": 2
}
