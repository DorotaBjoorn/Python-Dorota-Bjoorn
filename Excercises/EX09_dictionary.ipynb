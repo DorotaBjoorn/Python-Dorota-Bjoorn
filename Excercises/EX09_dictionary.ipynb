{
 "cells": [
  {
   "cell_type": "markdown",
   "metadata": {},
   "source": [
    "#### 1"
   ]
  },
  {
   "cell_type": "code",
   "execution_count": 7,
   "metadata": {},
   "outputs": [
    {
     "name": "stdout",
     "output_type": "stream",
     "text": [
      "{'course_1': 1, 'course_2': 6, 'course_3': 4}\n",
      "Total number of poits is 11\n"
     ]
    }
   ],
   "source": [
    "education = {\n",
    "    \"course_1\" : 1,\n",
    "    \"course_2\" : 6,\n",
    "    \"course_3\" : 4,\n",
    "}\n",
    "\n",
    "total_points = 0\n",
    "\n",
    "# Denna lösning fungerar också\n",
    "#for course in education:\n",
    "    #total_points += education[course]\n",
    "\n",
    "for course, points in education.items():\n",
    "    total_points += points\n",
    "\n",
    "print(education)\n",
    "print(f\"Total number of poits is {total_points}\")"
   ]
  },
  {
   "cell_type": "markdown",
   "metadata": {},
   "source": [
    "#### 2"
   ]
  },
  {
   "cell_type": "code",
   "execution_count": 34,
   "metadata": {},
   "outputs": [
    {
     "name": "stdout",
     "output_type": "stream",
     "text": [
      "{'1': 166681, '2': 166638, '3': 166537, '4': 167170, '5': 166228, '6': 166746}\n",
      "1 :  166681\n",
      "2 :  166638\n",
      "3 :  166537\n",
      "4 :  167170\n",
      "5 :  166228\n",
      "6 :  166746\n"
     ]
    }
   ],
   "source": [
    "import random\n",
    "\n",
    "dice_rolls = {\"1\":0, \"2\":0, \"3\":0, \"4\":0, \"5\":0, \"6\":0,}\n",
    "\n",
    "dice = [random.randint(1,6) for i in range(10)]\n",
    "\n",
    "# ???????????????????????? HUR GÖRA NEDAN if elif else MER EFFEKTIVT/GENERISKT??????????\n",
    "for roll in dice:\n",
    "    if roll == 1:\n",
    "        dice_rolls[\"1\"] += 1 #hakparanteser för anrop\n",
    "    elif roll == 2:\n",
    "        dice_rolls[\"2\"] += 1\n",
    "    elif roll == 3:\n",
    "        dice_rolls[\"3\"] += 1\n",
    "    elif roll == 4:\n",
    "        dice_rolls[\"4\"] += 1\n",
    "    elif roll == 5:\n",
    "        dice_rolls[\"5\"] += 1\n",
    "    else:\n",
    "        dice_rolls[\"6\"] += 1\n",
    "\n",
    "print(dice)\n",
    "print(dice_rolls) #prints all on same line\n",
    "\n",
    "for key in dice_rolls:\n",
    "    print(key,\": \", dice_rolls[key]) #prints key: value (which is dice_rolls[key])"
   ]
  }
 ],
 "metadata": {
  "kernelspec": {
   "display_name": "Python 3.9.13 ('Python-Dorota-Bjoorn-uzahzrwe')",
   "language": "python",
   "name": "python3"
  },
  "language_info": {
   "codemirror_mode": {
    "name": "ipython",
    "version": 3
   },
   "file_extension": ".py",
   "mimetype": "text/x-python",
   "name": "python",
   "nbconvert_exporter": "python",
   "pygments_lexer": "ipython3",
   "version": "3.9.13"
  },
  "orig_nbformat": 4,
  "vscode": {
   "interpreter": {
    "hash": "5a42c404417d75b6068b47c895b5f82ed1ebeda4880f3472a880a0dea30e7469"
   }
  }
 },
 "nbformat": 4,
 "nbformat_minor": 2
}
