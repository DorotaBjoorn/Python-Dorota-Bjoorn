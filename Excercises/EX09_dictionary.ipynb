{
 "cells": [
  {
   "cell_type": "markdown",
   "metadata": {},
   "source": [
    "#### 1"
   ]
  },
  {
   "cell_type": "code",
   "execution_count": 7,
   "metadata": {},
   "outputs": [
    {
     "name": "stdout",
     "output_type": "stream",
     "text": [
      "{'course_1': 1, 'course_2': 6, 'course_3': 4}\n",
      "Total number of poits is 11\n"
     ]
    }
   ],
   "source": [
    "education = {\n",
    "    \"course_1\" : 1,\n",
    "    \"course_2\" : 6,\n",
    "    \"course_3\" : 4,\n",
    "}\n",
    "\n",
    "total_points = 0\n",
    "\n",
    "# Denna lösning fungerar också\n",
    "#for course in education:\n",
    "    #total_points += education[course]\n",
    "\n",
    "for course, points in education.items():\n",
    "    total_points += points\n",
    "\n",
    "print(education)\n",
    "print(f\"Total number of poits is {total_points}\")"
   ]
  },
  {
   "cell_type": "markdown",
   "metadata": {},
   "source": [
    "#### 2"
   ]
  },
  {
   "cell_type": "code",
   "execution_count": 34,
   "metadata": {},
   "outputs": [
    {
     "name": "stdout",
     "output_type": "stream",
     "text": [
      "{'1': 166681, '2': 166638, '3': 166537, '4': 167170, '5': 166228, '6': 166746}\n",
      "1 :  166681\n",
      "2 :  166638\n",
      "3 :  166537\n",
      "4 :  167170\n",
      "5 :  166228\n",
      "6 :  166746\n"
     ]
    }
   ],
   "source": [
    "import random\n",
    "\n",
    "dice_rolls = {\"1\":0, \"2\":0, \"3\":0, \"4\":0, \"5\":0, \"6\":0,}\n",
    "\n",
    "dice = [random.randint(1,6) for i in range(10)]\n",
    "\n",
    "# ???????????????????????? HUR GÖRA NEDAN if elif else MER EFFEKTIVT/GENERISKT??????????\n",
    "for roll in dice:\n",
    "    if roll == 1:\n",
    "        dice_rolls[\"1\"] += 1 #hakparanteser för anrop\n",
    "    elif roll == 2:\n",
    "        dice_rolls[\"2\"] += 1\n",
    "    elif roll == 3:\n",
    "        dice_rolls[\"3\"] += 1\n",
    "    elif roll == 4:\n",
    "        dice_rolls[\"4\"] += 1\n",
    "    elif roll == 5:\n",
    "        dice_rolls[\"5\"] += 1\n",
    "    else:\n",
    "        dice_rolls[\"6\"] += 1\n",
    "\n",
    "print(dice)\n",
    "print(dice_rolls) #prints all on same line\n",
    "\n",
    "for key in dice_rolls:\n",
    "    print(key,\": \", dice_rolls[key]) #prints key: value (which is dice_rolls[key])"
   ]
  },
  {
   "cell_type": "markdown",
   "metadata": {},
   "source": [
    "#### 3"
   ]
  },
  {
   "cell_type": "code",
   "execution_count": null,
   "metadata": {},
   "outputs": [],
   "source": [
    "# Python3 program to Convert a  list to dictionary from https://www.geeksforgeeks.org/python-convert-a-list-to-dictionary/\n",
    " \n",
    "def Convert(lst):\n",
    "    res_dct = {lst[i]: lst[i + 1] for i in range(0, len(lst), 2)}\n",
    "    return res_dct\n",
    "         \n",
    "# Driver code\n",
    "lst = ['a', 1, 'b', 2, 'c', 3]\n",
    "print(Convert(lst))"
   ]
  },
  {
   "cell_type": "code",
   "execution_count": 32,
   "metadata": {},
   "outputs": [
    {
     "name": "stdout",
     "output_type": "stream",
     "text": [
      "SpÃ¶ke/Gift, 94\n",
      "('Elektrisk', '25')\n"
     ]
    }
   ],
   "source": [
    "# Texfilen läggs direkt i en dictionary\n",
    "pokedex = {}\n",
    "\n",
    "with open (\"../Data/pokemon_list.txt\", \"r\") as file:\n",
    "    for line in file:\n",
    "        #Try/except eftersom sista raden i filen inte hade något värde, vilket ger ValueError och skall därmed hoppas (pass)\n",
    "        try:\n",
    "            (index, pokemon, characteristic) = line.split() #splittar på index, pokemon, characteristics\n",
    "            #och värdena från line.split() ges som input (ordningen i dokumentet var idenx pokemon characteristic)\n",
    "            pokedex[pokemon] = (characteristic, index) #definierar keys and values i dictionary pokedex\n",
    "        except ValueError:\n",
    "            pass\n",
    "\n",
    "print(\", \".join(pokedex[\"Gengar\"])) #join för att göra om 2 str till 1 str med , mellan orden\n",
    "print(pokedex[\"Pikachu\"])\n"
   ]
  },
  {
   "cell_type": "code",
   "execution_count": 33,
   "metadata": {},
   "outputs": [
    {
     "name": "stdout",
     "output_type": "stream",
     "text": [
      "SpÃ¶ke/Gift, 94\n"
     ]
    }
   ],
   "source": [
    "# Alt för att hantera att sista raden är tom\n",
    "pokedex = {}\n",
    "\n",
    "with open (\"../Data/pokemon_list.txt\", \"r\") as file:\n",
    "    for line in file:\n",
    "        line = line.split()\n",
    "        if len(line) == 3:\n",
    "            (index, pokemon, characteristic) = line #line är redan splittad så line.split behövs ej\n",
    "            pokedex[pokemon] = (characteristic, index)\n",
    "        \n",
    "\n",
    "print(\", \".join(pokedex[\"Gengar\"]))\n"
   ]
  }
 ],
 "metadata": {
  "kernelspec": {
   "display_name": "Python 3.9.13 ('Python-Dorota-Bjoorn-uzahzrwe')",
   "language": "python",
   "name": "python3"
  },
  "language_info": {
   "codemirror_mode": {
    "name": "ipython",
    "version": 3
   },
   "file_extension": ".py",
   "mimetype": "text/x-python",
   "name": "python",
   "nbconvert_exporter": "python",
   "pygments_lexer": "ipython3",
   "version": "3.9.13"
  },
  "orig_nbformat": 4,
  "vscode": {
   "interpreter": {
    "hash": "5a42c404417d75b6068b47c895b5f82ed1ebeda4880f3472a880a0dea30e7469"
   }
  }
 },
 "nbformat": 4,
 "nbformat_minor": 2
}
