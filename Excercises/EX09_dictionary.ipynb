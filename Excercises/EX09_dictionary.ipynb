{
 "cells": [
  {
   "cell_type": "markdown",
   "metadata": {},
   "source": [
    "#### 1"
   ]
  },
  {
   "cell_type": "code",
   "execution_count": 7,
   "metadata": {},
   "outputs": [
    {
     "name": "stdout",
     "output_type": "stream",
     "text": [
      "{'course_1': 1, 'course_2': 6, 'course_3': 4}\n",
      "Total number of poits is 11\n"
     ]
    }
   ],
   "source": [
    "education = {\n",
    "    \"course_1\" : 1,\n",
    "    \"course_2\" : 6,\n",
    "    \"course_3\" : 4,\n",
    "}\n",
    "\n",
    "total_points = 0\n",
    "\n",
    "# Denna lösning fungerar också\n",
    "#for course in education:\n",
    "    #total_points += education[course]\n",
    "\n",
    "for course, points in education.items():\n",
    "    total_points += points\n",
    "\n",
    "print(education)\n",
    "print(f\"Total number of poits is {total_points}\")"
   ]
  },
  {
   "cell_type": "markdown",
   "metadata": {},
   "source": [
    "#### 2"
   ]
  },
  {
   "cell_type": "code",
   "execution_count": 34,
   "metadata": {},
   "outputs": [
    {
     "name": "stdout",
     "output_type": "stream",
     "text": [
      "{'1': 166681, '2': 166638, '3': 166537, '4': 167170, '5': 166228, '6': 166746}\n",
      "1 :  166681\n",
      "2 :  166638\n",
      "3 :  166537\n",
      "4 :  167170\n",
      "5 :  166228\n",
      "6 :  166746\n"
     ]
    }
   ],
   "source": [
    "import random\n",
    "\n",
    "dice_rolls = {\"1\":0, \"2\":0, \"3\":0, \"4\":0, \"5\":0, \"6\":0,}\n",
    "\n",
    "dice = [random.randint(1,6) for i in range(10)]\n",
    "\n",
    "# ???????????????????????? HUR GÖRA NEDAN if elif else MER EFFEKTIVT/GENERISKT??????????\n",
    "for roll in dice:\n",
    "    if roll == 1:\n",
    "        dice_rolls[\"1\"] += 1 #hakparanteser för anrop\n",
    "    elif roll == 2:\n",
    "        dice_rolls[\"2\"] += 1\n",
    "    elif roll == 3:\n",
    "        dice_rolls[\"3\"] += 1\n",
    "    elif roll == 4:\n",
    "        dice_rolls[\"4\"] += 1\n",
    "    elif roll == 5:\n",
    "        dice_rolls[\"5\"] += 1\n",
    "    else:\n",
    "        dice_rolls[\"6\"] += 1\n",
    "\n",
    "print(dice)\n",
    "print(dice_rolls) #prints all on same line\n",
    "\n",
    "for key in dice_rolls:\n",
    "    print(key,\": \", dice_rolls[key]) #prints key: value (which is dice_rolls[key])"
   ]
  },
  {
   "cell_type": "markdown",
   "metadata": {},
   "source": [
    "#### 3"
   ]
  },
  {
   "cell_type": "code",
   "execution_count": null,
   "metadata": {},
   "outputs": [],
   "source": [
    "# Python3 program to Convert a  list to dictionary from https://www.geeksforgeeks.org/python-convert-a-list-to-dictionary/\n",
    " \n",
    "def Convert(lst):\n",
    "    res_dct = {lst[i]: lst[i + 1] for i in range(0, len(lst), 2)}\n",
    "    return res_dct\n",
    "         \n",
    "# Driver code\n",
    "lst = ['a', 1, 'b', 2, 'c', 3]\n",
    "print(Convert(lst))"
   ]
  },
  {
   "cell_type": "code",
   "execution_count": 9,
   "metadata": {},
   "outputs": [
    {
     "data": {
      "text/plain": [
       "['150', 'Mewtwo', 'Psykisk']"
      ]
     },
     "execution_count": 9,
     "metadata": {},
     "output_type": "execute_result"
    }
   ],
   "source": [
    "pokedex_list = []\n",
    "\n",
    "with open (\"../Data/pokemon_list.txt\", \"r\") as file:\n",
    "    for row in file:\n",
    "        row_list = row.split() #string.split(separator, maxsplit)\n",
    "        # pokedex_list.append(row) #list.append(element)\n",
    "\n",
    "row_list\n",
    "#pokedex_list"
   ]
  },
  {
   "cell_type": "code",
   "execution_count": 17,
   "metadata": {},
   "outputs": [
    {
     "data": {
      "text/plain": [
       "'Psykisk, 65'"
      ]
     },
     "execution_count": 17,
     "metadata": {},
     "output_type": "execute_result"
    }
   ],
   "source": [
    "# Försöka lägga textfilen direkt i en dictionary\n",
    "pokedex = {}\n",
    "\n",
    "with open (\"../Data/pokemon_list.txt\", \"r\") as file:\n",
    "    for line in file:\n",
    "        try:\n",
    "            (index, pokemon, characteristic) = line.split()\n",
    "            pokedex[pokemon] = (characteristic, index)\n",
    "        except ValueError:\n",
    "            pass\n",
    "\n",
    "pokedex[\"Alakazam\"]\n",
    "\", \".join(pokedex[\"Alakazam\"])\n",
    "# print(pokedex)\n"
   ]
  },
  {
   "cell_type": "code",
   "execution_count": 18,
   "metadata": {},
   "outputs": [
    {
     "name": "stdout",
     "output_type": "stream",
     "text": [
      "['1', 'Bulbasaur', 'GrÃ¤s/Gift']\n",
      "['2', 'Ivysaur', 'GrÃ¤s/Gift']\n",
      "['3', 'Venusaur', 'GrÃ¤s/Gift']\n",
      "['4', 'Charmander', 'Eld']\n",
      "['5', 'Charmeleon', 'Eld']\n",
      "['6', 'Charizard', 'Eld/Flygande']\n",
      "['7', 'Squirtle', 'Vatten']\n",
      "['8', 'Wartortle', 'Vatten']\n",
      "['9', 'Blastoise', 'Vatten']\n",
      "['10', 'Caterpie', 'Insekt']\n",
      "['11', 'Metapod', 'Insekt']\n",
      "['12', 'Butterfree', 'Insekt/Flygande']\n",
      "['13', 'Weedle', 'Insekt/Gift']\n",
      "['14', 'Kakuna', 'Insekt/Gift']\n",
      "['15', 'Beedrill', 'Insekt/Gift']\n",
      "['16', 'Pidgey', 'Normal/Flygande']\n",
      "['17', 'Pidgeotto', 'Normal/Flygande']\n",
      "['18', 'Pidgeot', 'Normal/Flygande']\n",
      "['19', 'Rattata', 'Normal']\n",
      "['20', 'Raticate', 'Normal']\n",
      "['21', 'Spearow', 'Normal/Flygande']\n",
      "['22', 'Fearow', 'Normal/Flygande']\n",
      "['23', 'Ekans', 'Gift']\n",
      "['24', 'Arbok', 'Gift']\n",
      "['25', 'Pikachu', 'Elektrisk']\n",
      "['26', 'Raichu', 'Elektrisk']\n",
      "['27', 'Sandshrew', 'Mark']\n",
      "['28', 'Sandslash', 'Mark']\n",
      "['29', 'Nidoranâ™€', 'Gift']\n",
      "['30', 'Nidorina', 'Gift']\n",
      "['31', 'Nidoqueen', 'Gift/Mark']\n",
      "['32', 'Nidoranâ™‚', 'Gift']\n",
      "['33', 'Nidorino', 'Gift']\n",
      "['34', 'Nidoking', 'Gift/Mark']\n",
      "['35', 'Clefairy', 'FÃ©']\n",
      "['36', 'Clefable', 'FÃ©']\n",
      "['37', 'Vulpix', 'Eld']\n",
      "['38', 'Ninetales', 'Eld']\n",
      "['39', 'Jigglypuff', 'Normal/FÃ©']\n",
      "['40', 'Wigglytuff', 'Normal/FÃ©']\n",
      "['41', 'Zubat', 'Gift/Flygande']\n",
      "['42', 'Golbat', 'Gift/Flygande']\n",
      "['43', 'Oddish', 'GrÃ¤s/Gift']\n",
      "['44', 'Gloom', 'GrÃ¤s/Gift']\n",
      "['45', 'Vileplume', 'GrÃ¤s/Gift']\n",
      "['46', 'Paras', 'Insekt/GrÃ¤s']\n",
      "['47', 'Parasect', 'Insekt/GrÃ¤s']\n",
      "['48', 'Venonat', 'Insekt/Gift']\n",
      "['49', 'Venomoth', 'Insekt/Gift']\n",
      "['50', 'Diglett', 'Mark']\n",
      "['51', 'Dugtrio', 'Mark']\n",
      "['52', 'Meowth', 'Normal']\n",
      "['53', 'Persian', 'Normal']\n",
      "['54', 'Psyduck', 'Vatten']\n",
      "['55', 'Golduck', 'Vatten']\n",
      "['56', 'Mankey', 'Kamp']\n",
      "['57', 'Primeape', 'Kamp']\n",
      "['58', 'Growlithe', 'Eld']\n",
      "['59', 'Arcanine', 'Eld']\n",
      "['60', 'Poliwag', 'Vatten']\n",
      "['61', 'Poliwhirl', 'Vatten']\n",
      "['62', 'Poliwrath', 'Vatten/Kamp']\n",
      "['63', 'Abra', 'Psykisk']\n",
      "['64', 'Kadabra', 'Psykisk']\n",
      "['65', 'Alakazam', 'Psykisk']\n",
      "['66', 'Machop', 'Kamp']\n",
      "['67', 'Machoke', 'Kamp']\n",
      "['68', 'Machamp', 'Kamp']\n",
      "['69', 'Bellsprout', 'GrÃ¤s/Gift']\n",
      "['70', 'Weepinbell', 'GrÃ¤s/Gift']\n",
      "['71', 'Victreebel', 'GrÃ¤s/Gift']\n",
      "['72', 'Tentacool', 'Vatten/Gift']\n",
      "['73', 'Tentacruel', 'Vatten/Gift']\n",
      "['74', 'Geodude', 'Sten/Mark']\n",
      "['75', 'Graveler', 'Sten/Mark']\n",
      "['76', 'Golem', 'Sten/Mark']\n",
      "['77', 'Ponyta', 'Eld']\n",
      "['78', 'Rapidash', 'Eld']\n",
      "['79', 'Slowpoke', 'Vatten/Psykisk']\n",
      "['80', 'Slowbro', 'Vatten/Psykisk']\n",
      "['81', 'Magnemite', 'Elektrisk/StÃ¥l']\n",
      "['82', 'Magneton', 'Elektrisk/StÃ¥l']\n",
      "['83', \"Farfetch'd\", 'Normal/Flygande']\n",
      "['84', 'Doduo', 'Normal/Flygande']\n",
      "['85', 'Dodrio', 'Normal/Flygande']\n",
      "['86', 'Seel', 'Vatten']\n",
      "['87', 'Dewgong', 'Vatten/Is']\n",
      "['88', 'Grimer', 'Gift']\n",
      "['89', 'Muk', 'Gift']\n",
      "['90', 'Shellder', 'Vatten']\n",
      "['91', 'Cloyster', 'Vatten/Is']\n",
      "['92', 'Gastly', 'SpÃ¶ke/Gift']\n",
      "['93', 'Haunter', 'SpÃ¶ke/Gift']\n",
      "['94', 'Gengar', 'SpÃ¶ke/Gift']\n",
      "['95', 'Onix', 'Sten/Mark']\n",
      "['96', 'Drowzee', 'Psykisk']\n",
      "['97', 'Hypno', 'Psykisk']\n",
      "['98', 'Krabby', 'Vatten']\n",
      "['99', 'Kingler', 'Vatten']\n",
      "['100', 'Voltorb', 'Elektrisk']\n",
      "['101', 'Electrode', 'Elektrisk']\n",
      "['102', 'Exeggcute', 'GrÃ¤s/Psykisk']\n",
      "['103', 'Exeggutor', 'GrÃ¤s/Psykisk']\n",
      "['104', 'Cubone', 'Mark']\n",
      "['105', 'Marowak', 'Mark']\n",
      "['106', 'Hitmonlee', 'Kamp']\n",
      "['107', 'Hitmonchan', 'Kamp']\n",
      "['108', 'Lickitung', 'Normal']\n",
      "['109', 'Koffing', 'Gift']\n",
      "['110', 'Weezing', 'Gift']\n",
      "['111', 'Rhyhorn', 'Mark/Sten']\n",
      "['112', 'Rhydon', 'Mark/Sten']\n",
      "['113', 'Chansey', 'Normal']\n",
      "['114', 'Tangela', 'GrÃ¤s']\n",
      "['115', 'Kangaskhan', 'Normal']\n",
      "['116', 'Horsea', 'Vatten']\n",
      "['117', 'Seadra', 'Vatten']\n",
      "['118', 'Goldeen', 'Vatten']\n",
      "['119', 'Seaking', 'Vatten']\n",
      "['120', 'Staryu', 'Vatten']\n",
      "['121', 'Starmie', 'Vatten/Psykisk']\n",
      "['122', 'Mr.', 'Mime', 'Psykisk']\n",
      "['123', 'Scyther', 'Insekt/Flygande']\n",
      "['124', 'Jynx', 'Is/Psykisk']\n",
      "['125', 'Electabuzz', 'Elektrisk']\n",
      "['126', 'Magmar', 'Eld']\n",
      "['127', 'Pinsir', 'Insekt']\n",
      "['128', 'Tauros', 'Normal']\n",
      "['129', 'Magikarp', 'Vatten']\n",
      "['130', 'Gyarados', 'Vatten/Flygande']\n",
      "['131', 'Lapras', 'Vatten/Is']\n",
      "['132', 'Ditto', 'Normal']\n",
      "['133', 'Eevee', 'Normal']\n",
      "['134', 'Vaporeon', 'Vatten']\n",
      "['135', 'Jolteon', 'Elektrisk']\n",
      "['136', 'Flareon', 'Eld']\n",
      "['137', 'Porygon', 'Normal']\n",
      "['138', 'Omanyte', 'Sten/Vatten']\n",
      "['139', 'Omastar', 'Sten/Vatten']\n",
      "['140', 'Kabuto', 'Sten/Vatten']\n",
      "['141', 'Kabutops', 'Sten/Vatten']\n",
      "['142', 'Aerodactyl', 'Sten/Flygande']\n",
      "['143', 'Snorlax', 'Normal']\n",
      "['144', 'Articuno', 'Is/Flygande']\n",
      "['145', 'Zapdos', 'Elektrisk/Flygande']\n",
      "['146', 'Moltres', 'Eld/Flygande']\n",
      "['147', 'Dratini', 'Drake']\n",
      "['148', 'Dragonair', 'Drake']\n",
      "['149', 'Dragonite', 'Drake/Flygande']\n",
      "['150', 'Mewtwo', 'Psykisk']\n"
     ]
    },
    {
     "data": {
      "text/plain": [
       "'Psykisk, 65'"
      ]
     },
     "execution_count": 18,
     "metadata": {},
     "output_type": "execute_result"
    }
   ],
   "source": [
    "# Alt för att hantera att sista raden är tom\n",
    "pokedex = {}\n",
    "\n",
    "with open (\"../Data/pokemon_list.txt\", \"r\") as file:\n",
    "    for line in file:\n",
    "        line = line.split()\n",
    "        print(line)\n",
    "        if len(line) == 3:\n",
    "            (index, pokemon, characteristic) = line\n",
    "            pokedex[pokemon] = (characteristic, index)\n",
    "        \n",
    "\n",
    "pokedex[\"Alakazam\"]\n",
    "\", \".join(pokedex[\"Alakazam\"])\n",
    "# print(pokedex)\n"
   ]
  }
 ],
 "metadata": {
  "kernelspec": {
   "display_name": "Python 3.9.13 ('Python-Dorota-Bjoorn-uzahzrwe')",
   "language": "python",
   "name": "python3"
  },
  "language_info": {
   "codemirror_mode": {
    "name": "ipython",
    "version": 3
   },
   "file_extension": ".py",
   "mimetype": "text/x-python",
   "name": "python",
   "nbconvert_exporter": "python",
   "pygments_lexer": "ipython3",
   "version": "3.9.13"
  },
  "orig_nbformat": 4,
  "vscode": {
   "interpreter": {
    "hash": "5a42c404417d75b6068b47c895b5f82ed1ebeda4880f3472a880a0dea30e7469"
   }
  }
 },
 "nbformat": 4,
 "nbformat_minor": 2
}
