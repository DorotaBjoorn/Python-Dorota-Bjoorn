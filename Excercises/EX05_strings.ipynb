{
 "cells": [
  {
   "cell_type": "markdown",
   "metadata": {},
   "source": [
    "#### 1"
   ]
  },
  {
   "cell_type": "code",
   "execution_count": 9,
   "metadata": {},
   "outputs": [
    {
     "name": "stdout",
     "output_type": "stream",
     "text": [
      "Your word Tis is 3 letters\n"
     ]
    }
   ],
   "source": [
    "#a\n",
    "\n",
    "user_word = input(\"Enter a word\")\n",
    "print(f\"Your word {user_word} contains {len(user_word)} letters\")"
   ]
  },
  {
   "cell_type": "code",
   "execution_count": 30,
   "metadata": {},
   "outputs": [
    {
     "name": "stdout",
     "output_type": "stream",
     "text": [
      "DMPEOGÖEmapoerifr\n",
      "7\n",
      "9\n",
      "Your word DMPEOGÖEmapoerifr has 7 lower case letters and 9 upper case letters\n"
     ]
    }
   ],
   "source": [
    "#b\n",
    "import re\n",
    "\n",
    "user_word = input(\"Enter a word\")\n",
    "count_lower = re.findall(\"[A-Z]\", user_word) # En lista med alla stora bokstäver\n",
    "count_upper = re.findall(\"[a-z]\", user_word)\n",
    "\n",
    "print(user_word)\n",
    "print(len(count_lower))\n",
    "print(len(count_upper))\n",
    "\n",
    "# ??????????? Hur kan jag skiva så att user word skivs ut inom citationstecken?\n",
    "print(f\"Your word {user_word} has {len(count_lower)} lower case letters and {len(count_upper)} upper case letters\")"
   ]
  },
  {
   "cell_type": "markdown",
   "metadata": {},
   "source": [
    "#### 2"
   ]
  },
  {
   "cell_type": "code",
   "execution_count": 40,
   "metadata": {},
   "outputs": [
    {
     "name": "stdout",
     "output_type": "stream",
     "text": [
      "Your sencence is 17 words\n",
      "['A', 'picture', 'says', 'more', 'than', 'a', 'tousands', 'words,', 'a', 'matematical', 'forumal', 'says', 'more', 'that', 'a', 'tnousand', 'pictures']\n"
     ]
    }
   ],
   "source": [
    "sentence = \"A picture says more than a tousands words, a matematical forumal says more that a tnousand pictures\"\n",
    "sentence_list = sentence.split()\n",
    "print(f\"Your sencence is {len(sentence_list)} words\")\n",
    "print(sentence_list)"
   ]
  },
  {
   "cell_type": "markdown",
   "metadata": {},
   "source": [
    "#### 3"
   ]
  },
  {
   "cell_type": "code",
   "execution_count": 39,
   "metadata": {},
   "outputs": [
    {
     "name": "stdout",
     "output_type": "stream",
     "text": [
      "Your sentence is a palindrome\n"
     ]
    }
   ],
   "source": [
    "user_sentence = input(\"Enter a sentence\")\n",
    "backward_sentence = user_sentence[::-1]\n",
    "\n",
    "if user_sentence == backward_sentence:\n",
    "    print(\"Your sentence is a palindrome\")\n",
    "else:\n",
    "    print(\"Your sentence is not a palindrome\")"
   ]
  },
  {
   "cell_type": "markdown",
   "metadata": {},
   "source": [
    "#### 4"
   ]
  },
  {
   "cell_type": "code",
   "execution_count": 61,
   "metadata": {},
   "outputs": [
    {
     "name": "stdout",
     "output_type": "stream",
     "text": [
      "u, e, a, e, a, i, i, i, i, a, y, e, o, e, y, o, o, i, a, i, e, a, \n",
      "This sentence has 22 vowels\n"
     ]
    }
   ],
   "source": [
    "sentence = \"Pure mathematis is, in its way, the poetry of logical ideas\"\n",
    "vowels = \"aeiuoy\"\n",
    "i = 0\n",
    "\n",
    "for letter in sentence:\n",
    "    for vowel in vowels:\n",
    "        if letter == vowel:\n",
    "            print(letter, end=\", \") # end=\", \" gör att bokstäverna skivs ut på samma rad\n",
    "            i += 1\n",
    "\n",
    "print() #för att få radbrytning efter a så att i hamnar på egen rad\n",
    "print(f\"This sentence has {i} vowels\")\n",
    "        "
   ]
  }
 ],
 "metadata": {
  "kernelspec": {
   "display_name": "Python 3.9.13 ('Python-Dorota-Bjoorn-uzahzrwe')",
   "language": "python",
   "name": "python3"
  },
  "language_info": {
   "codemirror_mode": {
    "name": "ipython",
    "version": 3
   },
   "file_extension": ".py",
   "mimetype": "text/x-python",
   "name": "python",
   "nbconvert_exporter": "python",
   "pygments_lexer": "ipython3",
   "version": "3.9.13"
  },
  "orig_nbformat": 4,
  "vscode": {
   "interpreter": {
    "hash": "5a42c404417d75b6068b47c895b5f82ed1ebeda4880f3472a880a0dea30e7469"
   }
  }
 },
 "nbformat": 4,
 "nbformat_minor": 2
}
