{
 "cells": [
  {
   "cell_type": "markdown",
   "metadata": {},
   "source": [
    "#### 1"
   ]
  },
  {
   "cell_type": "code",
   "execution_count": 9,
   "metadata": {},
   "outputs": [
    {
     "name": "stdout",
     "output_type": "stream",
     "text": [
      "Your word Tis is 3 letters\n"
     ]
    }
   ],
   "source": [
    "#a\n",
    "\n",
    "user_word = input(\"Enter a word\")\n",
    "print(f\"Your word {user_word} contains {len(user_word)} letters\")"
   ]
  },
  {
   "cell_type": "code",
   "execution_count": 30,
   "metadata": {},
   "outputs": [
    {
     "name": "stdout",
     "output_type": "stream",
     "text": [
      "DMPEOGÖEmapoerifr\n",
      "7\n",
      "9\n",
      "Your word DMPEOGÖEmapoerifr has 7 lower case letters and 9 upper case letters\n"
     ]
    }
   ],
   "source": [
    "#b\n",
    "import re\n",
    "\n",
    "user_word = input(\"Enter a word\")\n",
    "count_lower = re.findall(\"[A-Z]\", user_word) # En lista med alla stora bokstäver\n",
    "count_upper = re.findall(\"[a-z]\", user_word)\n",
    "\n",
    "print(user_word)\n",
    "print(len(count_lower))\n",
    "print(len(count_upper))\n",
    "\n",
    "# ??????????? Hur kan jag skiva så att user word skivs ut inom citationstecken?\n",
    "print(f\"Your word {user_word} has {len(count_lower)} lower case letters and {len(count_upper)} upper case letters\")"
   ]
  },
  {
   "cell_type": "markdown",
   "metadata": {},
   "source": [
    "#### 2"
   ]
  },
  {
   "cell_type": "markdown",
   "metadata": {},
   "source": []
  }
 ],
 "metadata": {
  "kernelspec": {
   "display_name": "Python 3.9.13 ('Python-Dorota-Bjoorn-uzahzrwe')",
   "language": "python",
   "name": "python3"
  },
  "language_info": {
   "codemirror_mode": {
    "name": "ipython",
    "version": 3
   },
   "file_extension": ".py",
   "mimetype": "text/x-python",
   "name": "python",
   "nbconvert_exporter": "python",
   "pygments_lexer": "ipython3",
   "version": "3.9.13"
  },
  "orig_nbformat": 4,
  "vscode": {
   "interpreter": {
    "hash": "5a42c404417d75b6068b47c895b5f82ed1ebeda4880f3472a880a0dea30e7469"
   }
  }
 },
 "nbformat": 4,
 "nbformat_minor": 2
}
