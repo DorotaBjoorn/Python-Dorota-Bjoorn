{
 "cells": [
  {
   "cell_type": "markdown",
   "metadata": {},
   "source": [
    "#### 1"
   ]
  },
  {
   "cell_type": "code",
   "execution_count": 16,
   "metadata": {},
   "outputs": [
    {
     "name": "stdout",
     "output_type": "stream",
     "text": [
      "25.0\n"
     ]
    }
   ],
   "source": [
    "\n",
    "def triangel_area(base, hight):\n",
    "    return (base*hight)/2\n",
    "\n",
    "print(triangel_area(5, 10))\n"
   ]
  },
  {
   "cell_type": "markdown",
   "metadata": {},
   "source": [
    "#### 2"
   ]
  },
  {
   "cell_type": "code",
   "execution_count": 9,
   "metadata": {},
   "outputs": [
    {
     "name": "stdout",
     "output_type": "stream",
     "text": [
      "2.8284271247461903\n"
     ]
    }
   ],
   "source": [
    "#a\n",
    "\n",
    "import math\n",
    "\n",
    "def euc_distance(p1, p2, q1, q2):\n",
    "    return (math.sqrt((p1-q1)**2+(p2-q2)**2))\n",
    "\n",
    "print(euc_distance(1,2,3,4))"
   ]
  },
  {
   "cell_type": "code",
   "execution_count": 11,
   "metadata": {},
   "outputs": [
    {
     "name": "stdout",
     "output_type": "stream",
     "text": [
      "2.8284271247461903\n"
     ]
    }
   ],
   "source": [
    "#b\n",
    "\n",
    "# GÖR OM SÅ ATT ANÄVNDAREN ANGER BARA 2 PUNKTER, dvs p1 o p2 i en inmatning och q1 o q2 i en annan inmatning\n",
    "p1 = float(input(\"Type in p1\")) \n",
    "p2 = float(input(\"Type in p2\"))\n",
    "q1 = float(input(\"Type in q1\"))\n",
    "q2 = float(input(\"Type in q2\"))\n",
    "\n",
    "print(euc_distance(p1, p2, q1, q2))"
   ]
  },
  {
   "cell_type": "code",
   "execution_count": 20,
   "metadata": {},
   "outputs": [
    {
     "name": "stdout",
     "output_type": "stream",
     "text": [
      "<function euc_distance at 0x000002AE3C9D9CA0>\n"
     ]
    }
   ],
   "source": [
    "#c\n",
    "# #??????????? är detta ett vettogt upplägg?\n",
    "p_p1 = [0,0,0,0,0]\n",
    "p_p2 = [0,0,0,0,0]\n",
    "q_q1 = [10, -1, 10, 4, 9]\n",
    "q_q2 = [3, -9, -10, -2, -10]\n",
    "\n",
    "for (p1, p2, q1, q2) in zip(p_p1, p_p2, q_q1, q_q2):\n",
    "    euc_distance(p1, p2, q1, q2)\n",
    "\n",
    "print(euc_distance)\n"
   ]
  },
  {
   "cell_type": "markdown",
   "metadata": {},
   "source": []
  }
 ],
 "metadata": {
  "kernelspec": {
   "display_name": "Python 3.9.13 64-bit (system)",
   "language": "python",
   "name": "python3"
  },
  "language_info": {
   "codemirror_mode": {
    "name": "ipython",
    "version": 3
   },
   "file_extension": ".py",
   "mimetype": "text/x-python",
   "name": "python",
   "nbconvert_exporter": "python",
   "pygments_lexer": "ipython3",
   "version": "3.9.13"
  },
  "orig_nbformat": 4,
  "vscode": {
   "interpreter": {
    "hash": "28ee99f6a7aea1b12ac9ee24ec50cb70bed218d1abf73fd9933c4d88810e27ea"
   }
  }
 },
 "nbformat": 4,
 "nbformat_minor": 2
}
