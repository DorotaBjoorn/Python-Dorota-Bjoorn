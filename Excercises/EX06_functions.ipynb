{
 "cells": [
  {
   "cell_type": "markdown",
   "metadata": {},
   "source": [
    "#### 1"
   ]
  },
  {
   "cell_type": "code",
   "execution_count": 1,
   "metadata": {},
   "outputs": [
    {
     "name": "stdout",
     "output_type": "stream",
     "text": [
      "25.0\n"
     ]
    }
   ],
   "source": [
    "\n",
    "def triangel_area(base, hight):\n",
    "    return (base*hight)/2\n",
    "\n",
    "print(triangel_area(5, 10))\n"
   ]
  },
  {
   "cell_type": "markdown",
   "metadata": {},
   "source": [
    "#### 2"
   ]
  },
  {
   "cell_type": "code",
   "execution_count": 2,
   "metadata": {},
   "outputs": [
    {
     "name": "stdout",
     "output_type": "stream",
     "text": [
      "2.8284271247461903\n"
     ]
    }
   ],
   "source": [
    "#a\n",
    "\n",
    "import math\n",
    "\n",
    "def euc_distance(p1, p2, q1, q2):\n",
    "    return (math.sqrt((p1-q1)**2+(p2-q2)**2))\n",
    "\n",
    "print(euc_distance(1,2,3,4))"
   ]
  },
  {
   "cell_type": "code",
   "execution_count": 3,
   "metadata": {},
   "outputs": [
    {
     "name": "stdout",
     "output_type": "stream",
     "text": [
      "[1, 2]\n",
      "[3, 4]\n",
      "Distance between [1, 2] and [3, 4] is 2.83\n"
     ]
    }
   ],
   "source": [
    "#a\n",
    "\n",
    "import math\n",
    "\n",
    "point1 = [1, 2]\n",
    "point2 = [3, 4]\n",
    "\n",
    "def euc_distance(point1, point2):\n",
    "    print(point1)\n",
    "    print(point2)\n",
    "    return (math.sqrt((point1[0]-point2[0])**2+(point1[1]-point2[1])**2))\n",
    "\n",
    "\n",
    "print(f\"Distance between {point1} and {point2} is {euc_distance(point1, point2):.2f}\")"
   ]
  },
  {
   "cell_type": "code",
   "execution_count": 4,
   "metadata": {},
   "outputs": [
    {
     "name": "stdout",
     "output_type": "stream",
     "text": [
      "[1, 2]\n",
      "[3, 4]\n",
      "Distance between [1, 2] and [3, 4] is 2.83\n"
     ]
    }
   ],
   "source": [
    "#b\n",
    "\n",
    "point1_input = input(\"Define 1st point: (p1,p2)\")\n",
    "point2_input = input(\"Define 2nd point: (q1,q2)\")\n",
    "\n",
    "def euc_distance(point1, point2):\n",
    "    point1 = [int(p) for p in point1_input.split(\",\")]\n",
    "    point2 = [int(q) for q in point2_input.split(\",\")]\n",
    "    return (math.sqrt((point1[0]-point2[0])**2+(point1[1]-point2[1])**2))\n",
    "\n",
    "print(point1)\n",
    "print(point2)\n",
    "print(f\"Distance between {point1} and {point2} is {euc_distance(point1, point2):.2f}\")"
   ]
  },
  {
   "cell_type": "code",
   "execution_count": 5,
   "metadata": {},
   "outputs": [
    {
     "name": "stdout",
     "output_type": "stream",
     "text": [
      "[0, 0]\n",
      "[[10, 3], [-1, -9], [10, -10], [4, -2], [9, -10]]\n",
      "Distance between [0, 0] and [[10, 3], [-1, -9], [10, -10], [4, -2], [9, -10]] is [10.44, 9.06, 14.14, 4.47, 13.45]\n"
     ]
    }
   ],
   "source": [
    "#c\n",
    "\n",
    "point1 = [0, 0]\n",
    "point2 = [[10,3], [-1,-9], [10,-10], [4,-2], [9,-10]]\n",
    "\n",
    "def euc_distance(point1, point2):\n",
    "    distances = []\n",
    "    for i in range(len(point2)):\n",
    "        distance = math.sqrt((point1[0]-point2[i][0])**2+(point1[1]-point2[i][1])**2)\n",
    "        distance = round(distance, 2) #för att få 2 decimaler (går ej att anävnda :.2f i strängen nedan)\n",
    "        distances.append(distance)\n",
    "    return distances\n",
    "\n",
    "print(point1)\n",
    "print(point2)\n",
    "print(f\"Distance between {point1} and {point2} is {euc_distance(point1, point2)}\")"
   ]
  },
  {
   "cell_type": "markdown",
   "metadata": {},
   "source": [
    "#### 3"
   ]
  },
  {
   "cell_type": "code",
   "execution_count": 3,
   "metadata": {},
   "outputs": [
    {
     "name": "stdout",
     "output_type": "stream",
     "text": [
      "[97, 78, 61, 46, 33, 22, 13, 6, 1, -2, -3, -2, 1, 6, 13, 22, 33, 46, 61, 78, 97] [-47, -43, -39, -35, -31, -27, -23, -19, -15, -11, -7, -3, 1, 5, 9, 13, 17, 21, 25, 29, 33]\n"
     ]
    },
    {
     "data": {
      "text/plain": [
       "[<matplotlib.lines.Line2D at 0x2470fd3b310>]"
      ]
     },
     "execution_count": 3,
     "metadata": {},
     "output_type": "execute_result"
    },
    {
     "data": {
      "image/png": "[encoded data removed]",
      "text/plain": [
       "<Figure size 640x480 with 1 Axes>"
      ]
     },
     "metadata": {},
     "output_type": "display_data"
    }
   ],
   "source": [
    "import matplotlib.pyplot as plt\n",
    "\n",
    "def f():\n",
    "    f_values = []\n",
    "    for x in range (-10, 11):\n",
    "        f = x**2 - 3\n",
    "        f_values.append(f)\n",
    "    return(f_values)\n",
    "\n",
    "def g():\n",
    "    g_values = []\n",
    "    for x in range (-10, 11):\n",
    "        g = 4*x - 7\n",
    "        g_values.append(g)\n",
    "    return(g_values)\n",
    "\n",
    "# GENERERA X LISTA MHA NUMPY\n",
    "\n",
    "print(f(), g())\n",
    "\n",
    "#PLOTTA F O G I SAMMA PLOTT - HUR?\n",
    "plt.plot(f())"
   ]
  }
 ],
 "metadata": {
  "kernelspec": {
   "display_name": "Python 3.9.13 ('Python-Dorota-Bjoorn-uzahzrwe')",
   "language": "python",
   "name": "python3"
  },
  "language_info": {
   "codemirror_mode": {
    "name": "ipython",
    "version": 3
   },
   "file_extension": ".py",
   "mimetype": "text/x-python",
   "name": "python",
   "nbconvert_exporter": "python",
   "pygments_lexer": "ipython3",
   "version": "3.9.13"
  },
  "orig_nbformat": 4,
  "vscode": {
   "interpreter": {
    "hash": "5a42c404417d75b6068b47c895b5f82ed1ebeda4880f3472a880a0dea30e7469"
   }
  }
 },
 "nbformat": 4,
 "nbformat_minor": 2
}
