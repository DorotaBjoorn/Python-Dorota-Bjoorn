{
 "cells": [
  {
   "cell_type": "markdown",
   "metadata": {},
   "source": [
    "#### 1"
   ]
  },
  {
   "cell_type": "code",
   "execution_count": 16,
   "metadata": {},
   "outputs": [
    {
     "name": "stdout",
     "output_type": "stream",
     "text": [
      "25.0\n"
     ]
    }
   ],
   "source": [
    "\n",
    "def triangel_area(base, hight):\n",
    "    return (base*hight)/2\n",
    "\n",
    "print(triangel_area(5, 10))\n"
   ]
  },
  {
   "cell_type": "markdown",
   "metadata": {},
   "source": [
    "#### 2"
   ]
  },
  {
   "cell_type": "code",
   "execution_count": 21,
   "metadata": {},
   "outputs": [
    {
     "name": "stdout",
     "output_type": "stream",
     "text": [
      "2.8284271247461903\n"
     ]
    }
   ],
   "source": [
    "#a\n",
    "\n",
    "import math\n",
    "\n",
    "def euc_distance(p1, p2, q1, q2):\n",
    "    return (math.sqrt((p1-q1)**2+(p2-q2)**2))\n",
    "\n",
    "print(euc_distance(1,2,3,4))"
   ]
  },
  {
   "cell_type": "code",
   "execution_count": 52,
   "metadata": {},
   "outputs": [
    {
     "name": "stdout",
     "output_type": "stream",
     "text": [
      "[1, 2]\n",
      "[3, 4]\n",
      "Distance between [1, 2] and [3, 4] is 2.83\n"
     ]
    }
   ],
   "source": [
    "#a\n",
    "\n",
    "import math\n",
    "\n",
    "point1 = [1, 2]\n",
    "point2 = [3, 4]\n",
    "\n",
    "def euc_distance(point1, point2):\n",
    "    print(point1)\n",
    "    print(point2)\n",
    "    return (math.sqrt((point1[0]-point2[0])**2+(point1[1]-point2[1])**2))\n",
    "\n",
    "\n",
    "print(f\"Distance between {point1} and {point2} is {euc_distance(point1, point2):.2f}\")"
   ]
  },
  {
   "cell_type": "code",
   "execution_count": 57,
   "metadata": {},
   "outputs": [
    {
     "name": "stdout",
     "output_type": "stream",
     "text": [
      "[1, 2]\n",
      "[3, 4]\n",
      "Distance between [1, 2] and [3, 4] is 2.83\n"
     ]
    }
   ],
   "source": [
    "#b\n",
    "\n",
    "point1_input = input(\"Define 1st point: (p1,p2)\")\n",
    "point2_input = input(\"Define 2nd point: (q1,q2)\")\n",
    "\n",
    "def euc_distance(point1, point2):\n",
    "    point1 = [int(p) for p in point1_input.split(\",\")]\n",
    "    point2 = [int(q) for q in point2_input.split(\",\")]\n",
    "    return (math.sqrt((point1[0]-point2[0])**2+(point1[1]-point2[1])**2))\n",
    "\n",
    "print(point1)\n",
    "print(point2)\n",
    "print(f\"Distance between {point1} and {point2} is {euc_distance(point1, point2):.2f}\")"
   ]
  },
  {
   "cell_type": "code",
   "execution_count": 75,
   "metadata": {},
   "outputs": [
    {
     "name": "stdout",
     "output_type": "stream",
     "text": [
      "[0, 0]\n",
      "[[10, 3], [-1, -9], [10, -10], [4, -2], [9, -10]]\n",
      "Distance between [0, 0] and [[10, 3], [-1, -9], [10, -10], [4, -2], [9, -10]] is [10.44, 9.06, 14.14, 4.47, 13.45]\n"
     ]
    }
   ],
   "source": [
    "#c\n",
    "\n",
    "point1 = [0, 0]\n",
    "point2 = [[10,3], [-1,-9], [10,-10], [4,-2], [9,-10]]\n",
    "\n",
    "def euc_distance(point1, point2):\n",
    "    distances = []\n",
    "    for i in range(len(point2)):\n",
    "        distance = math.sqrt((point1[0]-point2[i][0])**2+(point1[1]-point2[i][1])**2)\n",
    "        distance = round(distance, 2) #för att få 2 decimaler (går ej att anävnda :.2f i strängen nedan)\n",
    "        distances.append(distance)\n",
    "    return distances\n",
    "\n",
    "print(point1)\n",
    "print(point2)\n",
    "print(f\"Distance between {point1} and {point2} is {euc_distance(point1, point2)}\")"
   ]
  },
  {
   "cell_type": "markdown",
   "metadata": {},
   "source": []
  }
 ],
 "metadata": {
  "kernelspec": {
   "display_name": "Python 3.9.13 64-bit (system)",
   "language": "python",
   "name": "python3"
  },
  "language_info": {
   "codemirror_mode": {
    "name": "ipython",
    "version": 3
   },
   "file_extension": ".py",
   "mimetype": "text/x-python",
   "name": "python",
   "nbconvert_exporter": "python",
   "pygments_lexer": "ipython3",
   "version": "3.9.13"
  },
  "orig_nbformat": 4,
  "vscode": {
   "interpreter": {
    "hash": "28ee99f6a7aea1b12ac9ee24ec50cb70bed218d1abf73fd9933c4d88810e27ea"
   }
  }
 },
 "nbformat": 4,
 "nbformat_minor": 2
}
