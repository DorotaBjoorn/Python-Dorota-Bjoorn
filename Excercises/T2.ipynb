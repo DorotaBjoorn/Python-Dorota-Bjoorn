{
 "cells": [
  {
   "cell_type": "code",
   "execution_count": 1,
   "metadata": {},
   "outputs": [
    {
     "name": "stdout",
     "output_type": "stream",
     "text": [
      "e\n"
     ]
    }
   ],
   "source": [
    "#1\n",
    "\n",
    "frukter = [\"jordgubbe\", \"vindruva\", \"grape\"]\n",
    "godfrukt = frukter[2]\n",
    "print(godfrukt[-1])"
   ]
  },
  {
   "cell_type": "code",
   "execution_count": 89,
   "metadata": {},
   "outputs": [
    {
     "name": "stdout",
     "output_type": "stream",
     "text": [
      " x   o  o \n",
      " x  x   o \n",
      " x  x  x  \n"
     ]
    }
   ],
   "source": [
    "#2\n",
    "\n",
    "def func(n):\n",
    "    for i in range(1,n+1):                  #måste skriva range på det här sättet för att börja på 1 och sluta på n\n",
    "        print (\" x \"*i,\" o \"*(n-i))\n",
    "        i += 1\n",
    "\n",
    "func(3)"
   ]
  },
  {
   "cell_type": "code",
   "execution_count": 96,
   "metadata": {},
   "outputs": [
    {
     "name": "stdout",
     "output_type": "stream",
     "text": [
      "Radus must be an int and not <class 'str'>\n",
      "Radius must be larger than 0\n",
      "Your input gives volume 61.575216010359945\n"
     ]
    }
   ],
   "source": [
    "#3\n",
    "\n",
    "from math import pi\n",
    "\n",
    "def volume(r, h):   \n",
    "    v = pi * r **2 * h\n",
    "    return v\n",
    "\n",
    "while True:\n",
    "    r = input(\"Give radius\")\n",
    "    try:\n",
    "        r = float(r)\n",
    "        if r <= 0:\n",
    "            print (\"Radius must be larger than 0\")\n",
    "        else:\n",
    "            break\n",
    "    except ValueError:\n",
    "        print (f\"Radus must be an int and not {type(r)}\")\n",
    "\n",
    "while True:\n",
    "    h = input(\"Give hight\")\n",
    "    try:\n",
    "        h = float(h)\n",
    "        if h <= 0:\n",
    "            print (\"Hight must be larger than 0\")\n",
    "        else:\n",
    "            break\n",
    "    except ValueError:\n",
    "        print (f\"Hight must be an int and not {type(r)}\")\n",
    "\n",
    "\n",
    "\n",
    "user_volume = volume(r, h)\n",
    "print(f\"Your input {r} and {h} gives volume {user_volume}\")"
   ]
  },
  {
   "cell_type": "code",
   "execution_count": 99,
   "metadata": {},
   "outputs": [
    {
     "name": "stdout",
     "output_type": "stream",
     "text": [
      "Your input 5.0 and 6.0 gives volume 471.23889803846896\n"
     ]
    }
   ],
   "source": [
    "#3 alt2 med en while loop for båda inputten\n",
    "\n",
    "from math import pi\n",
    "\n",
    "def volume(r, h):   \n",
    "    v = pi * r ** 2 * h\n",
    "    return v\n",
    "\n",
    "def user_input(prompt):\n",
    "    while True:\n",
    "        value = input(prompt)\n",
    "        try:\n",
    "            value = float(value)\n",
    "            if value <= 0:\n",
    "                print (\"Value must be larger than 0\")\n",
    "            else:\n",
    "                break\n",
    "        except ValueError:\n",
    "            print (f\"Value must be an int and not {type(value)}\")\n",
    "    return value                                                        # OBS glöm inte returnera\n",
    "\n",
    "# kör funktionerna för input\n",
    "r = user_input(\"Give radius\")\n",
    "h = user_input(\"Give hight\")\n",
    "\n",
    "# kör funktionen för att räkna ut volymen\n",
    "user_volume = volume(r, h)\n",
    "print(f\"Your input {r} and {h} gives volume {user_volume}\")"
   ]
  },
  {
   "cell_type": "code",
   "execution_count": 131,
   "metadata": {},
   "outputs": [
    {
     "name": "stdout",
     "output_type": "stream",
     "text": [
      "v42\n",
      "Mån:   Chili sin carne\n",
      "Tis:   Pannkakor\n",
      "Ons:   Ã„rtsoppa\n",
      "Tor:   Kebab\n",
      "Fre:   Vegetarisk lasagne"
     ]
    }
   ],
   "source": [
    "#4\n",
    "\n",
    "with open(\"../Data/bamba.txt\", \"r\") as file:\n",
    "    all_lines = file.readlines()\n",
    "\n",
    "    week_number =  all_lines[0] # 1a raden bara\n",
    "    foods_list = all_lines[1:]   # från 2a raden, obs!ingen while loop behövs\n",
    "    days_list = [\"Mån:\", \"Tis:\", \"Ons:\", \"Tor:\", \"Fre:\"]\n",
    "\n",
    "    print(week_number, end=\"\")\n",
    "    for day, food in zip(days_list, foods_list):\n",
    "        print(f\"{day}   {food}\", end=\"\")"
   ]
  },
  {
   "cell_type": "code",
   "execution_count": 24,
   "metadata": {},
   "outputs": [
    {
     "name": "stdout",
     "output_type": "stream",
     "text": [
      "v42\n",
      "Mån:   Chili sin carne\n",
      "Tis:   Pannkakor\n",
      "Ons:   Ã„rtsoppa\n",
      "Tor:   Kebab\n",
      "Fre:   Vegetarisk lasagne\n"
     ]
    }
   ],
   "source": [
    "#4 igen med ???????????????????????\n",
    "\n",
    "with open (\"../Data/bamba.txt\", \"r\") as file:\n",
    "    \n",
    "    line_list = file.readlines()\n",
    "    line_list_new = []\n",
    "    for line in line_list:\n",
    "        striped_line = line.strip(\"\\n\")\n",
    "        line_list_new.append(striped_line)\n",
    "\n",
    "   # line_list = [line.strip(\"\\n\") for line in file.readlines()] #denna funkar, ????????????varför funkar inte att göra som ovan?\n",
    "\n",
    "    week_number = line_list_new[0]\n",
    "    foods = line_list_new[1:]\n",
    "    week_days = [\"Mån:\", \"Tis:\", \"Ons:\", \"Tor:\", \"Fre:\"]\n",
    "\n",
    "print(week_number)\n",
    "\n",
    "for day, food in zip(week_days, foods):\n",
    "    print(f\"{day}   {food}\")"
   ]
  },
  {
   "cell_type": "code",
   "execution_count": 85,
   "metadata": {},
   "outputs": [
    {
     "name": "stdout",
     "output_type": "stream",
     "text": [
      "tusenlapp: 5\n",
      "femhundralapp: 1\n",
      "tvåhundralapp: 1\n",
      "hundralapp: 1\n",
      "tjugolapp: 1\n",
      "tiokrona: 1\n",
      "tvåkrona: 1\n"
     ]
    }
   ],
   "source": [
    "#5\n",
    "\n",
    "def fortune(fortune):\n",
    "    notes = {1000: 0, 500: 0, 200: 0, 100: 0, 50: 0, 20: 0, 10: 0, 5: 0, 2: 0, 1: 0}\n",
    "    note_names = [\"tusenlapp\", \"femhundralapp\", \"tvåhundralapp\", \"hundralapp\", \"femtiolapp\", \"tjugolapp\", \"tiokrona\", \"femkrona\", \"tvåkrona\", \"enkrona\"]\n",
    "\n",
    "    for note in notes:\n",
    "        notes[note] = fortune//note\n",
    "        fortune = fortune % note\n",
    "\n",
    "    note_values = notes.values() #gör en lista med bara värden från notes dict\n",
    "    names_values_list = list(zip(note_names, note_values)) #zippar så får ((name, value), (name, value), ...) måste använda list() då zip returnerar tuple\n",
    "\n",
    "    for i in range (len(names_values_list)):\n",
    "        if names_values_list[i][1] != 0:\n",
    "            print(f\"{names_values_list[i][0]}: {names_values_list[i][1]}\")\n",
    "\n",
    "fortune(5832)"
   ]
  },
  {
   "cell_type": "code",
   "execution_count": 20,
   "metadata": {},
   "outputs": [],
   "source": [
    "#6\n",
    "class Animal:\n",
    "    def __init__(self, name):\n",
    "        self.name = name\n",
    " \n",
    "    def __repr__(self):\n",
    "        return f\"Animal {self.name}\"\n",
    "\n",
    "class Dog(Animal):\n",
    "    def __init__(self, name):\n",
    "       super().__init__(name)\n",
    "\n",
    "    def __repr__(self):\n",
    "        return f\"Dog: {self.name}\"\n",
    "\n",
    "class Fish(Animal):\n",
    "    def __init__ (self, name):\n",
    "        super().__init__(name)\n",
    "\n",
    "    def __repr__(self):\n",
    "        return f\"Fish: {self.name}\"\n",
    "\n",
    "class PetOwner:\n",
    "    def __init__ (self, name, dog_list = [], fish_list = []): # [] ifall det inte finns några sådana djur\n",
    "        self.name = name\n",
    "        if dog_list == []:\n",
    "            self.dog_list = \"\"\n",
    "        else:\n",
    "            self.dog_list = [Dog(dog_name) for dog_name in dog_list] #self.dog = Dog(dog_name) om inputten är bara dog_name och inte en lista\n",
    "        \n",
    "        if fish_list == []:\n",
    "            self.fish_list = \"\"\n",
    "        else:\n",
    "            self.fish_list = [Fish(fish_name) for fish_name in fish_list]\n",
    "    \n",
    "    def __repr__(self):\n",
    "        return (f\"{self.name} owns:\\n {self.dog_list}\\n{self.fish_list}\")"
   ]
  },
  {
   "cell_type": "code",
   "execution_count": 21,
   "metadata": {},
   "outputs": [
    {
     "name": "stdout",
     "output_type": "stream",
     "text": [
      "Ada owns:\n",
      " [Dog: Snoopy, Dog: Pluto]\n",
      "[Fish: Fishy, Fish: Buppy]\n",
      "Beda owns:\n",
      " [Dog: Barkly]\n",
      "\n",
      "Cesar owns:\n",
      " \n",
      "[Fish: g, Fish: u, Fish: p, Fish: p, Fish: y]\n"
     ]
    }
   ],
   "source": [
    "owner1 = PetOwner(\"Ada\",[\"Snoopy\", \"Pluto\"], [\"Fishy\", \"Buppy\"])\n",
    "owner2 = PetOwner(\"Beda\", [\"Barkly\"] )\n",
    "owner3 = PetOwner(\"Cesar\", [], \"guppy\")\n",
    "\n",
    "print(owner1)\n",
    "print(owner2)\n",
    "print(owner3)"
   ]
  },
  {
   "cell_type": "code",
   "execution_count": null,
   "metadata": {},
   "outputs": [],
   "source": [
    "class Animal:\n",
    "    def __init__(self, name):\n",
    "        self.name = name\n",
    "\n",
    "    def __repr__(self):\n",
    "        return f\"Animal {self.name}\"\n",
    "\n",
    "class Dog(Animal):\n",
    "    def __init (self, name):\n",
    "        super.__init__ (name)\n",
    "\n",
    "    def __repr__(self):\n",
    "        return f\"Dog: {self.name}\"\n",
    "\n",
    "class Fish(Animal):\n",
    "    def __init (self, name):\n",
    "        super.__init__ (name)\n",
    "\n",
    "    def __repr__(self):\n",
    "        return f\"Fish: {self.name}\"\n",
    "\n",
    "class PetOwner:\n"
   ]
  },
  {
   "cell_type": "code",
   "execution_count": null,
   "metadata": {},
   "outputs": [],
   "source": [
    "owner1 = PetOwner(\"Ada\",[\"Snoopy\", \"Pluto\"], [\"Fishy\", \"Buppy\"])\n",
    "owner2 = PetOwner(\"Beda\", [\"Barkly\"])\n",
    "print(owner1)\n",
    "print(owner2)\n"
   ]
  }
 ],
 "metadata": {
  "kernelspec": {
   "display_name": "Python 3.9.13 ('Python-Dorota-Bjoorn-uzahzrwe')",
   "language": "python",
   "name": "python3"
  },
  "language_info": {
   "codemirror_mode": {
    "name": "ipython",
    "version": 3
   },
   "file_extension": ".py",
   "mimetype": "text/x-python",
   "name": "python",
   "nbconvert_exporter": "python",
   "pygments_lexer": "ipython3",
   "version": "3.9.13"
  },
  "orig_nbformat": 4,
  "vscode": {
   "interpreter": {
    "hash": "5a42c404417d75b6068b47c895b5f82ed1ebeda4880f3472a880a0dea30e7469"
   }
  }
 },
 "nbformat": 4,
 "nbformat_minor": 2
}
