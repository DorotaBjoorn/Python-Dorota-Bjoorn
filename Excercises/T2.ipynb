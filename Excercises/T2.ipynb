{
 "cells": [
  {
   "cell_type": "code",
   "execution_count": 1,
   "metadata": {},
   "outputs": [
    {
     "name": "stdout",
     "output_type": "stream",
     "text": [
      "e\n"
     ]
    }
   ],
   "source": [
    "#1\n",
    "\n",
    "frukter = [\"jordgubbe\", \"vindruva\", \"grape\"]\n",
    "godfrukt = frukter[2]\n",
    "print(godfrukt[-1])"
   ]
  },
  {
   "cell_type": "code",
   "execution_count": 18,
   "metadata": {},
   "outputs": [
    {
     "name": "stdout",
     "output_type": "stream",
     "text": [
      "x    o  o  o  o  \n",
      "x   x    o  o  o  \n",
      "x   x   x    o  o  \n",
      "x   x   x   x    o  \n",
      "x   x   x   x   x    \n"
     ]
    }
   ],
   "source": [
    "#2\n",
    "\n",
    "def func(n):\n",
    "    for i in range(1,n+1):                  #måste skriva range på det här sättet för att börja på 1 och sluta på n\n",
    "        print (\"x   \"*i,\"o  \"*(n-i))\n",
    "        i += 1\n",
    "\n",
    "func(5)"
   ]
  },
  {
   "cell_type": "code",
   "execution_count": null,
   "metadata": {},
   "outputs": [],
   "source": [
    "#3"
   ]
  },
  {
   "cell_type": "code",
   "execution_count": null,
   "metadata": {},
   "outputs": [],
   "source": [
    "#4\n"
   ]
  },
  {
   "cell_type": "code",
   "execution_count": null,
   "metadata": {},
   "outputs": [],
   "source": [
    "#5\n"
   ]
  },
  {
   "cell_type": "code",
   "execution_count": 34,
   "metadata": {},
   "outputs": [],
   "source": [
    "#6\n",
    "class Animal:\n",
    "    def __init__(self, name):\n",
    "        self.name = name\n",
    " \n",
    "    def __repr__(self):\n",
    "        return f\"Animal {self.name}\"\n",
    "\n",
    "class Dog(Animal):\n",
    "    def __init__(self, name) -> None:\n",
    "       super().__init__(name)\n",
    "\n",
    "    def __repr__(self):\n",
    "        return f\"Dog: {self.name}\"\n",
    "\n",
    "class Fish(Animal):\n",
    "    def __init__ (self, name):\n",
    "        super().__init__(name)\n",
    "\n",
    "    def __repr__(self):\n",
    "        return f\"Fish: {self.name}\"\n",
    "\n",
    "class PetOwner:\n",
    "    def __init__ (self, name, dog_list = [], fish_list = []): # [] ifall det inte finns några sådana djur\n",
    "        self.name = name\n",
    "        if dog_list == []:\n",
    "            self.dog_list = \"\"\n",
    "        else:\n",
    "            self.dog_list = [Dog(dog_name) for dog_name in dog_list] #self.dog = Dog(dog_name) om inputten är bara dog_name och inte en lista\n",
    "        \n",
    "        if fish_list == []:\n",
    "            self.fish_list = \"\"\n",
    "        else:\n",
    "            self.fish_list = [Fish(fish_name) for fish_name in fish_list]\n",
    "    \n",
    "    def __repr__(self):\n",
    "        return (f\"{self.name} owns:\\n {self.dog_list}\\n{self.fish_list}\")"
   ]
  },
  {
   "cell_type": "code",
   "execution_count": 35,
   "metadata": {},
   "outputs": [
    {
     "name": "stdout",
     "output_type": "stream",
     "text": [
      "Aida owns:\n",
      " [Dog: dog1, Dog: dog2]\n",
      "\n"
     ]
    }
   ],
   "source": [
    "pet_owner1 = PetOwner(\"Aida\", [\"dog1\", \"dog2\"])\n",
    "print(pet_owner1)"
   ]
  }
 ],
 "metadata": {
  "kernelspec": {
   "display_name": "Python 3.9.13 ('Python-Dorota-Bjoorn-uzahzrwe')",
   "language": "python",
   "name": "python3"
  },
  "language_info": {
   "codemirror_mode": {
    "name": "ipython",
    "version": 3
   },
   "file_extension": ".py",
   "mimetype": "text/x-python",
   "name": "python",
   "nbconvert_exporter": "python",
   "pygments_lexer": "ipython3",
   "version": "3.9.13"
  },
  "orig_nbformat": 4,
  "vscode": {
   "interpreter": {
    "hash": "5a42c404417d75b6068b47c895b5f82ed1ebeda4880f3472a880a0dea30e7469"
   }
  }
 },
 "nbformat": 4,
 "nbformat_minor": 2
}
