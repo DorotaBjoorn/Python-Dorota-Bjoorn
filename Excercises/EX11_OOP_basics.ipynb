{
 "cells": [
  {
   "cell_type": "markdown",
   "metadata": {},
   "source": [
    "#### 01 US units converter"
   ]
  },
  {
   "cell_type": "code",
   "execution_count": 39,
   "metadata": {},
   "outputs": [
    {
     "name": "stdout",
     "output_type": "stream",
     "text": [
      "Setter called ...\n",
      "getter called ...\n",
      "100\n",
      "getter called ...\n",
      "39.37\n",
      "getter called ...\n",
      "328.08000000000004\n",
      "getter called ...\n",
      "45.36\n",
      "US value converted to metric values\n",
      "getter called ...\n",
      "100\n"
     ]
    }
   ],
   "source": [
    "from __future__ import annotations #needed to be able to user | since \"or\" does not work in classes and | is a feature in Python 3.10\n",
    "\n",
    "class USUnits:\n",
    "    def __init__(self, US_value: float | int) -> None:\n",
    "        self.US_value = US_value\n",
    "    \n",
    "    #getter\n",
    "    @property\n",
    "    def US_value(self) -> float | int:     \n",
    "        print(\"getter called ...\")\n",
    "        return self._US_value\n",
    "\n",
    "    #setter\n",
    "    @US_value.setter\n",
    "    def US_value(self, US_value: float | int) -> None:\n",
    "        print(\"Setter called ...\")\n",
    "        # validation that value is a float or int\n",
    "        if not isinstance(US_value, (float, int)):\n",
    "            raise TypeError(f\"{US_value} is not a float or int\")\n",
    "        # validation that value is a positive number\n",
    "        if US_value <= 0:\n",
    "            raise ValueError(\"Value should be positive\")\n",
    "        \n",
    "        self._US_value = US_value\n",
    "\n",
    "    # unit conversion factors\n",
    "    def inch_to_cm(self):\n",
    "        metric_value = 0.3937 * self.US_value\n",
    "        return metric_value\n",
    "    \n",
    "    def foot_to_meter(self):\n",
    "        metric_value = 3.2808 * self.US_value\n",
    "        return metric_value\n",
    "\n",
    "    def pounds_to_kg(self):\n",
    "        metric_value = 0.4536 * self.US_value\n",
    "        return metric_value\n",
    "    \n",
    "    # dunder string to provide information to user\n",
    "    def __str__(self) -> str:\n",
    "        return(f\"US value converted to metric values\")\n",
    "    \n",
    "    \n",
    "\n",
    "US_value1.US_value =100   #samma som US_value1 = USUnits(100)\n",
    "print(US_value1.US_value)\n",
    "print(US_value1.inch_to_cm())\n",
    "print(US_value1.foot_to_meter())\n",
    "print(US_value1.pounds_to_kg())\n",
    "print(US_value1)\n",
    "print(US_value1.US_value)"
   ]
  }
 ],
 "metadata": {
  "kernelspec": {
   "display_name": "Python 3.9.13 64-bit (system)",
   "language": "python",
   "name": "python3"
  },
  "language_info": {
   "codemirror_mode": {
    "name": "ipython",
    "version": 3
   },
   "file_extension": ".py",
   "mimetype": "text/x-python",
   "name": "python",
   "nbconvert_exporter": "python",
   "pygments_lexer": "ipython3",
   "version": "3.9.13"
  },
  "orig_nbformat": 4,
  "vscode": {
   "interpreter": {
    "hash": "28ee99f6a7aea1b12ac9ee24ec50cb70bed218d1abf73fd9933c4d88810e27ea"
   }
  }
 },
 "nbformat": 4,
 "nbformat_minor": 2
}
