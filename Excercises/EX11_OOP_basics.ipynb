{
 "cells": [
  {
   "cell_type": "markdown",
   "metadata": {},
   "source": [
    "01 US units converter"
   ]
  },
  {
   "cell_type": "code",
   "execution_count": 4,
   "metadata": {},
   "outputs": [
    {
     "name": "stdout",
     "output_type": "stream",
     "text": [
      "Setter called ...\n",
      "getter called ...\n",
      "100\n",
      "getter called ...\n",
      "39.37\n",
      "getter called ...\n",
      "328.08000000000004\n",
      "getter called ...\n",
      "45.36\n",
      "US value converted to metric values\n",
      "getter called ...\n",
      "100\n"
     ]
    }
   ],
   "source": [
    "from __future__ import annotations #needed to be able to user | since \"or\" does not work in classes and | is a feature in Python 3.10\n",
    "\n",
    "class USUnits:\n",
    "    def __init__(self, US_value: float | int) -> None:\n",
    "        self.US_value = US_value\n",
    "    \n",
    "    #getter\n",
    "    @property\n",
    "    def US_value(self) -> float | int:     \n",
    "        print(\"getter called ...\")\n",
    "        return self._US_value\n",
    "\n",
    "    #setter\n",
    "    @US_value.setter\n",
    "    def US_value(self, US_value: float | int) -> None:\n",
    "        print(\"Setter called ...\")\n",
    "        # validation that value is a float or int\n",
    "        if not isinstance(US_value, (float, int)):\n",
    "            raise TypeError(f\"{US_value} is not a float or int\")\n",
    "        # validation that value is a positive number\n",
    "        if US_value <= 0:\n",
    "            raise ValueError(\"Value should be positive\")\n",
    "        \n",
    "        self._US_value = US_value\n",
    "\n",
    "    # unit conversion factors\n",
    "    def inch_to_cm(self):\n",
    "        metric_value = 0.3937 * self.US_value\n",
    "        return metric_value\n",
    "    \n",
    "    def foot_to_meter(self):\n",
    "        metric_value = 3.2808 * self.US_value\n",
    "        return metric_value\n",
    "\n",
    "    def pounds_to_kg(self):\n",
    "        metric_value = 0.4536 * self.US_value\n",
    "        return metric_value\n",
    "    \n",
    "    # dunder string to provide information to user\n",
    "    def __str__(self) -> str:\n",
    "        return(f\"US value converted to metric values\")\n",
    "    \n",
    "    \n",
    "\n",
    "US_value1 = USUnits(100)\n",
    "print(US_value1.US_value)\n",
    "print(US_value1.inch_to_cm())\n",
    "print(US_value1.foot_to_meter())\n",
    "print(US_value1.pounds_to_kg())\n",
    "print(US_value1)\n",
    "print(US_value1.US_value)"
   ]
  },
  {
   "cell_type": "markdown",
   "metadata": {},
   "source": [
    "02 Person class"
   ]
  },
  {
   "cell_type": "code",
   "execution_count": 1,
   "metadata": {},
   "outputs": [
    {
     "name": "stdout",
     "output_type": "stream",
     "text": [
      "person1:\n",
      "34\n",
      "Person with name: Gunilla, age: 34 years old and e-mail: Gunilla@email.com\n",
      "Hi, my name is Gunilla, I am 34 years old, my email address is Gunilla@email.com\n",
      "\n",
      "\n",
      "person2\n",
      "Age must be between 0 and 125 years\n"
     ]
    }
   ],
   "source": [
    "import re\n",
    "from __future__ import annotations\n",
    "\n",
    "class Person:\n",
    "    \"\"\"Class for representing people with name, age and e-mail\"\"\"\n",
    "    def __init__(self, name: str, age: int, email: str) -> None:\n",
    "        self.name  = name\n",
    "        self.age = age\n",
    "        self.email = email\n",
    "    \n",
    "    #getters (only (self as in argument... not name, age, email))\n",
    "    @property\n",
    "    def name(self) -> str: \n",
    "        #print(\"Getter for name is called\")\n",
    "        return self._name\n",
    "\n",
    "    @property\n",
    "    def age(self) -> int:\n",
    "        #print(\"Getter for age is called\")\n",
    "        return self._age\n",
    "\n",
    "    @property\n",
    "    def email(self) -> str:\n",
    "        #print(\"Getter for email is called\")\n",
    "        return self._email\n",
    "\n",
    "    #setters\n",
    "    @name.setter\n",
    "    def name(self, name: str) -> str:\n",
    "        #print(\"Name setter is running\")\n",
    "        if not isinstance(name, str):\n",
    "            raise TypeError(f\"Name must be a string and not {type(name)}\")\n",
    "        self._name = name\n",
    "\n",
    "    @age.setter\n",
    "    def age(self, age: int) -> int:\n",
    "        #print(\"Age setter is running\")\n",
    "        if not isinstance(age, int):\n",
    "            raise TypeError (f\"Age must be an int and not {type(age)}\")\n",
    "        if not (0 <= age <= 125):\n",
    "            raise ValueError (f\"Age must be between 0 and 125 years\")\n",
    "        self._age = age\n",
    "\n",
    "    @email.setter\n",
    "    def email(self, email:str) -> str:\n",
    "        #print(\"Email setter is running\")\n",
    "        if not re.search(\"@\", email):\n",
    "            raise ValueError (f\"Email must contain @\")\n",
    "        self._email = email\n",
    "\n",
    "    def __repr__(self) -> str:\n",
    "        return(f\"Person with name: {self.name}, age: {self.age} years old and e-mail: {self.email}\")\n",
    "\n",
    "    def hello(self) -> None:\n",
    "        print(f\"Hi, my name is {self.name}, I am {self.age} years old, my email address is {self.email}\")\n",
    "\n",
    "person1 = Person(\"Gunilla\", 34, \"Gunilla@email.com\")\n",
    "print(\"person1:\")\n",
    "print(person1.age)\n",
    "print(person1)\n",
    "person1.hello()\n",
    "print(\"\\n\")\n",
    "\n",
    "print(\"person2\")\n",
    "try:\n",
    "    person2 = Person(\"Klara\", 150, \"blahamail\") #om fler saker är fel stannar programmet efter 1a felet, i detta fallet för hög ålder\n",
    "except TypeError as err:\n",
    "    print (err)\n",
    "except ValueError as err:\n",
    "    print (err)\n"
   ]
  },
  {
   "cell_type": "markdown",
   "metadata": {},
   "source": [
    "#### 3 Student and Teacher"
   ]
  },
  {
   "cell_type": "code",
   "execution_count": 8,
   "metadata": {},
   "outputs": [
    {
     "name": "stdout",
     "output_type": "stream",
     "text": [
      "Person with name: Clara, age: 45 years old and e-mail: clara@email\n",
      "Person with name: Jens, age: 34 years old and e-mail: jens@email\n",
      "teach... teach... teach... more teaching\n",
      "Hi, my name is Jens, I am 34 years old, my email address is jens@email\n",
      "study... study... study... more study\n",
      "Yo, I am a student, my name is Clara, I am 45 years old, my email address is clara@email\n"
     ]
    }
   ],
   "source": [
    "class Student(Person):\n",
    "    def __init__(self, name: str, age: int, email: str) -> None:\n",
    "        super().__init__(name, age, email)\n",
    "    \n",
    "    def study(self) -> None:\n",
    "        print(f\"study... study... study... more study\")\n",
    "    \n",
    "    def hello(self) -> None:\n",
    "        print(f\"Yo, I am a student, my name is {self.name}, I am {self.age} years old, my email address is {self.email}\")\n",
    "\n",
    "class Teacher(Person):\n",
    "    def __init__(self, name: str, age: int, email: str) -> None:\n",
    "        super().__init__(name, age, email)\n",
    "    \n",
    "    def teach(self):\n",
    "        print(\"teach... teach... teach... more teaching\")\n",
    "\n",
    "student = Student(\"Clara\", 45, \"clara@email\")\n",
    "teacher = Teacher(\"Jens\", 34, \"jens@email\")\n",
    "\n",
    "print(student)\n",
    "print(teacher)\n",
    "teacher.teach()\n",
    "teacher.hello()\n",
    "student.study()\n",
    "student.hello()"
   ]
  }
 ],
 "metadata": {
  "kernelspec": {
   "display_name": "Python 3.9.13 64-bit (system)",
   "language": "python",
   "name": "python3"
  },
  "language_info": {
   "codemirror_mode": {
    "name": "ipython",
    "version": 3
   },
   "file_extension": ".py",
   "mimetype": "text/x-python",
   "name": "python",
   "nbconvert_exporter": "python",
   "pygments_lexer": "ipython3",
   "version": "3.9.13"
  },
  "orig_nbformat": 4,
  "vscode": {
   "interpreter": {
    "hash": "28ee99f6a7aea1b12ac9ee24ec50cb70bed218d1abf73fd9933c4d88810e27ea"
   }
  }
 },
 "nbformat": 4,
 "nbformat_minor": 2
}
