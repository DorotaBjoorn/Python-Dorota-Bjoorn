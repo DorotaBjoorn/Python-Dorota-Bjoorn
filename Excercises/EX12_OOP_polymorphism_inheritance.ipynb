{
 "cells": [
  {
   "cell_type": "markdown",
   "metadata": {},
   "source": [
    "#### 1 Video"
   ]
  },
  {
   "cell_type": "code",
   "execution_count": 32,
   "metadata": {},
   "outputs": [],
   "source": [
    "from __future__ import annotations\n",
    "\n",
    "class Video():\n",
    "    def __init__(self, title: str, genre: str, rating: float|int) -> None:\n",
    "        self.title = title\n",
    "        self.genre = genre\n",
    "\n",
    "        if not isinstance(rating, (float,int)):\n",
    "            raise TypeError (f\"Rating must be a float or int and not {type(rating)}\")\n",
    "        self.rating = rating\n",
    "     \n",
    "    def info(self) -> str:\n",
    "        return(f\"Video with title {self.title}, genre {self.genre} and rating {self.rating}\")\n",
    "    \n",
    "#video1 = Video(\"Code\", \"Math\", 4)\n",
    "#print(video1.info())\n",
    "\n",
    "class TV_serie(Video):\n",
    "    def __init__(self, title: str, genre: str, rating: float | int, num_episodes: int) -> None:\n",
    "        super().__init__(title, genre, rating)\n",
    "        if not isinstance(num_episodes, int):\n",
    "            raise TypeError (f\"Number of episodes must be an int not {type(num_episodes)}.\")\n",
    "        self.num_episodes = num_episodes\n",
    "    \n",
    "    def info(self) -> str:\n",
    "        return(f\"TV series with title {self.title}, genre {self.genre}, rating {self.rating} and episodes {self.num_episodes}.\")\n",
    "    \n",
    "class Movie(Video):\n",
    "    def __init__(self, title: str, genre: str, rating: float | int, duration: float) -> None:\n",
    "        super().__init__(title, genre, rating)\n",
    "        if not isinstance(duration, int):\n",
    "            raise ValueError(f\"Duration should be a float not {type(duration)}\")\n",
    "        self.duration = duration\n",
    "    \n",
    "    def info(self) -> str:\n",
    "        return(f\"Movie with title {self.title}, genre {self.genre}, rating {self.rating} and duration {self.duration}.\")\n",
    "\n",
    "class Documentary(Video):\n",
    "    def __init__(self, title: str, genre: str, rating: float | int) -> None:\n",
    "        super().__init__(title, genre, rating)\n"
   ]
  },
  {
   "cell_type": "code",
   "execution_count": 34,
   "metadata": {},
   "outputs": [
    {
     "name": "stdout",
     "output_type": "stream",
     "text": [
      "TV series with title Pokemon, genre Cartoon, rating 4.5 and episodes 550.\n",
      "Movie with title Titanic, genre Romance, rating 4.7 and duration 194.\n",
      "Video with title The Code, genre Math and rating 4\n"
     ]
    }
   ],
   "source": [
    "pokemon = TV_serie(\"Pokemon\", \"Cartoon\", 4.5, 550)\n",
    "titanic = Movie(\"Titanic\", \"Romance\", 4.7, 194)\n",
    "code = Documentary(\"The Code\", \"Math\", 4)\n",
    "\n",
    "for video in tuple((pokemon, titanic, code)):\n",
    "    print(video.info())"
   ]
  },
  {
   "cell_type": "markdown",
   "metadata": {},
   "source": [
    "#### 2 fractions"
   ]
  },
  {
   "cell_type": "code",
   "execution_count": 17,
   "metadata": {},
   "outputs": [
    {
     "name": "stdout",
     "output_type": "stream",
     "text": [
      "1/2\n",
      "Frac(1, 2)\n"
     ]
    },
    {
     "data": {
      "text/plain": [
       "Frac(1, 2)"
      ]
     },
     "execution_count": 17,
     "metadata": {},
     "output_type": "execute_result"
    }
   ],
   "source": [
    "from __future__ import annotations\n",
    "\n",
    "class Frac:\n",
    "    \"\"\"A class for fraction calculations\"\"\"\n",
    "\n",
    "    def __init__(self, nominator: int, denominator = 1) -> None: #denominator är 1 om inget annat anges\n",
    "        self.nominator = nominator\n",
    "        self.denominator = denominator\n",
    "    \n",
    "    # getters\n",
    "    @property\n",
    "    def get_nominator(self) -> int:\n",
    "        return self._nominator\n",
    "    \n",
    "    @property\n",
    "    def get_denominator(self) -> int:\n",
    "        return self._denominator\n",
    "    \n",
    "    # setters\n",
    "    @get_nominator.setter\n",
    "    def nominator(self, nominator: int) -> int:\n",
    "        if not isinstance (nominator, int):\n",
    "            raise TypeError (f\"Input has to be int and not {type(nominator)}\")\n",
    "        self._nominator = nominator\n",
    "    \n",
    "    @get_denominator.setter\n",
    "    def denominator(self, denominator: int) -> int:\n",
    "        if not isinstance (denominator, int):\n",
    "            raise TypeError (f\"Input has to be int and not {type(denominator)}\")\n",
    "        if denominator == 0:\n",
    "            raise ZeroDivisionError (\"Denominator can not be 0\")\n",
    "        if denominator < 0:\n",
    "            self._nominator *= -1\n",
    "            denominator *= -1\n",
    "        self._denominator = denominator\n",
    "    \n",
    "    def simplify(self):\n",
    "        \"\"\"Simplifies into smallest fraction\"\"\"\n",
    "        if abs(self.nominator) < abs(self.denominator):\n",
    "            factor = abs(self.nominator)\n",
    "        if abs(self.nominator) > abs(self.denominator):\n",
    "            factor = abs(self.denominator)\n",
    "        while factor > 1:\n",
    "            if self.nominator % factor == 0 and self.denominator % factor == 0:\n",
    "                self.nominator = self.nominator//factor # // för heltalsdivision, returnerar int \n",
    "                self. denominator = self.denominator//factor #self skrivs över med nytt värde, dvs förenklade bråket sparas i orginalinstansen\n",
    "                return self \n",
    "            else:\n",
    "                factor -= 1\n",
    "        return(self)\n",
    "\n",
    "    def make_fraction(self, other: Frac|int) -> Frac:\n",
    "        \"\"\"Converts int into a fraction with denominator 1\"\"\"\n",
    "        if isinstance (other, Frac):\n",
    "            return other\n",
    "        else:\n",
    "            return Frac(other, 1) # , 1 behövs ej egentligen då definierat i __init__ att om ingen anges blir täljaren 1\n",
    "    \n",
    "    def __add__(self, other: Frac|int) -> Frac:\n",
    "        \"\"\"Adds fraction + fraction or fraction + int\"\"\"\n",
    "        print(\"__add__ is called\")\n",
    "        other = self.make_fraction(other) #metoder inom klassen anropas genom self.funktionsnamn(parameter).\n",
    "        nominator = self.nominator*other.denominator+other.nominator*self.denominator\n",
    "        denominator = self.denominator*other.denominator\n",
    "        fraction = Frac(nominator, denominator) #Frac för att få nu instans inom klassen Frac\n",
    "        return fraction.simplify()\n",
    "    \n",
    "    #__radd__ = __add__ #skulle bara kunna skriva så här så radd gör samma som add bara att self och other är i omvänd ordning, hur anropas denna?\n",
    "    def __radd__(self, other: int) -> Frac:\n",
    "        \"\"\"Adds int + fraction\"\"\"\n",
    "        print(\"__radd__ is called\")\n",
    "        return self.__add__(other) #?????????????? förstår inte denna?????????????\n",
    "\n",
    "\n",
    "    def __sub__(self, other: Frac) -> Frac:\n",
    "        \"\"\"Subtracts fraction - fraction or fraction - int\"\"\"\n",
    "        print(\"__sub__ is called\")\n",
    "        other = self.make_fraction(other)\n",
    "        nominator = (self.nominator*other.denominator)-(other.nominator*self.denominator)\n",
    "        denominator = self.denominator*other.denominator\n",
    "        fraction = Frac(nominator, denominator) #Frac för att få nu instans inom klassen Frac\n",
    "        return fraction.simplify()\n",
    "    \n",
    "    def __rsub__(self, other: Frac) -> Frac:\n",
    "        \"\"\"Subracts int - fraction\"\"\"\n",
    "        print(\"__rsub__ is called\")\n",
    "        return self*-1 + other\n",
    "\n",
    "    def __mul__(self, other: Frac) -> Frac:\n",
    "        \"\"\"Multiplication fraction * fraction or fraction * int\"\"\"\n",
    "        print(\"__mul__ is called\")\n",
    "        other = self.make_fraction(other)\n",
    "        nominator = self.nominator * other.nominator\n",
    "        denominator = self.denominator * other.denominator\n",
    "        fraction = Frac(nominator, denominator)\n",
    "        return fraction.simplify()\n",
    "\n",
    "    def __rmul__(self, other: Frac) -> Frac:\n",
    "        \"\"\"Multiplication int * fraction\"\"\"\n",
    "        print(\"__rmul__ is called\")\n",
    "        return self.__mul__(other)\n",
    "    \n",
    "    def __truediv__(self, other: Frac) -> Frac: # __div__ does not work, true div needs future imported\n",
    "        \"\"\"Division fraction / fraction or fraction / int\"\"\"\n",
    "        print(\"__truediv__ is called\")\n",
    "        other = self.make_fraction(other)\n",
    "        nominator = self.nominator * other.denominator\n",
    "        denominator = self.denominator * other.nominator\n",
    "        fraction = Frac(nominator, denominator)\n",
    "        return fraction.simplify()\n",
    "\n",
    "    def __rsdiv__(self, other: Frac) -> Frac:\n",
    "        \"\"\"Division int / fraction\"\"\"\n",
    "        print(\"__rdiv__ is called\")\n",
    "        return self.__div__(other)\n",
    "\n",
    "\n",
    "    def __eq__(self, other: Frac) -> bool:\n",
    "        \"\"\"Compares if two fractions are the same\"\"\"\n",
    "        other = self.make_fraction(other)\n",
    "        other.simplify()\n",
    "        self.simplify()\n",
    "        if self.nominator == other.nominator and self.denominator == other.denominator:\n",
    "            return True\n",
    "        else:\n",
    "            return False\n",
    "        # return (self.nominator == other.nominator and self.denominator == other.denominator) samma som if/else satsen ovan\n",
    "    \n",
    "    @property\n",
    "    def mixed(self):\n",
    "        \"\"\"Prints out representation of fraction as whole number and ramaining fraction\"\"\"\n",
    "        self.simplify()\n",
    "        whole_number = self.nominator//self.denominator\n",
    "        self.nominator = self.nominator % self.denominator\n",
    "        return (f\"{whole_number} {self.nominator}/{self.denominator}\")\n",
    "    \n",
    "    def __repr__(self) -> str: # ger Frac(1,2)\n",
    "        \"\"\"Returns Frac(nominator,denominator)\"\"\"\n",
    "        return f\"Frac({self.nominator}, {self.denominator})\"\n",
    "   \n",
    "    def __str__(self) -> str: # anropas via print-funktionen bl a, ger 1/2\n",
    "        \"\"\"Skriver ut \"n/d\" på skärmen istället för adressen för instansen\"\"\"\n",
    "        return f\"{self.nominator}/{self.denominator}\"\n",
    "        \n",
    "f1 = Frac(1,2)\n",
    "f2 = Frac(1,3)\n",
    "f3 = Frac(7,6)\n",
    "f4 = Frac(1,4)\n",
    "f5 = Frac(2,4)\n",
    "f6 = Frac(3,4)\n",
    "print(str(f1))\n",
    "print(repr(f1))\n",
    "eval(repr(f1)) #eval konvention att använda repr"
   ]
  },
  {
   "cell_type": "code",
   "execution_count": 15,
   "metadata": {},
   "outputs": [
    {
     "name": "stdout",
     "output_type": "stream",
     "text": [
      "__add__ is called\n",
      "f1 + f2 = 5/6\n",
      "__sub__ is called\n",
      "f1 - f2 = 1/6\n",
      "__rsub__ is called\n",
      "__mul__ is called\n",
      "__add__ is called\n",
      "1 -  f3 = -1/6\n",
      "__add__ is called\n",
      "f6 + 2 = 11/4\n",
      "1/2\n"
     ]
    }
   ],
   "source": [
    "print(f\"f1 + f2 = {f1+f2}\")\n",
    "print(f\"f1 - f2 = {f1-f2}\")\n",
    "print(f\"1 -  f3 = {1-f3}\")\n",
    "print(f\"f6 + 2 = {f6+2}\")\n",
    "print(f1)"
   ]
  },
  {
   "cell_type": "code",
   "execution_count": 8,
   "metadata": {},
   "outputs": [
    {
     "name": "stdout",
     "output_type": "stream",
     "text": [
      "7/6 is the same as 1 1/6\n"
     ]
    }
   ],
   "source": [
    "print(f\"{f3} is the same as {f3.mixed}\") #anropar utan () då mixed är en property. Annars hade behövt ()"
   ]
  },
  {
   "cell_type": "code",
   "execution_count": 62,
   "metadata": {},
   "outputs": [
    {
     "name": "stdout",
     "output_type": "stream",
     "text": [
      "__rmul__ is called\n",
      "__mul__ is called\n",
      "3 * f1  = 3/2\n",
      "__mul__ is called\n",
      "f1 * 3 = 3/2\n"
     ]
    }
   ],
   "source": [
    "print(f\"3 * f1  = {3*f1}\")\n",
    "print(f\"f1 * 3 = {f1*3}\")"
   ]
  },
  {
   "cell_type": "code",
   "execution_count": 46,
   "metadata": {},
   "outputs": [
    {
     "name": "stdout",
     "output_type": "stream",
     "text": [
      "__add__ is called\n",
      "f4 + 2 = 9/4\n"
     ]
    }
   ],
   "source": [
    "print(f\"f4 + 2 = {f4+2}\")"
   ]
  },
  {
   "cell_type": "code",
   "execution_count": 78,
   "metadata": {},
   "outputs": [
    {
     "name": "stdout",
     "output_type": "stream",
     "text": [
      "__truediv__ is called\n",
      "f4 / f2 = 3/4\n"
     ]
    }
   ],
   "source": [
    "print(f\"f4 / f2 = {f4/f2}\")"
   ]
  },
  {
   "cell_type": "code",
   "execution_count": 65,
   "metadata": {},
   "outputs": [
    {
     "data": {
      "text/plain": [
       "True"
      ]
     },
     "execution_count": 65,
     "metadata": {},
     "output_type": "execute_result"
    }
   ],
   "source": [
    "f1==f5"
   ]
  }
 ],
 "metadata": {
  "kernelspec": {
   "display_name": "Python 3.9.13 ('Python-Dorota-Bjoorn-uzahzrwe')",
   "language": "python",
   "name": "python3"
  },
  "language_info": {
   "codemirror_mode": {
    "name": "ipython",
    "version": 3
   },
   "file_extension": ".py",
   "mimetype": "text/x-python",
   "name": "python",
   "nbconvert_exporter": "python",
   "pygments_lexer": "ipython3",
   "version": "3.9.13"
  },
  "orig_nbformat": 4,
  "vscode": {
   "interpreter": {
    "hash": "5a42c404417d75b6068b47c895b5f82ed1ebeda4880f3472a880a0dea30e7469"
   }
  }
 },
 "nbformat": 4,
 "nbformat_minor": 2
}
