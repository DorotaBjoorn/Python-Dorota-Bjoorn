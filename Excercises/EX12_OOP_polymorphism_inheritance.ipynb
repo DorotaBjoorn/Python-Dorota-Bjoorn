{
 "cells": [
  {
   "cell_type": "markdown",
   "metadata": {},
   "source": [
    "#### 1"
   ]
  },
  {
   "cell_type": "markdown",
   "metadata": {},
   "source": [
    "#### 2 fractions"
   ]
  },
  {
   "cell_type": "code",
   "execution_count": 32,
   "metadata": {},
   "outputs": [],
   "source": [
    "from __future__ import annotations\n",
    "\n",
    "class Frac:\n",
    "    \"\"\"A class for fraction calculations\"\"\"\n",
    "\n",
    "    def __init__(self, nominator: int, denominator = 1) -> None: #denominator är 1 om inget annat anges\n",
    "        self.nominator = nominator\n",
    "        self.denominator = denominator\n",
    "    \n",
    "    # getters\n",
    "    @property\n",
    "    def nominator(self) -> int:\n",
    "        return self._nominator\n",
    "    \n",
    "    @property\n",
    "    def denominator(self) -> int:\n",
    "        return self._denominator\n",
    "    \n",
    "    # setters\n",
    "    @nominator.setter\n",
    "    def nominator(self, nominator: int) -> int:\n",
    "        if not isinstance (nominator, int):\n",
    "            raise TypeError (f\"Input has to be int and not {type(nominator)}\")\n",
    "        self._nominator = nominator\n",
    "    \n",
    "    @denominator.setter\n",
    "    def denominator(self, denominator: int) -> int:\n",
    "        if not isinstance (denominator, int):\n",
    "            raise TypeError (f\"Input has to be int and not {type(denominator)}\")\n",
    "        if denominator == 0:\n",
    "            raise ZeroDivisionError (\"Denominator can not be 0\")\n",
    "        if denominator < 0:\n",
    "            self._nominator *= -1\n",
    "            denominator *= -1\n",
    "        self._denominator = denominator\n",
    "    \n",
    "    def simplify(self):\n",
    "        \"\"\"Simplifies into smallest fraction\"\"\"\n",
    "        if abs(self.nominator) < abs(self.denominator):\n",
    "            factor = abs(self.nominator)\n",
    "        if abs(self.nominator) > abs(self.denominator):\n",
    "            factor = abs(self.denominator)\n",
    "        while factor > 1:\n",
    "            if self.nominator % factor == 0 and self.denominator % factor == 0:\n",
    "                self.nominator = self.nominator//factor # // för heltalsdivision, returnerar int \n",
    "                self. denominator = self.denominator//factor #self skrivs över med nytt värde, dvs förenklade bråket sparas i orginalinstansen\n",
    "                return self \n",
    "            else:\n",
    "                factor -= 1\n",
    "        return(self)\n",
    "\n",
    "    def make_fraction(self, other: Frac|int) -> Frac:\n",
    "        \"\"\"Converts int into a fraction with denominator 1\"\"\"\n",
    "        if isinstance (other, Frac):\n",
    "            return other\n",
    "        else:\n",
    "            return Frac(other, 1) # , 1 behövs ej egentligen då definierat i __init__ att om ingen anges blir täljaren 1\n",
    "    \n",
    "    def __add__(self, other: Frac|int) -> Frac:\n",
    "        \"\"\"Adds fraction + fraction or fraction + int\"\"\"\n",
    "        print(\"__add__ is called\")\n",
    "        other = self.make_fraction(other) #metoder inom klassen anropas genom self.funktionsnamn(parameter)\n",
    "        other_nominator = other.nominator\n",
    "        other_denominator = other.denominator\n",
    "        nominator = self.nominator*other_denominator+other_nominator*self.denominator\n",
    "        denominator = self.denominator*other_denominator\n",
    "        fraction = Frac(nominator, denominator) #Frac för att få nu instans inom klassen Frac\n",
    "        return fraction.simplify()\n",
    "    \n",
    "    #__radd__ = __add__ #skulle bara kunna skriva så här så radd gör samma som add bara att self och other är i omvänd ordning\n",
    "    def __radd__(self, other: Frac) -> Frac:\n",
    "        \"\"\"Adds int + fraction\"\"\"\n",
    "        print(\"__radd__ is called\")\n",
    "        return self.__add__(other)\n",
    "\n",
    "\n",
    "    def __sub__(self, other: Frac) -> Frac:\n",
    "        \"\"\"Subtracts fraction - fraction or fraction - int\"\"\"\n",
    "        print(\"__sub__ is called\")\n",
    "        other = self.make_fraction(other)\n",
    "        other_nominator = other.nominator #????????? behövs detta steg eller kan man direkt skriva other.nominator  2 rader ner? ????????\n",
    "        other_denominator = other.denominator #?????????? samma fråga som ovan fast other.denominator 1 rad ner??????????\n",
    "        nominator = (self.nominator*other_denominator)-(other_nominator*self.denominator)\n",
    "        denominator = self.denominator*other_denominator\n",
    "        fraction = Frac(nominator, denominator) #Frac för att få nu instans inom klassen Frac\n",
    "        return fraction.simplify()\n",
    "    \n",
    "    def __rsub__(self, other: Frac) -> Frac: #?????????????????? varför ger denna värden större än 0 för tex 1-f3?????????????\n",
    "        \"\"\"Subracts int - fraction\"\"\"\n",
    "        print(\"__rsub__ is called\")\n",
    "        return self.__sub__(other)\n",
    "\n",
    "    def __mul__(self, other: Frac) -> Frac:\n",
    "        \"\"\"Multiplication fraction * fraction or fraction * int\"\"\"\n",
    "        print(\"__mul__ is called\")\n",
    "        other = self.make_fraction(other)\n",
    "        other_nominator = other.nominator\n",
    "        other_denominator = other.denominator\n",
    "        nominator = self.nominator * other_nominator\n",
    "        denominator = self.denominator * other_denominator\n",
    "        fraction = Frac(nominator, denominator)\n",
    "        return fraction.simplify()\n",
    "\n",
    "    def __rmul__(self, other: Frac) -> Frac:\n",
    "        \"\"\"Multiplication int * fraction\"\"\"\n",
    "        print(\"__rmul__ is called\")\n",
    "        return self.__mul__(other)\n",
    "    \n",
    "    def __div__(self, other: Frac) -> Frac:\n",
    "        \"\"\"Division fraction / fraction or fraction / int\"\"\"\n",
    "        print(\"__div__ is called\")\n",
    "        other = self.make_fraction(other)\n",
    "        other_nominator = other.nominator\n",
    "        other_denominator = other.denominator\n",
    "        nominator = self.nominator * other_denominator\n",
    "        denominator = self.denominator * other_nominator\n",
    "        fraction = Frac(nominator, denominator)\n",
    "        return fraction.simplify()\n",
    "\n",
    "    def __rsdiv__(self, other: Frac) -> Frac:\n",
    "        \"\"\"Division int / fraction\"\"\"\n",
    "        print(\"__rdiv__ is called\")\n",
    "        return self.__div__(other)\n",
    "\n",
    "\n",
    "    def __eq__(self, other: Frac) -> bool:\n",
    "        \"\"\"Compares if two fractions are the same\"\"\"\n",
    "        other = self.make_fraction(other)\n",
    "        other.simplify()\n",
    "        other_nominator = other.nominator\n",
    "        other_denominator = other.denominator\n",
    "        self.simplify()\n",
    "        if self.nominator == other_nominator and self.denominator == other.denominator:\n",
    "            return True\n",
    "        else:\n",
    "            return False\n",
    "    \n",
    "    def mixed(self):\n",
    "        \"\"\"Prints out representation of fraction as whole number and ramaining fraction\"\"\"\n",
    "        self.simplify()\n",
    "        whole_number = self.nominator//self.denominator\n",
    "        self.nominator = self.nominator % self.denominator\n",
    "        return f\"{whole_number} {self.nominator}/{self.denominator}\"\n",
    "\n",
    "    def __str__(self) -> str:\n",
    "        \"\"\"Skriver ut \"n/d\" på skärmen istället för adressen för instansen\"\"\"\n",
    "        return f\"{self.nominator}/{self.denominator}\"\n",
    "        \n",
    "f1 = Frac(1,2)\n",
    "f2 = Frac(1,3)\n",
    "f3 = Frac(7,6)\n",
    "f4 = Frac(1,4)\n",
    "f5 = Frac(2,4)\n",
    "f6 = Frac(3,4)"
   ]
  },
  {
   "cell_type": "code",
   "execution_count": 21,
   "metadata": {},
   "outputs": [
    {
     "name": "stdout",
     "output_type": "stream",
     "text": [
      "__add__ is called\n",
      "f1 + f2 = 5/6\n",
      "__sub__ is called\n",
      "f1 - f2 = 1/6\n",
      "__rsub__ is called\n",
      "__sub__ is called\n",
      "1 -  f3 = 1/6\n",
      "__add__ is called\n",
      "f6 + 2 = 11/4\n"
     ]
    }
   ],
   "source": [
    "print(f\"f1 + f2 = {f1+f2}\")\n",
    "print(f\"f1 - f2 = {f1-f2}\")\n",
    "print(f\"1 -  f3 = {1-f3}\") # ???????????? ger fel svar... borde vara -1/6\n",
    "print(f\"f6 + 2 = {f6+2}\")"
   ]
  },
  {
   "cell_type": "code",
   "execution_count": 33,
   "metadata": {},
   "outputs": [
    {
     "name": "stdout",
     "output_type": "stream",
     "text": [
      "7/6 is the same as <bound method Frac.mixed of <__main__.Frac object at 0x000001E5747DF340>>\n"
     ]
    }
   ],
   "source": [
    "print(f\"{f3} is the same as {f3.mixed}\") #???????????? Hur göra för att skall skiva ut 1 1/6 istället för adressen"
   ]
  },
  {
   "cell_type": "code",
   "execution_count": 143,
   "metadata": {},
   "outputs": [
    {
     "name": "stdout",
     "output_type": "stream",
     "text": [
      "__rmul__ is called\n",
      "__mul__ is called\n",
      "3 * f1  = 3/2\n",
      "__mul__ is called\n",
      "f1 * 3 = 3/2\n"
     ]
    }
   ],
   "source": [
    "print(f\"3 * f1  = {3*f1}\")\n",
    "print(f\"f1 * 3 = {f1*3}\")"
   ]
  },
  {
   "cell_type": "code",
   "execution_count": 147,
   "metadata": {},
   "outputs": [
    {
     "name": "stdout",
     "output_type": "stream",
     "text": [
      "__add__ is called\n",
      "f4 + 2 = 9/4\n"
     ]
    }
   ],
   "source": [
    "print(f\"f4 + 2 = {f4+2}\")"
   ]
  },
  {
   "cell_type": "code",
   "execution_count": 15,
   "metadata": {},
   "outputs": [
    {
     "ename": "TypeError",
     "evalue": "unsupported operand type(s) for //: 'Frac' and 'Frac'",
     "output_type": "error",
     "traceback": [
      "\u001b[1;31m---------------------------------------------------------------------------\u001b[0m",
      "\u001b[1;31mTypeError\u001b[0m                                 Traceback (most recent call last)",
      "Cell \u001b[1;32mIn [15], line 1\u001b[0m\n\u001b[1;32m----> 1\u001b[0m \u001b[38;5;28mprint\u001b[39m(\u001b[38;5;124mf\u001b[39m\u001b[38;5;124m\"\u001b[39m\u001b[38;5;124mf4 / f2 = \u001b[39m\u001b[38;5;132;01m{\u001b[39;00mf4\u001b[38;5;241m/\u001b[39m\u001b[38;5;241m/\u001b[39mf2\u001b[38;5;132;01m}\u001b[39;00m\u001b[38;5;124m\"\u001b[39m)\n",
      "\u001b[1;31mTypeError\u001b[0m: unsupported operand type(s) for //: 'Frac' and 'Frac'"
     ]
    }
   ],
   "source": [
    "print(f\"f4 / f2 = {f4//f2}\") # Divisionen verkar inte fugera... varför??????"
   ]
  },
  {
   "cell_type": "code",
   "execution_count": 18,
   "metadata": {},
   "outputs": [
    {
     "data": {
      "text/plain": [
       "True"
      ]
     },
     "execution_count": 18,
     "metadata": {},
     "output_type": "execute_result"
    }
   ],
   "source": [
    "f1==f5"
   ]
  }
 ],
 "metadata": {
  "kernelspec": {
   "display_name": "Python 3.9.13 ('Python-Dorota-Bjoorn-uzahzrwe')",
   "language": "python",
   "name": "python3"
  },
  "language_info": {
   "codemirror_mode": {
    "name": "ipython",
    "version": 3
   },
   "file_extension": ".py",
   "mimetype": "text/x-python",
   "name": "python",
   "nbconvert_exporter": "python",
   "pygments_lexer": "ipython3",
   "version": "3.9.13"
  },
  "orig_nbformat": 4,
  "vscode": {
   "interpreter": {
    "hash": "5a42c404417d75b6068b47c895b5f82ed1ebeda4880f3472a880a0dea30e7469"
   }
  }
 },
 "nbformat": 4,
 "nbformat_minor": 2
}
