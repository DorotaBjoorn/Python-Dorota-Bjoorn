{
 "cells": [
  {
   "cell_type": "markdown",
   "metadata": {},
   "source": [
    "## 1"
   ]
  },
  {
   "cell_type": "code",
   "execution_count": null,
   "metadata": {},
   "outputs": [],
   "source": [
    "i = -10\n",
    "\n",
    "while i <=10:\n",
    "    print(i)\n",
    "    i += 1"
   ]
  },
  {
   "cell_type": "markdown",
   "metadata": {},
   "source": [
    "## 2"
   ]
  },
  {
   "cell_type": "code",
   "execution_count": 3,
   "metadata": {},
   "outputs": [
    {
     "name": "stdout",
     "output_type": "stream",
     "text": [
      "5050\n"
     ]
    }
   ],
   "source": [
    "i = 1\n",
    "sum = 0\n",
    "\n",
    "while i <= 100:\n",
    "    sum = sum + i\n",
    "    i += 1\n",
    "\n",
    "print (sum)"
   ]
  },
  {
   "cell_type": "code",
   "execution_count": 4,
   "metadata": {},
   "outputs": [
    {
     "name": "stdout",
     "output_type": "stream",
     "text": [
      "2500\n"
     ]
    }
   ],
   "source": [
    "i, sum = 1, 0\n",
    "\n",
    "while i < 100:\n",
    "    sum = sum + i\n",
    "    i += 2\n",
    "\n",
    "print(sum)"
   ]
  },
  {
   "cell_type": "markdown",
   "metadata": {},
   "source": [
    "## 3a"
   ]
  },
  {
   "cell_type": "code",
   "execution_count": 13,
   "metadata": {},
   "outputs": [
    {
     "name": "stdout",
     "output_type": "stream",
     "text": [
      "Your guess is too large\n",
      "Your guess is too small\n",
      "Your guess is too small\n",
      "Your guess is too small\n",
      "Your guess is too small\n",
      "Your guess is too small\n",
      "Congrats. Your guess is correct\n"
     ]
    }
   ],
   "source": [
    "from random import randrange # randrange gives an integral value\n",
    "\n",
    "i = randrange(0, 100) #randomized number to be guessed\n",
    "y = int(input(f\"Guess a whole number between 1 and 100\")) #Guessed number\n",
    "\n",
    "while y != i:\n",
    "    if y < i:\n",
    "        print(\"Your guess is too small\")\n",
    "        y = int(input(\"Make a new guess\"))\n",
    "    elif y > i:\n",
    "        print(\"Your guess is too large\")\n",
    "        y = int(input(\"Make a new guess\"))\n",
    "\n",
    "else:\n",
    "     print(\"Congrats. Your guess is correct\")"
   ]
  },
  {
   "cell_type": "markdown",
   "metadata": {},
   "source": [
    "## 3b - Fråga?????"
   ]
  },
  {
   "cell_type": "code",
   "execution_count": null,
   "metadata": {},
   "outputs": [],
   "source": [
    "from random import randrange # randrange gives an integral random value\n",
    "\n",
    "i = randrange(0, 100)\n",
    "y = 50\n",
    "guessnumber = 1\n",
    "\n",
    "while y != i:\n",
    "    if y < i:\n",
    "        print(\"Your guess is too small\")\n",
    "        y = y * 1.5\n",
    "        guessnumber +=1\n",
    "    if y > i:\n",
    "        print(\"Your guess is too large\")\n",
    "        y /= 2\n",
    "        guessnumber += 1\n",
    "\n",
    "else:\n",
    "    print(f\"Congrats. {y} is the right number. It took {guessnumber} guesses\")"
   ]
  },
  {
   "cell_type": "markdown",
   "metadata": {},
   "source": [
    "## 4\n",
    "#### vad gör while True loopen?????"
   ]
  },
  {
   "cell_type": "code",
   "execution_count": 20,
   "metadata": {},
   "outputs": [
    {
     "name": "stdout",
     "output_type": "stream",
     "text": [
      "Sorry. Correct answer is 80\n",
      "Whould you like to play again? (yes/no)\n",
      "This is not valid input\n"
     ]
    },
    {
     "ename": "ValueError",
     "evalue": "invalid literal for int() with base 10: ''",
     "output_type": "error",
     "traceback": [
      "\u001b[1;31m---------------------------------------------------------------------------\u001b[0m",
      "\u001b[1;31mValueError\u001b[0m                                Traceback (most recent call last)",
      "\u001b[1;32mc:\\Users\\DorotaBjöörn-AI22GBG\\Documents\\GitHub\\Python-Dorota-Bjoorn\\Excercises\\EX02.ipynb Cell 11\u001b[0m in \u001b[0;36m<cell line: 5>\u001b[1;34m()\u001b[0m\n\u001b[0;32m      <a href='vscode-notebook-cell:/c%3A/Users/DorotaBj%C3%B6%C3%B6rn-AI22GBG/Documents/GitHub/Python-Dorota-Bjoorn/Excercises/EX02.ipynb#X15sZmlsZQ%3D%3D?line=5'>6</a>\u001b[0m y \u001b[39m=\u001b[39m randint(\u001b[39m1\u001b[39m, \u001b[39m10\u001b[39m)\n\u001b[0;32m      <a href='vscode-notebook-cell:/c%3A/Users/DorotaBj%C3%B6%C3%B6rn-AI22GBG/Documents/GitHub/Python-Dorota-Bjoorn/Excercises/EX02.ipynb#X15sZmlsZQ%3D%3D?line=6'>7</a>\u001b[0m product \u001b[39m=\u001b[39m x \u001b[39m*\u001b[39m y\n\u001b[1;32m----> <a href='vscode-notebook-cell:/c%3A/Users/DorotaBj%C3%B6%C3%B6rn-AI22GBG/Documents/GitHub/Python-Dorota-Bjoorn/Excercises/EX02.ipynb#X15sZmlsZQ%3D%3D?line=8'>9</a>\u001b[0m user_calculation \u001b[39m=\u001b[39m \u001b[39mint\u001b[39;49m(\u001b[39minput\u001b[39;49m(\u001b[39mf\u001b[39;49m\u001b[39m\"\u001b[39;49m\u001b[39mWhat is the product of \u001b[39;49m\u001b[39m{\u001b[39;49;00mx\u001b[39m}\u001b[39;49;00m\u001b[39m and \u001b[39;49m\u001b[39m{\u001b[39;49;00my\u001b[39m}\u001b[39;49;00m\u001b[39m?\u001b[39;49m\u001b[39m\"\u001b[39;49m))\n\u001b[0;32m     <a href='vscode-notebook-cell:/c%3A/Users/DorotaBj%C3%B6%C3%B6rn-AI22GBG/Documents/GitHub/Python-Dorota-Bjoorn/Excercises/EX02.ipynb#X15sZmlsZQ%3D%3D?line=10'>11</a>\u001b[0m \u001b[39mif\u001b[39;00m user_calculation \u001b[39m==\u001b[39m product:\n\u001b[0;32m     <a href='vscode-notebook-cell:/c%3A/Users/DorotaBj%C3%B6%C3%B6rn-AI22GBG/Documents/GitHub/Python-Dorota-Bjoorn/Excercises/EX02.ipynb#X15sZmlsZQ%3D%3D?line=11'>12</a>\u001b[0m     \u001b[39mprint\u001b[39m(\u001b[39mf\u001b[39m\u001b[39m\"\u001b[39m\u001b[39mGood work\u001b[39m\u001b[39m\"\u001b[39m)\n",
      "\u001b[1;31mValueError\u001b[0m: invalid literal for int() with base 10: ''"
     ]
    }
   ],
   "source": [
    "from random import randint\n",
    "\n",
    "\n",
    "while True:\n",
    "    x = randint(1, 10)\n",
    "    y = randint(1, 10)\n",
    "    product = x * y\n",
    "\n",
    "    user_calculation = int(input(f\"What is the product of {x} and {y}?\"))\n",
    "\n",
    "    if user_calculation == product:\n",
    "        print(f\"Good work\")\n",
    "    else:\n",
    "        print(f\"Sorry. Correct answer is {product}\")\n",
    "\n",
    "    answer=input(print(\"Whould you like to play again? (yes/no)\"))\n",
    "    if answer == \"yes\":\n",
    "        continue\n",
    "    elif answer ==\"no\":\n",
    "        print(\"Have a good day\")\n",
    "        break\n",
    "    else:\n",
    "        print(\"This is not valid input\")\n",
    "        #?????? Hur göra för att programmet skall fortsätta med att fråga om jag vill spela igen och inte bara hoppa in och fråga om produkt igen?\n"
   ]
  },
  {
   "cell_type": "markdown",
   "metadata": {},
   "source": [
    "## 5a"
   ]
  },
  {
   "cell_type": "code",
   "execution_count": 24,
   "metadata": {},
   "outputs": [
    {
     "name": "stdout",
     "output_type": "stream",
     "text": [
      "sum = 2.0\n"
     ]
    }
   ],
   "source": [
    "sum = 0\n",
    "n = 0\n",
    "\n",
    "while n < 10000: ##Hur spara resulatet föratt jämföra 2 summor så while skillnaden mellan dem tillräckligt stor\n",
    "    sum += (1/2**n)\n",
    "    n += 1\n",
    "\n",
    "print(f\"sum = {sum}\")\n"
   ]
  },
  {
   "cell_type": "markdown",
   "metadata": {},
   "source": [
    "## 5b"
   ]
  },
  {
   "cell_type": "code",
   "execution_count": 30,
   "metadata": {},
   "outputs": [
    {
     "name": "stdout",
     "output_type": "stream",
     "text": [
      "sum = 0.7853956633974299\n"
     ]
    }
   ],
   "source": [
    "sum = 0\n",
    "n = 0\n",
    "\n",
    "while n < 100000: ##Hur spara resulatet föratt jämföra 2 summor så while skillnaden mellan dem tillräckligt stor\n",
    "    sum += ((-1)**n/(2*n+1))\n",
    "    n += 1\n",
    "\n",
    "print(f\"sum = {sum}\")\n"
   ]
  }
 ],
 "metadata": {
  "kernelspec": {
   "display_name": "Python 3.9.13 ('Python-Dorota-Bjoorn-uzahzrwe')",
   "language": "python",
   "name": "python3"
  },
  "language_info": {
   "codemirror_mode": {
    "name": "ipython",
    "version": 3
   },
   "file_extension": ".py",
   "mimetype": "text/x-python",
   "name": "python",
   "nbconvert_exporter": "python",
   "pygments_lexer": "ipython3",
   "version": "3.9.13"
  },
  "orig_nbformat": 4,
  "vscode": {
   "interpreter": {
    "hash": "5a42c404417d75b6068b47c895b5f82ed1ebeda4880f3472a880a0dea30e7469"
   }
  }
 },
 "nbformat": 4,
 "nbformat_minor": 2
}
