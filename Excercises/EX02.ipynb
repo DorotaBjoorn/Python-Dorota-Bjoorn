{
 "cells": [
  {
   "cell_type": "markdown",
   "metadata": {},
   "source": [
    "## 1"
   ]
  },
  {
   "cell_type": "code",
   "execution_count": null,
   "metadata": {},
   "outputs": [],
   "source": [
    "i = -10\n",
    "\n",
    "while i <=10:\n",
    "    print(i)\n",
    "    i += 1"
   ]
  },
  {
   "cell_type": "markdown",
   "metadata": {},
   "source": [
    "## 2"
   ]
  },
  {
   "cell_type": "code",
   "execution_count": 3,
   "metadata": {},
   "outputs": [
    {
     "name": "stdout",
     "output_type": "stream",
     "text": [
      "5050\n"
     ]
    }
   ],
   "source": [
    "i = 1\n",
    "sum = 0\n",
    "\n",
    "while i <= 100:\n",
    "    sum = sum + i\n",
    "    i += 1\n",
    "\n",
    "print (sum)"
   ]
  },
  {
   "cell_type": "code",
   "execution_count": 4,
   "metadata": {},
   "outputs": [
    {
     "name": "stdout",
     "output_type": "stream",
     "text": [
      "2500\n"
     ]
    }
   ],
   "source": [
    "i, sum = 1, 0\n",
    "\n",
    "while i < 100:\n",
    "    sum = sum + i\n",
    "    i += 2\n",
    "\n",
    "print(sum)"
   ]
  },
  {
   "cell_type": "markdown",
   "metadata": {},
   "source": [
    "## 3a"
   ]
  },
  {
   "cell_type": "code",
   "execution_count": 13,
   "metadata": {},
   "outputs": [
    {
     "name": "stdout",
     "output_type": "stream",
     "text": [
      "Your guess is too large\n",
      "Your guess is too small\n",
      "Your guess is too small\n",
      "Your guess is too small\n",
      "Your guess is too small\n",
      "Your guess is too small\n",
      "Congrats. Your guess is correct\n"
     ]
    }
   ],
   "source": [
    "from random import randrange # randrange gives an integral value\n",
    "\n",
    "i = randrange(0, 100) #randomized number to be guessed\n",
    "y = int(input(f\"Guess a whole number between 1 and 100\")) #Guessed number\n",
    "\n",
    "while y != i:\n",
    "    if y < i:\n",
    "        print(\"Your guess is too small\")\n",
    "        y = int(input(\"Make a new guess\"))\n",
    "    elif y > i:\n",
    "        print(\"Your guess is too large\")\n",
    "        y = int(input(\"Make a new guess\"))\n",
    "\n",
    "else:\n",
    "     print(\"Congrats. Your guess is correct\")"
   ]
  },
  {
   "cell_type": "markdown",
   "metadata": {},
   "source": [
    "## 3b - Fråga?????"
   ]
  },
  {
   "cell_type": "code",
   "execution_count": null,
   "metadata": {},
   "outputs": [],
   "source": [
    "from random import randrange # randrange gives an integral random value\n",
    "\n",
    "i = randrange(0, 100)\n",
    "y = 50\n",
    "guessnumber = 1\n",
    "\n",
    "while y != i:\n",
    "    if y < i:\n",
    "        print(\"Your guess is too small\")\n",
    "        y = y * 1.5\n",
    "        guessnumber +=1\n",
    "    if y > i:\n",
    "        print(\"Your guess is too large\")\n",
    "        y /= 2\n",
    "        guessnumber += 1\n",
    "\n",
    "else:\n",
    "    print(f\"Congrats. {y} is the right number. It took {guessnumber} guesses\")"
   ]
  },
  {
   "cell_type": "markdown",
   "metadata": {},
   "source": [
    "## 4"
   ]
  },
  {
   "cell_type": "code",
   "execution_count": 4,
   "metadata": {},
   "outputs": [
    {
     "name": "stdout",
     "output_type": "stream",
     "text": [
      "Sorry. Correct answer is 25\n",
      "Whould you like to play again? (yes/no)\n",
      "This is not valid input\n",
      "Whould you like to play again? (yes/no)\n",
      "This is not valid input\n",
      "Whould you like to play again? (yes/no)\n",
      "This is not valid input\n",
      "Whould you like to play again? (yes/no)\n",
      "This is not valid input\n",
      "Whould you like to play again? (yes/no)\n",
      "Have a good day\n"
     ]
    },
    {
     "ename": "SystemExit",
     "evalue": "",
     "output_type": "error",
     "traceback": [
      "An exception has occurred, use %tb to see the full traceback.\n",
      "\u001b[1;31mSystemExit\u001b[0m\n"
     ]
    },
    {
     "name": "stderr",
     "output_type": "stream",
     "text": [
      "c:\\Users\\DorotaBjöörn-AI22GBG\\.virtualenvs\\Python-Dorota-Bjoorn-uzahzrwe\\lib\\site-packages\\IPython\\core\\interactiveshell.py:3386: UserWarning: To exit: use 'exit', 'quit', or Ctrl-D.\n",
      "  warn(\"To exit: use 'exit', 'quit', or Ctrl-D.\", stacklevel=1)\n"
     ]
    }
   ],
   "source": [
    "from random import randint\n",
    "import sys\n",
    "\n",
    "\n",
    "while True:\n",
    "    x = randint(1, 10)\n",
    "    y = randint(1, 10)\n",
    "    product = x * y\n",
    "\n",
    "    user_calculation = int(input(f\"What is the product of {x} and {y}?\"))\n",
    "\n",
    "    if user_calculation == product:\n",
    "        print(f\"Good work\")\n",
    "    else:\n",
    "        print(f\"Sorry. Correct answer is {product}\")\n",
    "\n",
    "    while True:\n",
    "        answer=input(print(\"Whould you like to play again? (yes/no)\"))\n",
    "        if answer == \"yes\":\n",
    "            break\n",
    "        elif answer ==\"no\":\n",
    "            print(\"Have a good day\")\n",
    "            sys.exit() # kolla upp????????\n",
    "        else:\n",
    "            print(\"This is not valid input\")\n"
   ]
  },
  {
   "cell_type": "markdown",
   "metadata": {},
   "source": [
    "## 5a"
   ]
  },
  {
   "cell_type": "code",
   "execution_count": 5,
   "metadata": {},
   "outputs": [
    {
     "name": "stdout",
     "output_type": "stream",
     "text": [
      "sum = 2.0\n"
     ]
    }
   ],
   "source": [
    "sum = 0\n",
    "n = 0\n",
    "\n",
    "while sum - (sum-(1/2**n)) > 1e-20:\n",
    "    sum += (1/2**n)\n",
    "    n += 1\n",
    "\n",
    "print(f\"sum = {sum}\")\n"
   ]
  },
  {
   "cell_type": "markdown",
   "metadata": {},
   "source": [
    "## 5b"
   ]
  },
  {
   "cell_type": "code",
   "execution_count": 6,
   "metadata": {},
   "outputs": [
    {
     "name": "stdout",
     "output_type": "stream",
     "text": [
      "sum = 1.0\n"
     ]
    }
   ],
   "source": [
    "sum = 0\n",
    "n = 0\n",
    "\n",
    "while sum - (sum-((-1)**n/(2*n+1))) > 1e-10:\n",
    "    sum += ((-1)**n/(2*n+1))\n",
    "    n += 1\n",
    "\n",
    "print(f\"sum = {sum}\")\n"
   ]
  }
 ],
 "metadata": {
  "kernelspec": {
   "display_name": "Python 3.9.13 ('Python-Dorota-Bjoorn-uzahzrwe')",
   "language": "python",
   "name": "python3"
  },
  "language_info": {
   "codemirror_mode": {
    "name": "ipython",
    "version": 3
   },
   "file_extension": ".py",
   "mimetype": "text/x-python",
   "name": "python",
   "nbconvert_exporter": "python",
   "pygments_lexer": "ipython3",
   "version": "3.9.13"
  },
  "orig_nbformat": 4,
  "vscode": {
   "interpreter": {
    "hash": "5a42c404417d75b6068b47c895b5f82ed1ebeda4880f3472a880a0dea30e7469"
   }
  }
 },
 "nbformat": 4,
 "nbformat_minor": 2
}
