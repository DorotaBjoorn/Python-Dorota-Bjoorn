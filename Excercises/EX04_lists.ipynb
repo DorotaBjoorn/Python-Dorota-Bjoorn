{
 "cells": [
  {
   "cell_type": "markdown",
   "metadata": {},
   "source": [
    "### 1"
   ]
  },
  {
   "cell_type": "code",
   "execution_count": 43,
   "metadata": {},
   "outputs": [
    {
     "data": {
      "text/plain": [
       "[2, 1, 1, 3, 4, 6, 4, 3, 4, 5]"
      ]
     },
     "execution_count": 43,
     "metadata": {},
     "output_type": "execute_result"
    }
   ],
   "source": [
    "import random as rnd\n",
    "\n",
    "dice = [rnd.randint(1, 6) for _ in range (10)]\n",
    "dice"
   ]
  },
  {
   "cell_type": "code",
   "execution_count": 44,
   "metadata": {},
   "outputs": [
    {
     "data": {
      "text/plain": [
       "[1, 1, 2, 3, 3, 4, 4, 4, 5, 6]"
      ]
     },
     "execution_count": 44,
     "metadata": {},
     "output_type": "execute_result"
    }
   ],
   "source": [
    "#a\n",
    "dice.sort()\n",
    "dice"
   ]
  },
  {
   "cell_type": "code",
   "execution_count": 45,
   "metadata": {},
   "outputs": [
    {
     "data": {
      "text/plain": [
       "[6, 5, 4, 4, 4, 3, 3, 2, 1, 1]"
      ]
     },
     "execution_count": 45,
     "metadata": {},
     "output_type": "execute_result"
    }
   ],
   "source": [
    "#b\n",
    "dice.sort(reverse=True)\n",
    "dice"
   ]
  },
  {
   "cell_type": "code",
   "execution_count": 46,
   "metadata": {},
   "outputs": [
    {
     "name": "stdout",
     "output_type": "stream",
     "text": [
      "6\n",
      "1\n"
     ]
    }
   ],
   "source": [
    "largest_value = max(dice)\n",
    "smallest_value = min(dice)\n",
    "print(largest_value)\n",
    "print(smallest_value)"
   ]
  },
  {
   "cell_type": "markdown",
   "metadata": {},
   "source": [
    "### 2"
   ]
  },
  {
   "cell_type": "code",
   "execution_count": 42,
   "metadata": {},
   "outputs": [
    {
     "name": "stdout",
     "output_type": "stream",
     "text": [
      "Bambameny:\n",
      "Monday    : vegetarisk lasagne\n",
      "Tuesday   : spaghetti\n",
      "Wednesday : fisk\n",
      "Thursday  : grönsakssoppa\n",
      "Friday    : pannkakor\n"
     ]
    }
   ],
   "source": [
    "#a, #b, #c\n",
    "\n",
    "foods = [\"vegetarisk lasagne\", \"spaghetti\", \"fisk\", \"grönsakssoppa\", \"pannkakor\"]\n",
    "weekdays = [\"Monday\", \"Tuesday\", \"Wednesday\", \"Thursday\", \"Friday\"]\n",
    "\n",
    "print(\"Bambameny:\")\n",
    "for day, food in zip(weekdays, foods):\n",
    "    print (f\"{day:10}: {food}\")\n"
   ]
  },
  {
   "cell_type": "markdown",
   "metadata": {},
   "source": [
    "### 3"
   ]
  },
  {
   "cell_type": "markdown",
   "metadata": {},
   "source": []
  },
  {
   "cell_type": "code",
   "execution_count": 47,
   "metadata": {},
   "outputs": [
    {
     "name": "stdout",
     "output_type": "stream",
     "text": [
      "[100, 81, 64, 49, 36, 25, 16, 9, 4, 1, 0, 1, 4, 9, 16, 25, 36, 49, 64, 81, 100]\n"
     ]
    },
    {
     "data": {
      "text/plain": [
       "Text(0, 0.5, 'y')"
      ]
     },
     "execution_count": 47,
     "metadata": {},
     "output_type": "execute_result"
    },
    {
     "data": {
      "image/png": "[encoded data removed]",
      "text/plain": [
       "<Figure size 640x480 with 1 Axes>"
      ]
     },
     "metadata": {},
     "output_type": "display_data"
    }
   ],
   "source": [
    "cubes = [i**2 for i in range(-10, 11)]\n",
    "print(cubes)\n",
    "\n",
    "import math\n",
    "import matplotlib.pyplot as plt\n",
    "plt.plot(range(-10, 11), cubes)\n",
    "plt.title(\"y = x^2\")\n",
    "plt.xlabel(\"x\")\n",
    "plt.ylabel(\"y\")"
   ]
  },
  {
   "cell_type": "markdown",
   "metadata": {},
   "source": [
    "#### 4"
   ]
  },
  {
   "cell_type": "code",
   "execution_count": 13,
   "metadata": {},
   "outputs": [
    {
     "name": "stdout",
     "output_type": "stream",
     "text": [
      "['A1', 'B1', 'C1', 'D1', 'E1', 'F1', 'G1', 'H1']\n"
     ]
    }
   ],
   "source": [
    "# a\n",
    "\n",
    "columns = [\"A\", \"B\", \"C\", \"D\", \"E\", \"F\", \"G\", \"H\"]\n",
    "\n",
    "positions = [columns[i] + \"1\" for i in range(len(columns))] #range längden listan columns dvs 8\n",
    "print (positions)"
   ]
  },
  {
   "cell_type": "code",
   "execution_count": 21,
   "metadata": {},
   "outputs": [
    {
     "name": "stdout",
     "output_type": "stream",
     "text": [
      "['A1', 'B1', 'C1', 'D1', 'E1', 'F1', 'G1', 'H1']\n",
      "['A2', 'B2', 'C2', 'D2', 'E2', 'F2', 'G2', 'H2']\n",
      "['A3', 'B3', 'C3', 'D3', 'E3', 'F3', 'G3', 'H3']\n",
      "['A4', 'B4', 'C4', 'D4', 'E4', 'F4', 'G4', 'H4']\n",
      "['A5', 'B5', 'C5', 'D5', 'E5', 'F5', 'G5', 'H5']\n",
      "['A6', 'B6', 'C6', 'D6', 'E6', 'F6', 'G6', 'H6']\n",
      "['A7', 'B7', 'C7', 'D7', 'E7', 'F7', 'G7', 'H7']\n",
      "['A8', 'B8', 'C8', 'D8', 'E8', 'F8', 'G8', 'H8']\n"
     ]
    }
   ],
   "source": [
    "# b\n",
    "\n",
    "columns = [\"A\", \"B\", \"C\", \"D\", \"E\", \"F\", \"G\", \"H\"]\n",
    "\n",
    "for raw in range(1,9): #OBS 9 faständ den ger 8 rader\n",
    "    positions = [columns[i] + str(raw) for i in range(len(columns))]\n",
    "    print(positions)\n"
   ]
  },
  {
   "cell_type": "markdown",
   "metadata": {},
   "source": [
    "#### 5"
   ]
  },
  {
   "cell_type": "code",
   "execution_count": 36,
   "metadata": {},
   "outputs": [
    {
     "name": "stdout",
     "output_type": "stream",
     "text": [
      "[1, 2, 4, 6, 6, 5, 4, 5, 5, 2]\n",
      "2\n"
     ]
    }
   ],
   "source": [
    "#a\n",
    "\n",
    "import random as rnd\n",
    "number_of_sixes=0\n",
    "\n",
    "dice = [rnd.randint(1,6) for _ in range (10)]\n",
    "\n",
    "for i in range(10):\n",
    "    if dice[i] == 6:\n",
    "        number_of_sixes +=1\n",
    "\n",
    "print(dice)\n",
    "print(number_of_sixes)"
   ]
  },
  {
   "cell_type": "code",
   "execution_count": 68,
   "metadata": {},
   "outputs": [
    {
     "name": "stdout",
     "output_type": "stream",
     "text": [
      "[3, 6, 5, 3, 6, 3, 3, 6, 4, 6]\n",
      "[4]\n"
     ]
    }
   ],
   "source": [
    "#b\n",
    "\n",
    "number_of_rolls_list = [10, 100]\n",
    "number_of_sixes_list = []\n",
    "\n",
    "\n",
    "dice = [rnd.randint(1,6) for _ in range(number_of_rolls_list[0])]\n",
    "\n",
    "number_of_sixes = 0\n",
    "for roll in range(number_of_rolls_list[0]):    \n",
    "    if dice[roll] == 6:\n",
    "        number_of_sixes +=1\n",
    "number_of_sixes_list.append(number_of_sixes)\n",
    "\n",
    "print(dice)\n",
    "print(number_of_sixes_list)\n",
    "    \n"
   ]
  }
 ],
 "metadata": {
  "kernelspec": {
   "display_name": "Python 3.9.13 ('Python-Dorota-Bjoorn-uzahzrwe')",
   "language": "python",
   "name": "python3"
  },
  "language_info": {
   "codemirror_mode": {
    "name": "ipython",
    "version": 3
   },
   "file_extension": ".py",
   "mimetype": "text/x-python",
   "name": "python",
   "nbconvert_exporter": "python",
   "pygments_lexer": "ipython3",
   "version": "3.9.13"
  },
  "orig_nbformat": 4,
  "vscode": {
   "interpreter": {
    "hash": "5a42c404417d75b6068b47c895b5f82ed1ebeda4880f3472a880a0dea30e7469"
   }
  }
 },
 "nbformat": 4,
 "nbformat_minor": 2
}
