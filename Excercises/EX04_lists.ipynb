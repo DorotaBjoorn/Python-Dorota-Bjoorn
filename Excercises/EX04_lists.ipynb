{
 "cells": [
  {
   "cell_type": "markdown",
   "metadata": {},
   "source": [
    "### 1"
   ]
  },
  {
   "cell_type": "code",
   "execution_count": 2,
   "metadata": {},
   "outputs": [
    {
     "data": {
      "text/plain": [
       "[1, 1, 4, 2, 4, 1, 6, 3, 5, 5]"
      ]
     },
     "execution_count": 2,
     "metadata": {},
     "output_type": "execute_result"
    }
   ],
   "source": [
    "import random as rnd\n",
    "\n",
    "dice = [rnd.randint(1, 6) for _ in range (10)]\n",
    "dice"
   ]
  },
  {
   "cell_type": "code",
   "execution_count": 3,
   "metadata": {},
   "outputs": [
    {
     "data": {
      "text/plain": [
       "[1, 1, 1, 2, 3, 4, 4, 5, 5, 6]"
      ]
     },
     "execution_count": 3,
     "metadata": {},
     "output_type": "execute_result"
    }
   ],
   "source": [
    "#a\n",
    "dice.sort()\n",
    "dice"
   ]
  },
  {
   "cell_type": "code",
   "execution_count": 4,
   "metadata": {},
   "outputs": [
    {
     "data": {
      "text/plain": [
       "[6, 5, 5, 4, 4, 3, 2, 1, 1, 1]"
      ]
     },
     "execution_count": 4,
     "metadata": {},
     "output_type": "execute_result"
    }
   ],
   "source": [
    "#b\n",
    "dice.sort(reverse=True)\n",
    "dice"
   ]
  },
  {
   "cell_type": "code",
   "execution_count": 5,
   "metadata": {},
   "outputs": [
    {
     "name": "stdout",
     "output_type": "stream",
     "text": [
      "6\n",
      "1\n"
     ]
    }
   ],
   "source": [
    "largest_value = max(dice)\n",
    "smallest_value = min(dice)\n",
    "print(largest_value)\n",
    "print(smallest_value)"
   ]
  },
  {
   "cell_type": "markdown",
   "metadata": {},
   "source": [
    "### 2"
   ]
  },
  {
   "cell_type": "code",
   "execution_count": 6,
   "metadata": {},
   "outputs": [
    {
     "name": "stdout",
     "output_type": "stream",
     "text": [
      "Bambameny:\n",
      "Monday    : vegetarisk lasagne\n",
      "Tuesday   : spaghetti\n",
      "Wednesday : fisk\n",
      "Thursday  : grönsakssoppa\n",
      "Friday    : pannkakor\n"
     ]
    }
   ],
   "source": [
    "#a, #b, #c\n",
    "\n",
    "foods = [\"vegetarisk lasagne\", \"spaghetti\", \"fisk\", \"grönsakssoppa\", \"pannkakor\"]\n",
    "weekdays = [\"Monday\", \"Tuesday\", \"Wednesday\", \"Thursday\", \"Friday\"]\n",
    "\n",
    "print(\"Bambameny:\")\n",
    "for day, food in zip(weekdays, foods):\n",
    "    print (f\"{day:10}: {food}\")\n"
   ]
  },
  {
   "cell_type": "markdown",
   "metadata": {},
   "source": [
    "### 3"
   ]
  },
  {
   "cell_type": "markdown",
   "metadata": {},
   "source": []
  },
  {
   "cell_type": "code",
   "execution_count": 7,
   "metadata": {},
   "outputs": [
    {
     "name": "stdout",
     "output_type": "stream",
     "text": [
      "[100, 81, 64, 49, 36, 25, 16, 9, 4, 1, 0, 1, 4, 9, 16, 25, 36, 49, 64, 81, 100]\n"
     ]
    },
    {
     "data": {
      "text/plain": [
       "Text(0, 0.5, 'y')"
      ]
     },
     "execution_count": 7,
     "metadata": {},
     "output_type": "execute_result"
    },
    {
     "data": {
      "image/png": "[encoded data removed]",
      "text/plain": [
       "<Figure size 640x480 with 1 Axes>"
      ]
     },
     "metadata": {},
     "output_type": "display_data"
    }
   ],
   "source": [
    "cubes = [i**2 for i in range(-10, 11)]\n",
    "print(cubes)\n",
    "\n",
    "import math\n",
    "import matplotlib.pyplot as plt\n",
    "plt.plot(range(-10, 11), cubes)\n",
    "plt.title(\"y = x^2\")\n",
    "plt.xlabel(\"x\")\n",
    "plt.ylabel(\"y\")"
   ]
  },
  {
   "cell_type": "markdown",
   "metadata": {},
   "source": [
    "#### 4"
   ]
  },
  {
   "cell_type": "code",
   "execution_count": 8,
   "metadata": {},
   "outputs": [
    {
     "name": "stdout",
     "output_type": "stream",
     "text": [
      "['A1', 'B1', 'C1', 'D1', 'E1', 'F1', 'G1', 'H1']\n"
     ]
    }
   ],
   "source": [
    "# a\n",
    "\n",
    "columns = [\"A\", \"B\", \"C\", \"D\", \"E\", \"F\", \"G\", \"H\"]\n",
    "\n",
    "positions = [columns[i] + \"1\" for i in range(len(columns))] #range längden listan columns dvs 8\n",
    "print (positions)"
   ]
  },
  {
   "cell_type": "code",
   "execution_count": 9,
   "metadata": {},
   "outputs": [
    {
     "name": "stdout",
     "output_type": "stream",
     "text": [
      "['A1', 'B1', 'C1', 'D1', 'E1', 'F1', 'G1', 'H1']\n",
      "['A2', 'B2', 'C2', 'D2', 'E2', 'F2', 'G2', 'H2']\n",
      "['A3', 'B3', 'C3', 'D3', 'E3', 'F3', 'G3', 'H3']\n",
      "['A4', 'B4', 'C4', 'D4', 'E4', 'F4', 'G4', 'H4']\n",
      "['A5', 'B5', 'C5', 'D5', 'E5', 'F5', 'G5', 'H5']\n",
      "['A6', 'B6', 'C6', 'D6', 'E6', 'F6', 'G6', 'H6']\n",
      "['A7', 'B7', 'C7', 'D7', 'E7', 'F7', 'G7', 'H7']\n",
      "['A8', 'B8', 'C8', 'D8', 'E8', 'F8', 'G8', 'H8']\n"
     ]
    }
   ],
   "source": [
    "# b\n",
    "\n",
    "columns = [\"A\", \"B\", \"C\", \"D\", \"E\", \"F\", \"G\", \"H\"]\n",
    "\n",
    "for raw in range(1,9): #OBS 9 faständ den ger 8 rader\n",
    "    positions = [columns[i] + str(raw) for i in range(len(columns))]\n",
    "    print(positions)\n"
   ]
  },
  {
   "cell_type": "markdown",
   "metadata": {},
   "source": [
    "#### 5"
   ]
  },
  {
   "cell_type": "code",
   "execution_count": 10,
   "metadata": {},
   "outputs": [
    {
     "name": "stdout",
     "output_type": "stream",
     "text": [
      "[1, 6, 4, 6, 5, 1, 5, 5, 6, 6]\n",
      "4\n"
     ]
    }
   ],
   "source": [
    "#a\n",
    "\n",
    "import random as rnd\n",
    "number_of_sixes=0\n",
    "\n",
    "dice = [rnd.randint(1,6) for _ in range (10)]\n",
    "\n",
    "for i in range(10):\n",
    "    if dice[i] == 6:\n",
    "        number_of_sixes +=1\n",
    "\n",
    "print(dice)\n",
    "print(number_of_sixes)"
   ]
  },
  {
   "cell_type": "code",
   "execution_count": 29,
   "metadata": {},
   "outputs": [
    {
     "name": "stdout",
     "output_type": "stream",
     "text": [
      "[185250, 184640, 185242, 185252, 185655, 185071]\n",
      "[2, 17, 183, 1818, 18461, 185071]\n",
      "[0.2, 0.17, 0.183, 0.1818, 0.18461, 0.185071]\n"
     ]
    },
    {
     "data": {
      "image/png": "[encoded data removed]",
      "text/plain": [
       "<Figure size 640x480 with 1 Axes>"
      ]
     },
     "metadata": {},
     "output_type": "display_data"
    }
   ],
   "source": [
    "#b\n",
    "\n",
    "import matplotlib.pyplot as plt\n",
    "\n",
    "number_of_rolls_list = [10, 100, 1000, 10000, 100000, 1000000]\n",
    "outcome_list = [0, 0, 0, 0, 0, 0]\n",
    "number_of_sixes_list = []\n",
    "\n",
    "for rolls in number_of_rolls_list:\n",
    "    for roll in range (rolls):\n",
    "        dice = rnd.randint(1,6)\n",
    "        outcome_list[dice -1] += 1\n",
    "    number_of_sixes_list.append(outcome_list[-1])\n",
    "\n",
    "probability_of_six = [number_of_sixes/number_of_rolls for number_of_sixes, number_of_rolls in zip(number_of_sixes_list, number_of_rolls_list)]\n",
    "\n",
    "print(outcome_list)\n",
    "print(number_of_sixes_list)\n",
    "print(probability_of_six)\n",
    "\n",
    "plt.xscale(\"log\")\n",
    "plt.plot(number_of_rolls_list, probability_of_six);"
   ]
  },
  {
   "cell_type": "markdown",
   "metadata": {},
   "source": [
    "#### 6"
   ]
  },
  {
   "cell_type": "code",
   "execution_count": 12,
   "metadata": {},
   "outputs": [
    {
     "name": "stdout",
     "output_type": "stream",
     "text": [
      "[-1.  0.  1.]\n",
      "[-1.  0.  1.]\n",
      "[-1.0, -1.0, -1.0, 0.0, 0.0, 0.0, 1.0, 1.0, 1.0]\n",
      "[-1.0, 0.0, 1.0, -1.0, 0.0, 1.0, -1.0, 0.0, 1.0]\n"
     ]
    },
    {
     "data": {
      "image/png": "[encoded data removed]",
      "text/plain": [
       "<Figure size 640x480 with 1 Axes>"
      ]
     },
     "metadata": {},
     "output_type": "display_data"
    }
   ],
   "source": [
    "import numpy as np\n",
    "import matplotlib.pyplot as plt\n",
    "\n",
    "number_of_points = 9\n",
    "x_values_initial = np.linspace(-1, 1, 3)\n",
    "y_values = np.linspace(-1, 1, 3)\n",
    "print(x_values_initial)\n",
    "print(x_values_initial)\n",
    "\n",
    "#ziped = zip(x_values, y_values)\n",
    "#ziped = list(ziped)\n",
    "#print(ziped)\n",
    "\n",
    "points_list = []\n",
    "for x in x_values_initial:\n",
    "    for y in y_values:\n",
    "        points_list.append([x,y])\n",
    "\n",
    "x_values = [i[0] for i in points_list]\n",
    "y_values = [i[1] for i in points_list]\n",
    "\n",
    "print(x_values)\n",
    "print(y_values)\n",
    "#print(points_list)\n",
    "\n",
    "plt.scatter(x_values, y_values);\n"
   ]
  }
 ],
 "metadata": {
  "kernelspec": {
   "display_name": "Python 3.9.13 ('Python-Dorota-Bjoorn-uzahzrwe')",
   "language": "python",
   "name": "python3"
  },
  "language_info": {
   "codemirror_mode": {
    "name": "ipython",
    "version": 3
   },
   "file_extension": ".py",
   "mimetype": "text/x-python",
   "name": "python",
   "nbconvert_exporter": "python",
   "pygments_lexer": "ipython3",
   "version": "3.9.13"
  },
  "orig_nbformat": 4,
  "vscode": {
   "interpreter": {
    "hash": "5a42c404417d75b6068b47c895b5f82ed1ebeda4880f3472a880a0dea30e7469"
   }
  }
 },
 "nbformat": 4,
 "nbformat_minor": 2
}
