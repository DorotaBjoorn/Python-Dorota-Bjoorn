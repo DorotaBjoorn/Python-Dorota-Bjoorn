{
 "cells": [
  {
   "cell_type": "code",
   "execution_count": 2,
   "metadata": {},
   "outputs": [
    {
     "data": {
      "text/plain": [
       "[Text(0.5, 1.0, 'Plot'), Text(0.5, 0, 'x'), Text(0, 0.5, 'y')]"
      ]
     },
     "execution_count": 2,
     "metadata": {},
     "output_type": "execute_result"
    },
    {
     "data": {
      "image/png": "[encoded data removed]",
      "text/plain": [
       "<Figure size 640x480 with 1 Axes>"
      ]
     },
     "metadata": {},
     "output_type": "display_data"
    }
   ],
   "source": [
    "#1\n",
    "\n",
    "import matplotlib.pyplot as plt\n",
    "\n",
    "x = list(range(10))\n",
    "y = [i**2 for i in x]\n",
    "fig, ax = plt.figure(), plt.axes()\n",
    "ax.plot(x,y)\n",
    "ax.set(title=\"Plot\", xlabel=\"x\", ylabel=\"y\")\n"
   ]
  },
  {
   "cell_type": "code",
   "execution_count": 11,
   "metadata": {},
   "outputs": [
    {
     "name": "stdout",
     "output_type": "stream",
     "text": [
      "{1: 166784, 2: 166059, 3: 166851, 4: 166474, 5: 166600, 6: 167232}\n"
     ]
    }
   ],
   "source": [
    "# 2\n",
    "\n",
    "from random import randint\n",
    "\n",
    "dice_outcomes = {1:0, 2:0, 3:0, 4:0, 5:0, 6:0,}\n",
    "\n",
    "dice = [randint(1,6) for _ in range (10**6)]\n",
    "\n",
    "for roll in dice:\n",
    "    dice_outcomes[roll] += 1\n",
    "\n",
    "#print(dice)\n",
    "print(dice_outcomes)\n"
   ]
  },
  {
   "cell_type": "code",
   "execution_count": 17,
   "metadata": {},
   "outputs": [
    {
     "name": "stdout",
     "output_type": "stream",
     "text": [
      "Radius must be a float or int and not <class 'str'>\n",
      "Radius must be larger than 0\n",
      "Radius must be a float or int and not <class 'str'>\n",
      "Radius must be a float or int and not <class 'str'>\n",
      "5.0 gives volume 523.5987755982989\n"
     ]
    }
   ],
   "source": [
    "# 3\n",
    "\n",
    "from math import pi\n",
    "\n",
    "def volume(r):\n",
    "    v = 4*pi*r**3/3\n",
    "    return v        # OBS retrun\n",
    "\n",
    "while True:\n",
    "    r = input(\"Give value for radius\")\n",
    "    try:\n",
    "        r = float(r)\n",
    "        if r <= 0:\n",
    "            print (\"Radius must be larger than 0\")\n",
    "        else:\n",
    "            break\n",
    "    except ValueError: # OBS Value and not Type\n",
    "        print(f\"Radius must be a float or int and not {type(r)}\")\n",
    "\n",
    "print(f\"{r} gives volume {volume(r)}\")"
   ]
  },
  {
   "cell_type": "code",
   "execution_count": 93,
   "metadata": {},
   "outputs": [
    {
     "name": "stdout",
     "output_type": "stream",
     "text": [
      "ValueError('Value must be larger than 0') test\n",
      "ValueError(\"could not convert string to float: 'g'\") test\n",
      "Radien 3.0 ger volymen 113.09733552923255\n"
     ]
    }
   ],
   "source": [
    "# 3 igen med ???????????????????????\n",
    "\n",
    "from math import pi\n",
    "\n",
    "def volym(r):\n",
    "    v = 4 * pi * r**3/3\n",
    "    return v\n",
    "    \n",
    "\n",
    "while True:\n",
    "    r = input(\"Give a radius\")\n",
    "\n",
    "    try:\n",
    "        r = float(r)\n",
    "        if r <= 0:\n",
    "           raise ValueError (\"Value must be larger than 0\")\n",
    "        break\n",
    "    except ValueError as err:\n",
    "        print (repr(err),\"test\")\n",
    "\n",
    "print(f\"Radien {r} ger volymen {volym(r)}\")\n",
    "\n",
    "#???????????????????????????????????????????????5\n",
    "# rad 17 byta err mot meddelande så funkar bara 17 o inte 14\n",
    "# rad 14 byta till print så funkar 14\n",
    "# är inte str input TypeError?"
   ]
  },
  {
   "cell_type": "code",
   "execution_count": 1,
   "metadata": {},
   "outputs": [
    {
     "name": "stdout",
     "output_type": "stream",
     "text": [
      "v42\n",
      "Chili sin carne\n",
      "Pannkakor\n",
      "Ã„rtsoppa\n",
      "Kebab\n",
      "Vegetarisk lasagne\n"
     ]
    }
   ],
   "source": [
    "# 4\n",
    "\n",
    "with open(\"../Data/bamba.txt\", \"r\") as file:\n",
    "    file = file.read() # OBS behöver file=\n",
    "    print(file)"
   ]
  },
  {
   "cell_type": "code",
   "execution_count": 12,
   "metadata": {},
   "outputs": [
    {
     "name": "stdout",
     "output_type": "stream",
     "text": [
      "[[1, 2, 0, 0], [2, 0, 3, 5], [-2, -2, 9, 2]]\n",
      "[2.23606797749979, 5.0990195135927845, 11.704699910719626]\n"
     ]
    }
   ],
   "source": [
    "# 5\n",
    "\n",
    "from math import sqrt\n",
    "\n",
    "def distance(p1, p2, q1, q2):\n",
    "    d = sqrt((p1-q1)**2+(p2-q2)**2)\n",
    "    return d\n",
    "\n",
    "with open(\"../Data/testpunkter.txt\", \"r\") as file:\n",
    "    data_list_initial = file.readlines()[1:] #skppar 1a raden med headings\n",
    "\n",
    "    test_point_list = []\n",
    "    for line in data_list_initial:\n",
    "        (p1, p2, q1, q2) = line.replace(\"(\", \"\").replace(\")\", \"\").replace(\"\\n\",\"\").split(\",\")\n",
    "        p1 = int(p1)\n",
    "        p2 = int(p2)\n",
    "        q1 = int(q1)\n",
    "        q2 = int(q2)\n",
    "        test_point_list.append([p1, p2, q1, q2])\n",
    "\n",
    "distance_list = []\n",
    "for p1, p2, q1, q2 in test_point_list:\n",
    "    d = distance(p1, p2, q1, q2)\n",
    "    distance_list.append(d)\n",
    "\n",
    "print(test_point_list)\n",
    "print(distance_list)"
   ]
  },
  {
   "cell_type": "code",
   "execution_count": 74,
   "metadata": {},
   "outputs": [
    {
     "name": "stdout",
     "output_type": "stream",
     "text": [
      "Dealern has 2 cards, where the first one is 8\n",
      "Your cards are ['Q', 9]\n",
      "Congratulatins! Your score is 19, dealers score is 18\n",
      "[10, 9]\n"
     ]
    }
   ],
   "source": [
    "# 6\n",
    "\n",
    "from random import choice\n",
    "\n",
    "cards = [\"A\", 2, 3, 4, 5, 6, 7, 8, 9, 10, \"J\", \"Q\", \"K\"]\n",
    "dealer_cards = []\n",
    "player_cards = []\n",
    "\n",
    "dealer_cards = [choice(cards) for _ in range (2)]\n",
    "print(f\"Dealern has 2 cards, where the first one is {dealer_cards[0]}\")\n",
    "\n",
    "player_cards = [choice(cards)] # 1a kortet delas ut här\n",
    "\n",
    "next_card = \"y\"\n",
    "while next_card == \"y\":\n",
    "    player_cards.append(choice(cards)) # 2a kortet delas ut här\n",
    "    print(f\"Your cards are {player_cards}\")\n",
    "    next_card = input(\"Whould you like another card? y/n\") # frågar om 3e kort, 4e kort osv\n",
    "\n",
    "\n",
    "# omvanlar alla J, Q, K, A till dess numeriska värde i listorna för att kunna summera\n",
    "# sätt 2: gör en tom ny lista och appenda till den istället\n",
    "dealer_cards_numbers_only = []\n",
    "for card in dealer_cards:\n",
    "    if card == \"J\" or card == \"Q\" or card == \"K\":\n",
    "        dealer_cards_numbers_only.append(10)\n",
    "    elif card == \"A\":\n",
    "        if sum(dealer_cards_numbers_only) < 11:\n",
    "            dealer_cards_numbers_only.append(11)\n",
    "        else:\n",
    "            dealer_cards_numbers_only.append(1)\n",
    "    else:\n",
    "        dealer_cards_numbers_only.append(card)\n",
    "dealer_sum = sum(dealer_cards_numbers_only)\n",
    "\n",
    "# sätt 1 enumarate (ändrar direkt i listan)\n",
    "for index, card in enumerate(player_cards):\n",
    "    if card in [\"J\", \"Q\", \"K\"]:\n",
    "        player_cards[index] = 10\n",
    "    if card == \"A\":\n",
    "        # om A 1a kortet är index ==0\n",
    "        #summera alla kort innan A för att avgöra om A är 11 eller 1\n",
    "        if index == 0 or sum(player_cards[:index-1]) <= 10: \n",
    "            player_cards[index] = 11\n",
    "        else:\n",
    "            player_cards[index] = 1\n",
    "player_sum = sum(player_cards)\n",
    "\n",
    "if player_sum > 21:\n",
    "    for index, card in enumerate(player_cards):\n",
    "        if card == 11:\n",
    "            player_cards[index] = 1\n",
    "    player_sum = sum(player_cards)\n",
    "\n",
    "if player_sum <= 21 and player_sum > dealer_sum:\n",
    "    print (f\"Congratulatins! Your score is {player_sum}, dealers score is {dealer_sum}\")\n",
    "else:\n",
    "    print (f\"Too bad! Your score is {player_sum}, dealers score is {dealer_sum}\")"
   ]
  },
  {
   "cell_type": "code",
   "execution_count": 65,
   "metadata": {},
   "outputs": [],
   "source": [
    "# 7\n",
    "from math import sqrt, pi, log\n",
    "import matplotlib.pyplot as plt\n",
    "import numpy as np\n",
    "\n",
    "class NormalDist:\n",
    "    def __init__(self, mu: float, sigma:float) -> None:\n",
    "        self._mu = mu\n",
    "        self._sigma = sigma\n",
    "    \n",
    "    def pdf (self, x: float) -> float:\n",
    "        f = (np.pi*self._sigma) * np.exp(-0.5*((x-self._mu)/self._sigma)**2)\n",
    "        return f\n",
    "    \n",
    "    def plot_pdf (self, x: float) -> None:\n",
    "        x = np.linspace(-x,x,50)\n",
    "        plt.plot(x, self.pdf(x))\n",
    "        plt.xlabel(\"x\")\n",
    "        plt.ylabel(\"y\")\n",
    "        plt.title(\"Normal distribution\")\n",
    "\n",
    "    def __add__ (self, other: float): # returnerar NOrmalDist\n",
    "        mu = self._mu + other._mu                               # går ej om man bara skriver self._mu += other.mu\n",
    "        sigma = self._sigma + other._sigma\n",
    "        return NormalDist(mu, sigma)\n",
    "    \n",
    "    \n",
    "    def __repr__ (self) -> str:\n",
    "        return f\"NormalDist ({self._mu}, {self._sigma})\""
   ]
  },
  {
   "cell_type": "code",
   "execution_count": 66,
   "metadata": {},
   "outputs": [
    {
     "data": {
      "image/png": "[encoded data removed]",
      "text/plain": [
       "<Figure size 640x480 with 1 Axes>"
      ]
     },
     "metadata": {},
     "output_type": "display_data"
    }
   ],
   "source": [
    "nd = NormalDist(0,1)\n",
    "nd2 = NormalDist(2,2)\n",
    "nd3 = nd + nd2\n",
    "nd3.plot_pdf(3)\n"
   ]
  },
  {
   "cell_type": "code",
   "execution_count": 95,
   "metadata": {},
   "outputs": [
    {
     "name": "stdout",
     "output_type": "stream",
     "text": [
      "[[1, 2], [2, 0], [-2, -2]]\n",
      "[[0, 0], [3, 5], [9, 2]]\n",
      "[2.23606797749979, 5.0990195135927845, 11.704699910719626]\n"
     ]
    }
   ],
   "source": [
    "#5 new solution\n",
    "\n",
    "from math import sqrt\n",
    "\n",
    "def distance (point1, point2):\n",
    "    d = sqrt((point1[0]-point2[0])**2 + (point1[1]-point2[1])**2)\n",
    "    return d\n",
    "\n",
    "with open (\"../Data/testpunkter.txt\", \"r\") as file, open(\"../Data/testpunkter.txt\", \"a\") as file_append:\n",
    "    data = file.readlines()[1:]\n",
    "\n",
    "    point1_list = []\n",
    "    point2_list = []\n",
    "    for line in data:\n",
    "        p1, p2, q1, q2 = line.replace(\"(\", \"\").replace(\")\", \"\").split(\",\")\n",
    "        point1 = [int(p1), int(p2)]\n",
    "        point2 = [int(q1), int(q2)]\n",
    "        point1_list.append(point1)\n",
    "        point2_list.append(point2)\n",
    "\n",
    "    distance_list = [distance(point1, point2) for point1, point2 in zip(point1_list, point2_list)]\n",
    "    \n",
    "    file_append.write(f\"\\nDistances are:\\n{distance_list}\")\n",
    "\n",
    "\n",
    "\n",
    "print(point1_list)\n",
    "print(point2_list)\n",
    "print(distance_list)\n",
    "        \n",
    "\n"
   ]
  }
 ],
 "metadata": {
  "kernelspec": {
   "display_name": "Python 3.9.13 ('Python-Dorota-Bjoorn-uzahzrwe')",
   "language": "python",
   "name": "python3"
  },
  "language_info": {
   "codemirror_mode": {
    "name": "ipython",
    "version": 3
   },
   "file_extension": ".py",
   "mimetype": "text/x-python",
   "name": "python",
   "nbconvert_exporter": "python",
   "pygments_lexer": "ipython3",
   "version": "3.9.13"
  },
  "orig_nbformat": 4,
  "vscode": {
   "interpreter": {
    "hash": "5a42c404417d75b6068b47c895b5f82ed1ebeda4880f3472a880a0dea30e7469"
   }
  }
 },
 "nbformat": 4,
 "nbformat_minor": 2
}
