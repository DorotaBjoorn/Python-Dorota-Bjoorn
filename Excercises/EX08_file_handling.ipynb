{
 "cells": [
  {
   "cell_type": "markdown",
   "metadata": {},
   "source": [
    "#### 1"
   ]
  },
  {
   "cell_type": "code",
   "execution_count": 38,
   "metadata": {},
   "outputs": [
    {
     "name": "stdout",
     "output_type": "stream",
     "text": [
      "[1, 6, 2, 4, 3, 6, 1, 5, 1, 1, 6, 1, 5, 5, 4, 3, 4, 5, 6, 1]\n",
      "[1, 1, 1, 1, 1, 1, 2, 3, 3, 4, 4, 4, 5, 5, 5, 5, 6, 6, 6, 6]\n",
      "3\n"
     ]
    }
   ],
   "source": [
    "import random as rnd\n",
    "\n",
    "with open(\"../Data/EX08_1_dice.txt\", \"w\") as file:\n",
    "    dice_rolls = [rnd.randint(1,6) for _ in range(20)]\n",
    "\n",
    "    sorted_dice_rolls = sorted(dice_rolls)\n",
    "\n",
    "    n_of_4s = 0\n",
    "    for roll in dice_rolls:\n",
    "        if roll == 4:\n",
    "         n_of_4s += 1\n",
    "\n",
    "    file.write(f\"Random 20 rolls are:\\n {dice_rolls}\\n\\n\\n\")\n",
    "    file.write(f\"Those 20 rolls sorted are:\\n {sorted_dice_rolls}\\n\\n\\n\")\n",
    "    file.write(f\"Number of 4s in this set of 20 is:\\n {n_of_4s}\")\n",
    "\n",
    "print(dice_rolls)\n",
    "print(sorted_dice_rolls)\n",
    "print(n_of_4s)"
   ]
  },
  {
   "cell_type": "markdown",
   "metadata": {},
   "source": [
    "#### 2"
   ]
  },
  {
   "cell_type": "code",
   "execution_count": 20,
   "metadata": {},
   "outputs": [
    {
     "name": "stdout",
     "output_type": "stream",
     "text": [
      "['Adam Gustafsson 25\\n', 'BjÃ¶rn BjÃ¶rnsson 39\\n', 'Bose Bosseson 32\\n', 'Ella Ester 41\\n', 'Emil Johansson 23\\n', 'Emma Boden 32\\n', 'Erik Eriksson 31\\n', 'Fredrika Ulven 10\\n', 'Gore Bord 55\\n', 'Hanna Karlsson 23 \\n', 'HÃ¥kan HÃ¥kanson 24\\n', 'Ida HÃ¥kansson 23\\n', 'Jakob Kallander 65\\n', 'Johan Johansson 42\\n', 'Jonas Jonasson 31\\n', 'Karl Karlsson 32\\n', 'Ove Karlsten 41\\n', 'Sven Erik Karlsson 13\\n', 'Sven Erik Lundin 39\\n']\n"
     ]
    }
   ],
   "source": [
    "path = \"../Data/test_result.txt\"\n",
    "path_explore = \"../Data/test_result_explore.txt\"\n",
    "\n",
    "with open(path, \"r\") as file_read, open(path_explore, \"w\") as file_explore:\n",
    "    # .read skulle ge en lista av strängar, där varje element i listan är en bokstav (inte önskvärt här)\n",
    "    # .readlines ger en lista av strängar, där varje sträng än en rad i textfilen\n",
    "    lines_list = file_read.readlines()\n",
    "\n",
    "    # sista elementet behöver få en nyrad innan sortering\n",
    "    lines_list[-1] += \"\\n\"\n",
    "    lines_list.sort()\n",
    "    \n",
    "    file_explore.write(\"\\n\\n\\nSorterad i alfabetorning: \\n\")\n",
    "\n",
    "    for line in lines_list:\n",
    "        file_explore.write(line)\n",
    "    \n",
    "    print(lines_list)\n",
    "\n",
    "# c\n",
    "    person_list =[]\n",
    "    for line in lines_list:\n",
    "        person_list.append(line.rsplit(maxsplit=1)) #rsplit splittar från höger, maxsplit ger max antalt som skall splittas av där 1 ger 2 element\n",
    "\n",
    "    students_F = []\n",
    "    students_E = []\n",
    "    students_D = []\n",
    "    students_C = []\n",
    "    students_B = []\n",
    "    students_A = []\n",
    "\n",
    "    for row in person_list:\n",
    "        (name, points) = row\n",
    "        points = int(points)\n",
    "        if points < 20:\n",
    "            students_F.append(row)\n",
    "        elif 20 <= points < 30:\n",
    "            students_E.append(row)\n",
    "        elif 30 <= points < 40:\n",
    "            students_D.append(row)\n",
    "        elif 40 <= points < 50:\n",
    "            students_C.append(row)\n",
    "        elif 50 <= points < 60:\n",
    "            students_B.append(row)\n",
    "        elif 60 <= points <= 70:\n",
    "            students_A.append(row)\n",
    "\n",
    "    file_explore.write(\"\\n\\n\\nSorted results per grade\\n\")\n",
    "    file_explore.write(\"Grade F\\n\")\n",
    "    for student in students_F:\n",
    "        file_explore.write(\" \".join(student))\n",
    "        file_explore.write(\"\\n\")\n",
    "    file_explore.write(\"Grade E\\n\")\n",
    "    for student in students_E:\n",
    "        file_explore.write(\" \".join(student))\n",
    "        file_explore.write(\"\\n\")\n",
    "    file_explore.write(\"Grade D\\n\")\n",
    "    for student in students_D:\n",
    "        file_explore.write(\" \".join(student))\n",
    "        file_explore.write(\"\\n\")\n",
    "    file_explore.write(\"Grade C\\n\")\n",
    "    for student in students_C:\n",
    "        file_explore.write(\" \".join(student))\n",
    "        file_explore.write(\"\\n\")\n",
    "    file_explore.write(\"Grade B\\n\")\n",
    "    for student in students_B:\n",
    "        file_explore.write(\" \".join(student))\n",
    "        file_explore.write(\"\\n\")\n",
    "    file_explore.write(\"Grade A\\n\")\n",
    "    for student in students_A:\n",
    "        file_explore.write(\" \".join(student))\n",
    "        file_explore.write(\"\\n\")\n",
    "\n",
    "\n",
    "\n",
    "# print(person_list)"
   ]
  },
  {
   "cell_type": "markdown",
   "metadata": {},
   "source": [
    "#### 3?????????????????"
   ]
  },
  {
   "cell_type": "code",
   "execution_count": 72,
   "metadata": {},
   "outputs": [
    {
     "name": "stdout",
     "output_type": "stream",
     "text": [
      "['A 0.0%\\n', 'B 0.0%\\n', 'C 2.4%\\n', 'D 5.3%\\n', 'E 37.3%\\n', 'F 55.0%\\n']\n"
     ]
    }
   ],
   "source": [
    "#import matplotlib.pyplot as plt\n",
    "\n",
    "with open (\"../Data/NPvt19Ma2A.txt\", \"r\") as file_a, open (\"../Data/NPvt19Ma2C.txt\", \"r\") as file_c:\n",
    "    list_a = file_a.readlines()\n",
    "    print(list_a)\n",
    "\n",
    "# HUR GÖRA OM TEXTFILEN TILL labels_list_a och result_list_a som nedan?"
   ]
  },
  {
   "cell_type": "code",
   "execution_count": 3,
   "metadata": {},
   "outputs": [
    {
     "data": {
      "image/png": "[encoded data removed]",
      "text/plain": [
       "<Figure size 640x480 with 1 Axes>"
      ]
     },
     "metadata": {},
     "output_type": "display_data"
    }
   ],
   "source": [
    "import matplotlib.pyplot as plt\n",
    "\n",
    "labels_list_a = [\"a\", \"b\", \"c\", \"d\", \"e\", \"f\"]\n",
    "result_list_a = [0.0, 0.0, 2.4, 5.3, 37.3, 55.0]\n",
    "\n",
    "plt.pie(result_list_a, labels=labels_list_a)\n",
    "plt.show()"
   ]
  }
 ],
 "metadata": {
  "kernelspec": {
   "display_name": "Python 3.9.13 ('Python-Dorota-Bjoorn-uzahzrwe')",
   "language": "python",
   "name": "python3"
  },
  "language_info": {
   "codemirror_mode": {
    "name": "ipython",
    "version": 3
   },
   "file_extension": ".py",
   "mimetype": "text/x-python",
   "name": "python",
   "nbconvert_exporter": "python",
   "pygments_lexer": "ipython3",
   "version": "3.9.13"
  },
  "orig_nbformat": 4,
  "vscode": {
   "interpreter": {
    "hash": "5a42c404417d75b6068b47c895b5f82ed1ebeda4880f3472a880a0dea30e7469"
   }
  }
 },
 "nbformat": 4,
 "nbformat_minor": 2
}
