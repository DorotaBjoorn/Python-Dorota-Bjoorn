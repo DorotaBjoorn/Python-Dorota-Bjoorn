{
 "cells": [
  {
   "cell_type": "markdown",
   "metadata": {},
   "source": [
    "#### 1"
   ]
  },
  {
   "cell_type": "code",
   "execution_count": 38,
   "metadata": {},
   "outputs": [
    {
     "name": "stdout",
     "output_type": "stream",
     "text": [
      "[1, 6, 2, 4, 3, 6, 1, 5, 1, 1, 6, 1, 5, 5, 4, 3, 4, 5, 6, 1]\n",
      "[1, 1, 1, 1, 1, 1, 2, 3, 3, 4, 4, 4, 5, 5, 5, 5, 6, 6, 6, 6]\n",
      "3\n"
     ]
    }
   ],
   "source": [
    "import random as rnd\n",
    "\n",
    "with open(\"../Data/EX08_1_dice.txt\", \"w\") as file:\n",
    "    dice_rolls = [rnd.randint(1,6) for _ in range(20)]\n",
    "\n",
    "    sorted_dice_rolls = sorted(dice_rolls)\n",
    "\n",
    "    n_of_4s = 0\n",
    "    for roll in dice_rolls:\n",
    "        if roll == 4:\n",
    "         n_of_4s += 1\n",
    "\n",
    "    file.write(f\"Random 20 rolls are:\\n {dice_rolls}\\n\\n\\n\")\n",
    "    file.write(f\"Those 20 rolls sorted are:\\n {sorted_dice_rolls}\\n\\n\\n\")\n",
    "    file.write(f\"Number of 4s in this set of 20 is:\\n {n_of_4s}\")\n",
    "\n",
    "print(dice_rolls)\n",
    "print(sorted_dice_rolls)\n",
    "print(n_of_4s)"
   ]
  },
  {
   "cell_type": "markdown",
   "metadata": {},
   "source": [
    "#### 2"
   ]
  },
  {
   "cell_type": "code",
   "execution_count": 66,
   "metadata": {},
   "outputs": [
    {
     "name": "stdout",
     "output_type": "stream",
     "text": [
      "['Adam Gustafsson 25\\n', 'BjÃ¶rn BjÃ¶rnsson 39\\n', 'Bose Bosseson 32\\n', 'Ella Ester 41\\n', 'Emil Johansson 23\\n', 'Emma Boden 32\\n', 'Erik Eriksson 31\\n', 'Fredrika Ulven 10\\n', 'Gore Bord 55\\n', 'Hanna Karlsson 23 \\n', 'HÃ¥kan HÃ¥kanson 24\\n', 'Ida HÃ¥kansson 23\\n', 'Jakob Kallander 65\\n', 'Johan Johansson 42\\n', 'Jonas Jonasson 31\\n', 'Karl Karlsson 32\\n', 'Ove Karlsten 41\\n', 'Sven Erik Karlsson 13\\n', 'Sven Erik Lundin 39\\n']\n"
     ]
    }
   ],
   "source": [
    "path = \"../Data/test_result.txt\"\n",
    "path_explore = \"../Data/test_result_explore.txt\"\n",
    "\n",
    "with open(path, \"r\") as file_read, open(path_explore, \"a\") as file_explore:\n",
    "    # .read skulle ge en lista av strängar, där varje element i listan är en bokstav (inte önskvärt här)\n",
    "    # .readlines ger en lista av strängar, där varje sträng än en rad i textfilen\n",
    "    lines_list = file_read.readlines()\n",
    "\n",
    "    # sista elementet behöver få en nyrad innan sortering\n",
    "    lines_list[-1] += \"\\n\"\n",
    "    lines_list.sort()\n",
    "    \n",
    "    file_explore.write(\"\\n\\n\\nSorterad i alfabetorning: \\n\")\n",
    "\n",
    "    for line in lines_list:\n",
    "        file_explore.write(line)\n",
    "    \n",
    "    print(lines_list)\n"
   ]
  }
 ],
 "metadata": {
  "kernelspec": {
   "display_name": "Python 3.9.13 64-bit (system)",
   "language": "python",
   "name": "python3"
  },
  "language_info": {
   "codemirror_mode": {
    "name": "ipython",
    "version": 3
   },
   "file_extension": ".py",
   "mimetype": "text/x-python",
   "name": "python",
   "nbconvert_exporter": "python",
   "pygments_lexer": "ipython3",
   "version": "3.9.13"
  },
  "orig_nbformat": 4,
  "vscode": {
   "interpreter": {
    "hash": "28ee99f6a7aea1b12ac9ee24ec50cb70bed218d1abf73fd9933c4d88810e27ea"
   }
  }
 },
 "nbformat": 4,
 "nbformat_minor": 2
}
