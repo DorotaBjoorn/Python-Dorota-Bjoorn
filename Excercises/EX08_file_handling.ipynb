{
 "cells": [
  {
   "cell_type": "code",
   "execution_count": null,
   "metadata": {},
   "outputs": [],
   "source": []
  }
 ],
 "metadata": {
  "kernelspec": {
   "display_name": "Python 3.9.13 64-bit (system)",
   "language": "python",
   "name": "python3"
  },
  "language_info": {
   "name": "python",
   "version": "3.9.13"
  },
  "orig_nbformat": 4,
  "vscode": {
   "interpreter": {
    "hash": "28ee99f6a7aea1b12ac9ee24ec50cb70bed218d1abf73fd9933c4d88810e27ea"
   }
  }
 },
 "nbformat": 4,
 "nbformat_minor": 2
}
