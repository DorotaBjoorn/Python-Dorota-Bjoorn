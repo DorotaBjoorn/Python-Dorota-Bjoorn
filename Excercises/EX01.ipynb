{
 "cells": [
  {
   "cell_type": "markdown",
   "metadata": {},
   "source": [
    "## 1"
   ]
  },
  {
   "cell_type": "code",
   "execution_count": 5,
   "metadata": {},
   "outputs": [
    {
     "name": "stdout",
     "output_type": "stream",
     "text": [
      "Zero\n"
     ]
    }
   ],
   "source": [
    "number = float(input(\"Enter number\"))\n",
    "\n",
    "if number < 0:\n",
    "    print(\"Negative\")\n",
    "if number > 0:\n",
    "    print (\"Positive\")\n",
    "if number == 0:\n",
    "    print (\"Zero\")"
   ]
  },
  {
   "cell_type": "markdown",
   "metadata": {},
   "source": [
    "## 2"
   ]
  },
  {
   "cell_type": "code",
   "execution_count": 9,
   "metadata": {},
   "outputs": [
    {
     "name": "stdout",
     "output_type": "stream",
     "text": [
      "Choose differnt numbers\n",
      "Choose differnt numbers\n",
      "4.0 is smaller\n"
     ]
    }
   ],
   "source": [
    "number1 = float(input(\"Enter first number\")) #number1, number2 = 0, 0 whould be a nicer way since questions are in while loop\n",
    "number2 = float(input(\"Enter second number\"))\n",
    "\n",
    "while number1 == number2:\n",
    "    print(\"Choose differnt numbers\")\n",
    "    number1 = float(input(\"Enter first number\"))\n",
    "    number2 = float(input(\"Enter second number\"))\n",
    "\n",
    "if number1 > number2:\n",
    "    print(f\"{number2} is smaller\")\n",
    "else:\n",
    "    print(f\"{number1} is smaller\")\n"
   ]
  },
  {
   "cell_type": "markdown",
   "metadata": {},
   "source": [
    "## 5"
   ]
  },
  {
   "cell_type": "code",
   "execution_count": 4,
   "metadata": {},
   "outputs": [
    {
     "name": "stdout",
     "output_type": "stream",
     "text": [
      "Your number is even and/or not possible to devide by 5\n"
     ]
    }
   ],
   "source": [
    "number = float(input())\n",
    "\n",
    "if number %2 != 0 and number %5 == 0:\n",
    "    print(\"your number is odd and possible to devide by 5\")\n",
    "else:\n",
    "    print(\"Your number is even and/or not possible to devide by 5\")\n"
   ]
  }
 ],
 "metadata": {
  "kernelspec": {
   "display_name": "Python 3.9.13 64-bit (system)",
   "language": "python",
   "name": "python3"
  },
  "language_info": {
   "codemirror_mode": {
    "name": "ipython",
    "version": 3
   },
   "file_extension": ".py",
   "mimetype": "text/x-python",
   "name": "python",
   "nbconvert_exporter": "python",
   "pygments_lexer": "ipython3",
   "version": "3.9.13"
  },
  "orig_nbformat": 4,
  "vscode": {
   "interpreter": {
    "hash": "28ee99f6a7aea1b12ac9ee24ec50cb70bed218d1abf73fd9933c4d88810e27ea"
   }
  }
 },
 "nbformat": 4,
 "nbformat_minor": 2
}
