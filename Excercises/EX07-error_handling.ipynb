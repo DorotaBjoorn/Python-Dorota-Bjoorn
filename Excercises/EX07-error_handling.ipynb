{
 "cells": [
  {
   "cell_type": "markdown",
   "metadata": {},
   "source": [
    "#### 1"
   ]
  },
  {
   "cell_type": "code",
   "execution_count": 4,
   "metadata": {},
   "outputs": [
    {
     "name": "stdout",
     "output_type": "stream",
     "text": [
      "0.7071067811865476\n"
     ]
    }
   ],
   "source": [
    "import math\n",
    "\n",
    "def distance(x,y):\n",
    "    return math.sqrt(x**2+y**2)\n",
    "\n",
    "print(distance(0.5, 0.5))"
   ]
  },
  {
   "cell_type": "markdown",
   "metadata": {},
   "source": [
    "#### 2"
   ]
  },
  {
   "cell_type": "code",
   "execution_count": 8,
   "metadata": {},
   "outputs": [
    {
     "name": "stdout",
     "output_type": "stream",
     "text": [
      "231 is not four-digit\n",
      "3124 is four-digit\n",
      "-4124 is four-digit\n",
      "-1000 is four-digit\n",
      "-999 is not four-digit\n",
      "1001 is four-digit\n",
      "10000 is not four-digit\n",
      "-10000 is not four-digit\n",
      "999 is not four-digit\n"
     ]
    }
   ],
   "source": [
    "def is_fourdigit(number):\n",
    "    if abs(number) >= 1000 and abs(number) <= 9999:\n",
    "        return True\n",
    "    else: \n",
    "        return False\n",
    "\n",
    "# test program\n",
    "test_numbers = [231, 3124, -4124, -1000,-999, 1001, 10000, -10000, 999]\n",
    "\n",
    "for number in test_numbers:\n",
    "    if is_fourdigit(number):\n",
    "        print(f\"{number} is four-digit\")\n",
    "    else:\n",
    "        print(f\"{number} is not four-digit\")"
   ]
  },
  {
   "cell_type": "markdown",
   "metadata": {},
   "source": [
    "#### 3"
   ]
  },
  {
   "cell_type": "code",
   "execution_count": 18,
   "metadata": {},
   "outputs": [
    {
     "name": "stdout",
     "output_type": "stream",
     "text": [
      "Value must be an int\n",
      "Value must be an int\n",
      "Number of rides has to be larger than 0\n",
      "You should buy tickets\n"
     ]
    }
   ],
   "source": [
    "while True:\n",
    "    rides = input(\"How many times a month do you ride the tram?\")\n",
    "    \n",
    "    try:\n",
    "        rides = int(rides)\n",
    "        if rides <= 0:\n",
    "            print(\"Number of rides has to be larger than 0\")\n",
    "            #?????????? när anävnder man raise error?????????????\n",
    "        else:\n",
    "            break\n",
    "    except ValueError as err:\n",
    "        print(\"Value must be an int\")\n",
    "\n",
    "    #??????? kan jag göra en try except för varje feltyp istället för som ovan?\n",
    "    #try: \n",
    "     #   if not isinstance(rides, int):\n",
    "      #      print(\"Number has to be an int\")\n",
    "       # else:\n",
    "        #    break\n",
    "    #except TypeError as err:\n",
    "    #    print(err)\n",
    "\n",
    "ticket = 30\n",
    "card = 300\n",
    "tickets_total = ticket * rides\n",
    "\n",
    "\n",
    "if tickets_total < card:\n",
    "    print(\"You should buy tickets\")\n",
    "elif tickets_total == card:\n",
    "    print(\"It does not matter. Same cost\")\n",
    "else:\n",
    "    print(\"You should buy a card\")"
   ]
  },
  {
   "cell_type": "code",
   "execution_count": null,
   "metadata": {},
   "outputs": [],
   "source": [
    "# exempel från en setter\n",
    "@side_b.setter\n",
    "    def side_b(self, value) -> float|int:\n",
    "        print(\"R side_b setter körs\")\n",
    "        if not isinstance (value, (float, int)):\n",
    "            raise TypeError (f\"Side must be a float or an int and not {type(value)}\")\n",
    "        if value <= 0:\n",
    "            raise ValueError (\"Side must be larger than 0\")\n",
    "        self._side_b = value"
   ]
  }
 ],
 "metadata": {
  "kernelspec": {
   "display_name": "Python 3.9.13 ('Python-Dorota-Bjoorn-uzahzrwe')",
   "language": "python",
   "name": "python3"
  },
  "language_info": {
   "codemirror_mode": {
    "name": "ipython",
    "version": 3
   },
   "file_extension": ".py",
   "mimetype": "text/x-python",
   "name": "python",
   "nbconvert_exporter": "python",
   "pygments_lexer": "ipython3",
   "version": "3.9.13"
  },
  "orig_nbformat": 4,
  "vscode": {
   "interpreter": {
    "hash": "5a42c404417d75b6068b47c895b5f82ed1ebeda4880f3472a880a0dea30e7469"
   }
  }
 },
 "nbformat": 4,
 "nbformat_minor": 2
}
