{
 "cells": [
  {
   "cell_type": "code",
   "execution_count": 4,
   "metadata": {},
   "outputs": [
    {
     "name": "stdout",
     "output_type": "stream",
     "text": [
      "C__init__ körs\n",
      "GS__init__ körs\n",
      "GS x_center setter körs\n",
      "GS y_center setter körs\n",
      "C radius setter körs\n",
      "C__init__ körs\n",
      "GS__init__ körs\n",
      "GS x_center setter körs\n",
      "GS y_center setter körs\n",
      "C radius setter körs\n",
      "R__init__ körs\n",
      "GS__init__ körs\n",
      "GS x_center setter körs\n",
      "GS y_center setter körs\n",
      "R side_a setter körs\n",
      "R side_b setter körs\n"
     ]
    }
   ],
   "source": [
    "from Lab3_shape_classes import Circle, Rectangle\n",
    "from Lab3_draw_class import Draw\n",
    "\n",
    "c1 = Circle(0, 0, 1)\n",
    "c2 = Circle(1, 1, 1)\n",
    "r1 = Rectangle (0, 0, 1, 1)\n"
   ]
  },
  {
   "cell_type": "code",
   "execution_count": 12,
   "metadata": {},
   "outputs": [
    {
     "name": "stdout",
     "output_type": "stream",
     "text": [
      "C radus getter körs\n",
      "GS x_center getter körs\n",
      "False\n",
      "C area getter körs\n",
      "C area getter körs\n",
      "True\n",
      "C area getter körs\n",
      "R area getter körs\n",
      "False\n",
      "GS x_center getter körs\n",
      "GS y_center getter körs\n",
      "C radus getter körs\n",
      "False\n"
     ]
    }
   ],
   "source": [
    "print(c1.is_unitcircle())\n",
    "print(c1==c2)\n",
    "print(c1==r1)\n",
    "print(c1.is_inside(0.5, 0.5))"
   ]
  },
  {
   "cell_type": "code",
   "execution_count": 13,
   "metadata": {},
   "outputs": [
    {
     "name": "stdout",
     "output_type": "stream",
     "text": [
      "GS x_center setter körs\n",
      "GS y_center setter körs\n",
      "GS x_center getter körs\n",
      "GS y_center getter körs\n",
      "C radus getter körs\n",
      "C area getter körs\n",
      "C circumference getter körs\n",
      "Circle: center (x,y) = (1,1), radius = 1, area = 3.141592653589793, circumference = 6.283185307179586\n",
      "GS x_center getter körs\n",
      "GS y_center getter körs\n",
      "C radus getter körs\n",
      "GS x_center getter körs\n",
      "GS y_center getter körs\n",
      "C radus getter körs\n",
      "GS x_center getter körs\n",
      "GS y_center getter körs\n",
      "R side_a getter körs\n",
      "R side_b getter körs\n"
     ]
    },
    {
     "data": {
      "image/png": "[encoded data removed]",
      "text/plain": [
       "<Figure size 640x480 with 1 Axes>"
      ]
     },
     "metadata": {},
     "output_type": "display_data"
    }
   ],
   "source": [
    "c3=c1.translate(1,1)\n",
    "print(c1)\n",
    "d1=Draw(c1,c3,r1)\n",
    "d1.draw()"
   ]
  }
 ],
 "metadata": {
  "kernelspec": {
   "display_name": "Python 3.9.13 ('Python-Dorota-Bjoorn-uzahzrwe')",
   "language": "python",
   "name": "python3"
  },
  "language_info": {
   "codemirror_mode": {
    "name": "ipython",
    "version": 3
   },
   "file_extension": ".py",
   "mimetype": "text/x-python",
   "name": "python",
   "nbconvert_exporter": "python",
   "pygments_lexer": "ipython3",
   "version": "3.9.13"
  },
  "orig_nbformat": 4,
  "vscode": {
   "interpreter": {
    "hash": "5a42c404417d75b6068b47c895b5f82ed1ebeda4880f3472a880a0dea30e7469"
   }
  }
 },
 "nbformat": 4,
 "nbformat_minor": 2
}
