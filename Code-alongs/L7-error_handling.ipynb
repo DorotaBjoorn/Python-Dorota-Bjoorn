{
 "cells": [
  {
   "cell_type": "markdown",
   "metadata": {},
   "source": [
    "# Errors\n",
    "\n",
    "- syntax errors - Python parser does not understand the code (parsin errors)\n",
    "- logical errors - program OK but wrong result\n",
    "- exception errors - detected during execution (parser understands what to do but can not do it, ex division by 0)"
   ]
  },
  {
   "cell_type": "code",
   "execution_count": 1,
   "metadata": {},
   "outputs": [
    {
     "ename": "NameError",
     "evalue": "name 'prin' is not defined",
     "output_type": "error",
     "traceback": [
      "\u001b[1;31m---------------------------------------------------------------------------\u001b[0m",
      "\u001b[1;31mNameError\u001b[0m                                 Traceback (most recent call last)",
      "\u001b[1;32mc:\\Users\\DorotaBjöörn-AI22GBG\\Documents\\GitHub\\Python-Dorota-Bjoorn\\Code-alongs\\L7-error_handling.ipynb Cell 2\u001b[0m in \u001b[0;36m<cell line: 1>\u001b[1;34m()\u001b[0m\n\u001b[1;32m----> <a href='vscode-notebook-cell:/c%3A/Users/DorotaBj%C3%B6%C3%B6rn-AI22GBG/Documents/GitHub/Python-Dorota-Bjoorn/Code-alongs/L7-error_handling.ipynb#W0sZmlsZQ%3D%3D?line=0'>1</a>\u001b[0m prin(\u001b[39m\"\u001b[39m\u001b[39mhej hej \u001b[39m\u001b[39m\"\u001b[39m)\n",
      "\u001b[1;31mNameError\u001b[0m: name 'prin' is not defined"
     ]
    }
   ],
   "source": [
    "# syntax error (prin istället för print)\n",
    "prin(\"hej hej \")"
   ]
  },
  {
   "cell_type": "code",
   "execution_count": 3,
   "metadata": {},
   "outputs": [
    {
     "ename": "SyntaxError",
     "evalue": "invalid syntax (2378760197.py, line 3)",
     "output_type": "error",
     "traceback": [
      "\u001b[1;36m  Input \u001b[1;32mIn [3]\u001b[1;36m\u001b[0m\n\u001b[1;33m    print(\"då\")\u001b[0m\n\u001b[1;37m    ^\u001b[0m\n\u001b[1;31mSyntaxError\u001b[0m\u001b[1;31m:\u001b[0m invalid syntax\n"
     ]
    }
   ],
   "source": [
    "# Ibland behöver kolla högre upp än vad det indikerade felet\n",
    "print(\"Hej\"\n",
    "print(\"då\")"
   ]
  },
  {
   "cell_type": "code",
   "execution_count": 8,
   "metadata": {},
   "outputs": [
    {
     "name": "stdout",
     "output_type": "stream",
     "text": [
      "Start function 1\n",
      "Start function 2\n",
      "Start function 3\n"
     ]
    },
    {
     "ename": "ZeroDivisionError",
     "evalue": "division by zero",
     "output_type": "error",
     "traceback": [
      "\u001b[1;31m---------------------------------------------------------------------------\u001b[0m",
      "\u001b[1;31mZeroDivisionError\u001b[0m                         Traceback (most recent call last)",
      "\u001b[1;32mc:\\Users\\DorotaBjöörn-AI22GBG\\Documents\\GitHub\\Python-Dorota-Bjoorn\\Code-alongs\\L7-error_handling.ipynb Cell 4\u001b[0m in \u001b[0;36m<cell line: 13>\u001b[1;34m()\u001b[0m\n\u001b[0;32m     <a href='vscode-notebook-cell:/c%3A/Users/DorotaBj%C3%B6%C3%B6rn-AI22GBG/Documents/GitHub/Python-Dorota-Bjoorn/Code-alongs/L7-error_handling.ipynb#W4sZmlsZQ%3D%3D?line=9'>10</a>\u001b[0m     \u001b[39mprint\u001b[39m(\u001b[39m\"\u001b[39m\u001b[39mStart function 3\u001b[39m\u001b[39m\"\u001b[39m)\n\u001b[0;32m     <a href='vscode-notebook-cell:/c%3A/Users/DorotaBj%C3%B6%C3%B6rn-AI22GBG/Documents/GitHub/Python-Dorota-Bjoorn/Code-alongs/L7-error_handling.ipynb#W4sZmlsZQ%3D%3D?line=10'>11</a>\u001b[0m     \u001b[39m3\u001b[39m\u001b[39m/\u001b[39m\u001b[39m0\u001b[39m\n\u001b[1;32m---> <a href='vscode-notebook-cell:/c%3A/Users/DorotaBj%C3%B6%C3%B6rn-AI22GBG/Documents/GitHub/Python-Dorota-Bjoorn/Code-alongs/L7-error_handling.ipynb#W4sZmlsZQ%3D%3D?line=12'>13</a>\u001b[0m func1()\n",
      "\u001b[1;32mc:\\Users\\DorotaBjöörn-AI22GBG\\Documents\\GitHub\\Python-Dorota-Bjoorn\\Code-alongs\\L7-error_handling.ipynb Cell 4\u001b[0m in \u001b[0;36mfunc1\u001b[1;34m()\u001b[0m\n\u001b[0;32m      <a href='vscode-notebook-cell:/c%3A/Users/DorotaBj%C3%B6%C3%B6rn-AI22GBG/Documents/GitHub/Python-Dorota-Bjoorn/Code-alongs/L7-error_handling.ipynb#W4sZmlsZQ%3D%3D?line=0'>1</a>\u001b[0m \u001b[39mdef\u001b[39;00m \u001b[39mfunc1\u001b[39m():\n\u001b[0;32m      <a href='vscode-notebook-cell:/c%3A/Users/DorotaBj%C3%B6%C3%B6rn-AI22GBG/Documents/GitHub/Python-Dorota-Bjoorn/Code-alongs/L7-error_handling.ipynb#W4sZmlsZQ%3D%3D?line=1'>2</a>\u001b[0m     \u001b[39mprint\u001b[39m(\u001b[39m\"\u001b[39m\u001b[39mStart function 1\u001b[39m\u001b[39m\"\u001b[39m)\n\u001b[1;32m----> <a href='vscode-notebook-cell:/c%3A/Users/DorotaBj%C3%B6%C3%B6rn-AI22GBG/Documents/GitHub/Python-Dorota-Bjoorn/Code-alongs/L7-error_handling.ipynb#W4sZmlsZQ%3D%3D?line=2'>3</a>\u001b[0m     func2()\n",
      "\u001b[1;32mc:\\Users\\DorotaBjöörn-AI22GBG\\Documents\\GitHub\\Python-Dorota-Bjoorn\\Code-alongs\\L7-error_handling.ipynb Cell 4\u001b[0m in \u001b[0;36mfunc2\u001b[1;34m()\u001b[0m\n\u001b[0;32m      <a href='vscode-notebook-cell:/c%3A/Users/DorotaBj%C3%B6%C3%B6rn-AI22GBG/Documents/GitHub/Python-Dorota-Bjoorn/Code-alongs/L7-error_handling.ipynb#W4sZmlsZQ%3D%3D?line=4'>5</a>\u001b[0m \u001b[39mdef\u001b[39;00m \u001b[39mfunc2\u001b[39m():\n\u001b[0;32m      <a href='vscode-notebook-cell:/c%3A/Users/DorotaBj%C3%B6%C3%B6rn-AI22GBG/Documents/GitHub/Python-Dorota-Bjoorn/Code-alongs/L7-error_handling.ipynb#W4sZmlsZQ%3D%3D?line=5'>6</a>\u001b[0m     \u001b[39mprint\u001b[39m(\u001b[39m\"\u001b[39m\u001b[39mStart function 2\u001b[39m\u001b[39m\"\u001b[39m)\n\u001b[1;32m----> <a href='vscode-notebook-cell:/c%3A/Users/DorotaBj%C3%B6%C3%B6rn-AI22GBG/Documents/GitHub/Python-Dorota-Bjoorn/Code-alongs/L7-error_handling.ipynb#W4sZmlsZQ%3D%3D?line=6'>7</a>\u001b[0m     func3()\n",
      "\u001b[1;32mc:\\Users\\DorotaBjöörn-AI22GBG\\Documents\\GitHub\\Python-Dorota-Bjoorn\\Code-alongs\\L7-error_handling.ipynb Cell 4\u001b[0m in \u001b[0;36mfunc3\u001b[1;34m()\u001b[0m\n\u001b[0;32m      <a href='vscode-notebook-cell:/c%3A/Users/DorotaBj%C3%B6%C3%B6rn-AI22GBG/Documents/GitHub/Python-Dorota-Bjoorn/Code-alongs/L7-error_handling.ipynb#W4sZmlsZQ%3D%3D?line=8'>9</a>\u001b[0m \u001b[39mdef\u001b[39;00m \u001b[39mfunc3\u001b[39m():\n\u001b[0;32m     <a href='vscode-notebook-cell:/c%3A/Users/DorotaBj%C3%B6%C3%B6rn-AI22GBG/Documents/GitHub/Python-Dorota-Bjoorn/Code-alongs/L7-error_handling.ipynb#W4sZmlsZQ%3D%3D?line=9'>10</a>\u001b[0m     \u001b[39mprint\u001b[39m(\u001b[39m\"\u001b[39m\u001b[39mStart function 3\u001b[39m\u001b[39m\"\u001b[39m)\n\u001b[1;32m---> <a href='vscode-notebook-cell:/c%3A/Users/DorotaBj%C3%B6%C3%B6rn-AI22GBG/Documents/GitHub/Python-Dorota-Bjoorn/Code-alongs/L7-error_handling.ipynb#W4sZmlsZQ%3D%3D?line=10'>11</a>\u001b[0m     \u001b[39m3\u001b[39;49m\u001b[39m/\u001b[39;49m\u001b[39m0\u001b[39;49m\n",
      "\u001b[1;31mZeroDivisionError\u001b[0m: division by zero"
     ]
    }
   ],
   "source": [
    "def func1():\n",
    "    print(\"Start function 1\")\n",
    "    func2()\n",
    "\n",
    "def func2():\n",
    "    print(\"Start function 2\")\n",
    "    func3()\n",
    "\n",
    "def func3():\n",
    "    print(\"Start function 3\")\n",
    "    3/0 #exception error\n",
    "\n",
    "func1()"
   ]
  },
  {
   "cell_type": "code",
   "execution_count": 9,
   "metadata": {},
   "outputs": [
    {
     "name": "stdout",
     "output_type": "stream",
     "text": [
      "12.566370614359172\n"
     ]
    }
   ],
   "source": [
    "# Logical error (programmet OK men räknade area istället för omkrets)\n",
    "\n",
    "import math\n",
    "\n",
    "circumference = lambda radius: math.pi*radius**2\n",
    "\n",
    "print(circumference(2))"
   ]
  },
  {
   "cell_type": "markdown",
   "metadata": {},
   "source": [
    "# Try-except\n",
    "- try block\n",
    "- except block\n",
    "- raise"
   ]
  },
  {
   "cell_type": "markdown",
   "metadata": {},
   "source": []
  },
  {
   "cell_type": "code",
   "execution_count": 10,
   "metadata": {},
   "outputs": [
    {
     "name": "stdout",
     "output_type": "stream",
     "text": [
      "Du är -46.0 år gammal\n"
     ]
    }
   ],
   "source": [
    "age = input(\"Ange din ålder: \")\n",
    "\n",
    "age = float(age)\n",
    "\n",
    "#Logical error since negative age can be added\n",
    "print(f\"Du är {age} år gammal\")"
   ]
  },
  {
   "cell_type": "code",
   "execution_count": 11,
   "metadata": {},
   "outputs": [
    {
     "ename": "ValueError",
     "evalue": "could not convert string to float: 'fyrtiotvå'",
     "output_type": "error",
     "traceback": [
      "\u001b[1;31m---------------------------------------------------------------------------\u001b[0m",
      "\u001b[1;31mValueError\u001b[0m                                Traceback (most recent call last)",
      "\u001b[1;32mc:\\Users\\DorotaBjöörn-AI22GBG\\Documents\\GitHub\\Python-Dorota-Bjoorn\\Code-alongs\\L7-error_handling.ipynb Cell 9\u001b[0m in \u001b[0;36m<cell line: 3>\u001b[1;34m()\u001b[0m\n\u001b[0;32m      <a href='vscode-notebook-cell:/c%3A/Users/DorotaBj%C3%B6%C3%B6rn-AI22GBG/Documents/GitHub/Python-Dorota-Bjoorn/Code-alongs/L7-error_handling.ipynb#X11sZmlsZQ%3D%3D?line=0'>1</a>\u001b[0m age \u001b[39m=\u001b[39m \u001b[39minput\u001b[39m(\u001b[39m\"\u001b[39m\u001b[39mAnge din ålder: \u001b[39m\u001b[39m\"\u001b[39m)\n\u001b[1;32m----> <a href='vscode-notebook-cell:/c%3A/Users/DorotaBj%C3%B6%C3%B6rn-AI22GBG/Documents/GitHub/Python-Dorota-Bjoorn/Code-alongs/L7-error_handling.ipynb#X11sZmlsZQ%3D%3D?line=2'>3</a>\u001b[0m age \u001b[39m=\u001b[39m \u001b[39mfloat\u001b[39;49m(age)\n\u001b[0;32m      <a href='vscode-notebook-cell:/c%3A/Users/DorotaBj%C3%B6%C3%B6rn-AI22GBG/Documents/GitHub/Python-Dorota-Bjoorn/Code-alongs/L7-error_handling.ipynb#X11sZmlsZQ%3D%3D?line=4'>5</a>\u001b[0m \u001b[39m#Logical error since negative age can be added\u001b[39;00m\n\u001b[0;32m      <a href='vscode-notebook-cell:/c%3A/Users/DorotaBj%C3%B6%C3%B6rn-AI22GBG/Documents/GitHub/Python-Dorota-Bjoorn/Code-alongs/L7-error_handling.ipynb#X11sZmlsZQ%3D%3D?line=5'>6</a>\u001b[0m \u001b[39mprint\u001b[39m(\u001b[39mf\u001b[39m\u001b[39m\"\u001b[39m\u001b[39mDu är \u001b[39m\u001b[39m{\u001b[39;00mage\u001b[39m}\u001b[39;00m\u001b[39m år gammal\u001b[39m\u001b[39m\"\u001b[39m)\n",
      "\u001b[1;31mValueError\u001b[0m: could not convert string to float: 'fyrtiotvå'"
     ]
    }
   ],
   "source": [
    "age = input(\"Ange din ålder: \")\n",
    "\n",
    "age = float(age)\n",
    "\n",
    "#Exception error eftersom skrev in stärng förtiotvå\n",
    "print(f\"Du är {age} år gammal\")"
   ]
  },
  {
   "cell_type": "code",
   "execution_count": 13,
   "metadata": {},
   "outputs": [
    {
     "name": "stdout",
     "output_type": "stream",
     "text": [
      "could not convert string to float: 'förtiotvå'\n",
      "programmet fortsätter\n"
     ]
    }
   ],
   "source": [
    "age = input(\"Ange din ålder: \")\n",
    "\n",
    "try: # i try blocket lägger in farlig code\n",
    "    age = float(age) #tried to convert förtiotvå, program thorws a ValueError\n",
    "    print(f\"Du är {age} år gammal\") #hoppade över denna rad pga ValueError generated above line\n",
    "except ValueError as err: #it get caught in the exception block\n",
    "    print(err)\n",
    "\n",
    "print(\"programmet fortsätter\")"
   ]
  },
  {
   "cell_type": "code",
   "execution_count": 4,
   "metadata": {},
   "outputs": [
    {
     "name": "stdout",
     "output_type": "stream",
     "text": [
      "could not convert string to float: 'tvsörnv'\n",
      "Åldern som du anger måste vara mellan 0 och 125, inte 150.0\n",
      "Du är 5.0 år gammal\n"
     ]
    }
   ],
   "source": [
    "while True:\n",
    "    age = input(\"Ange din ålder: \")\n",
    "\n",
    "    try:\n",
    "        age = float(age)\n",
    "        if not 0 <= age <= 125:\n",
    "            raise ValueError(f\"Åldern som du anger måste vara mellan 0 och 125, inte {age}\") #programmet slänger ut ett ValueError som...\n",
    "        break #avbryter while loopen som annars blir en evighetsloop\n",
    "    except ValueError as err: #... fångar in här (obs, bli specifik vilken sorts error man förväntar sig och använd den sorten)\n",
    "        print(err)\n",
    "\n",
    " \n",
    "print(f\"Du är {age} år gammal\")\n",
    "\n",
    "# try-except används ihop, vill man inte ha med except så har man med den men skriver pass som action under"
   ]
  }
 ],
 "metadata": {
  "kernelspec": {
   "display_name": "Python 3.9.13 64-bit (system)",
   "language": "python",
   "name": "python3"
  },
  "language_info": {
   "codemirror_mode": {
    "name": "ipython",
    "version": 3
   },
   "file_extension": ".py",
   "mimetype": "text/x-python",
   "name": "python",
   "nbconvert_exporter": "python",
   "pygments_lexer": "ipython3",
   "version": "3.9.13"
  },
  "orig_nbformat": 4,
  "vscode": {
   "interpreter": {
    "hash": "28ee99f6a7aea1b12ac9ee24ec50cb70bed218d1abf73fd9933c4d88810e27ea"
   }
  }
 },
 "nbformat": 4,
 "nbformat_minor": 2
}
