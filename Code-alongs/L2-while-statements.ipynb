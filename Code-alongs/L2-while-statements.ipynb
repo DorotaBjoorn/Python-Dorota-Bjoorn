{
 "cells": [
  {
   "cell_type": "markdown",
   "metadata": {},
   "source": [
    "## While loops"
   ]
  },
  {
   "cell_type": "markdown",
   "metadata": {},
   "source": []
  },
  {
   "cell_type": "markdown",
   "metadata": {},
   "source": [
    "# while loop\n",
    "\n",
    "import py_compile\n",
    "\n",
    "\n",
    "- \"if-loop\"\n",
    "- as long as a condition is True -> the statemetns inside the while loop will return\n",
    "\n",
    "```py\n",
    "while condition:\n",
    "    statements\n",
    "    ...\n",
    "\n",
    "program continues here"
   ]
  },
  {
   "cell_type": "code",
   "execution_count": 5,
   "metadata": {},
   "outputs": [
    {
     "name": "stdout",
     "output_type": "stream",
     "text": [
      "Hej i=0\n",
      "Hej i=1\n",
      "Hej i=2\n",
      "Hej i=3\n",
      "Programs continues here\n"
     ]
    }
   ],
   "source": [
    "i = 0\n",
    "\n",
    "while i < 4:\n",
    "    print(f\"Hej {i=}\")\n",
    "    i += 1 #add 1 to i <=> i = i + 1\n",
    "\n",
    "print(\"Programs continues here\")"
   ]
  },
  {
   "cell_type": "markdown",
   "metadata": {},
   "source": []
  },
  {
   "cell_type": "markdown",
   "metadata": {},
   "source": [
    "### Example - birds and oil\n",
    "\n",
    "There is oil leakage causing the bird population in an island to 1/2 in each ear. From starert were 80000 birds, how many years doess it take to have 1/10 remaining?"
   ]
  },
  {
   "cell_type": "code",
   "execution_count": 7,
   "metadata": {},
   "outputs": [
    {
     "name": "stdout",
     "output_type": "stream",
     "text": [
      "Years = 4\n"
     ]
    }
   ],
   "source": [
    "birds = 80000\n",
    "year = 0\n",
    "\n",
    "while birds >= 8000:\n",
    "    birds = birds/2\n",
    "    year += 1\n",
    "\n",
    "print(f\"Years = {year}\")\n"
   ]
  },
  {
   "cell_type": "code",
   "execution_count": 9,
   "metadata": {},
   "outputs": [
    {
     "name": "stdout",
     "output_type": "stream",
     "text": [
      "Year 1: number of birds 40000 left\n",
      "Year 2: number of birds 20000 left\n",
      "Year 3: number of birds 10000 left\n",
      "Year 4: number of birds 5000 left\n"
     ]
    }
   ],
   "source": [
    "# Facitsolution\n",
    "\n",
    "birds, years = 80000, 0 #several varables on one row\n",
    "limit = birds/10\n",
    "while birds >= limit:\n",
    "    birds /= 2\n",
    "    years += 1\n",
    "    print(f\"Year {years}: number of birds {birds:.0f} left\")"
   ]
  },
  {
   "cell_type": "markdown",
   "metadata": {},
   "source": [
    "### Example - Milk\n",
    "\n",
    "- 1L of milk has 1500000 bacteria in RT\n",
    "- Bacterias increase with 50% each hour in RT\n",
    "- Milk goes sour after 10 000 000 bacteria\n",
    "- HOw many hours does it take till milk sours (whole hours)"
   ]
  },
  {
   "cell_type": "code",
   "execution_count": 8,
   "metadata": {},
   "outputs": [
    {
     "name": "stdout",
     "output_type": "stream",
     "text": [
      "It has been 5 hours. YOur milk is sour\n"
     ]
    }
   ],
   "source": [
    "bacteria = 1500000\n",
    "hour = 0\n",
    "\n",
    "while bacteria <= 10000000:\n",
    "    bacteria *= 1.5\n",
    "    hour += 1\n",
    "\n",
    "print(f\"It has been {hour} hours. YOur milk is sour\")"
   ]
  },
  {
   "cell_type": "code",
   "execution_count": 24,
   "metadata": {},
   "outputs": [
    {
     "name": "stdout",
     "output_type": "stream",
     "text": [
      "[1500000.0, 2250000.0, 3375000.0, 5062500.0, 7593750.0, 11390625.0]\n",
      "Takes 5h for milk to get sour\n"
     ]
    },
    {
     "data": {
      "text/plain": [
       "Text(0.5, 1.0, 'Bacteria in milk in RT')"
      ]
     },
     "execution_count": 24,
     "metadata": {},
     "output_type": "execute_result"
    },
    {
     "data": {
      "image/png": "[encoded data removed]",
      "text/plain": [
       "<Figure size 640x480 with 1 Axes>"
      ]
     },
     "metadata": {},
     "output_type": "display_data"
    }
   ],
   "source": [
    "# Facit solution\n",
    "\n",
    "import matplotlib.pyplot as plt # plt is convention but could be anything\n",
    "\n",
    "bacteria = 1.5e6 #same as 1.5 e^6\n",
    "factor = 1.5\n",
    "hour = 0\n",
    "sour = 1e7\n",
    "\n",
    "bacteria_list = [bacteria] #konvention att använda lowercase och underscore\n",
    "\n",
    "while bacteria < sour:\n",
    "    bacteria *= factor\n",
    "    hour += 1\n",
    "    bacteria_list.append(bacteria)\n",
    "\n",
    "print(bacteria_list)\n",
    "print(f\"Takes {hour}h for milk to get sour\")\n",
    "\n",
    "hour_list = range(0, hour + 1)\n",
    "\n",
    "plt.plot(hour_list, bacteria_list, 'o--') #o-- custamizes graph appearance\n",
    "plt.plot(hour_list, [sour]*(hour+1)) #[a]*b gives value a, b times; in this case 1e7 for x=0, 1, 2, 3, 4, 5\n",
    "\n",
    "# Customizig graph with lables etc\n",
    "plt.grid()\n",
    "plt.xlabel(\"hours\")\n",
    "plt.ylabel(\"number of bactria\")\n",
    "plt.title(\"Bacteria in milk in RT\")\n"
   ]
  }
 ],
 "metadata": {
  "kernelspec": {
   "display_name": "Python 3.9.13 ('Python-Dorota-Bjoorn-uzahzrwe')",
   "language": "python",
   "name": "python3"
  },
  "language_info": {
   "codemirror_mode": {
    "name": "ipython",
    "version": 3
   },
   "file_extension": ".py",
   "mimetype": "text/x-python",
   "name": "python",
   "nbconvert_exporter": "python",
   "pygments_lexer": "ipython3",
   "version": "3.9.13"
  },
  "orig_nbformat": 4,
  "vscode": {
   "interpreter": {
    "hash": "5a42c404417d75b6068b47c895b5f82ed1ebeda4880f3472a880a0dea30e7469"
   }
  }
 },
 "nbformat": 4,
 "nbformat_minor": 2
}
