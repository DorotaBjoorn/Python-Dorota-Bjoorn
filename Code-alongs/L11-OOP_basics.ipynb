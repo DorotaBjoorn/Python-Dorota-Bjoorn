{
 "cells": [
  {
   "cell_type": "markdown",
   "metadata": {},
   "source": [
    "# OOP basics"
   ]
  },
  {
   "cell_type": "code",
   "execution_count": 1,
   "metadata": {},
   "outputs": [
    {
     "data": {
      "text/plain": [
       "<__main__.Person at 0x2ab247f2310>"
      ]
     },
     "execution_count": 1,
     "metadata": {},
     "output_type": "execute_result"
    }
   ],
   "source": [
    "# created a class called Person\n",
    "class Person:\n",
    "    pass\n",
    "\n",
    "# instantiates an instance from the class Person using the callable syntax ()\n",
    "person1 = Person()\n",
    "person1"
   ]
  },
  {
   "cell_type": "code",
   "execution_count": 2,
   "metadata": {},
   "outputs": [
    {
     "data": {
      "text/plain": [
       "'Ada'"
      ]
     },
     "execution_count": 2,
     "metadata": {},
     "output_type": "execute_result"
    }
   ],
   "source": [
    "# created an instance attribute on the fly\n",
    "person1.name = \"Ada\"\n",
    "person1.name"
   ]
  },
  {
   "cell_type": "code",
   "execution_count": 3,
   "metadata": {},
   "outputs": [
    {
     "data": {
      "text/plain": [
       "<__main__.Person at 0x2ab252e9910>"
      ]
     },
     "execution_count": 3,
     "metadata": {},
     "output_type": "execute_result"
    }
   ],
   "source": [
    "person2 = Person()\n",
    "person2"
   ]
  },
  {
   "cell_type": "code",
   "execution_count": 4,
   "metadata": {},
   "outputs": [
    {
     "ename": "AttributeError",
     "evalue": "'Person' object has no attribute 'name'",
     "output_type": "error",
     "traceback": [
      "\u001b[1;31m---------------------------------------------------------------------------\u001b[0m",
      "\u001b[1;31mAttributeError\u001b[0m                            Traceback (most recent call last)",
      "Cell \u001b[1;32mIn [4], line 1\u001b[0m\n\u001b[1;32m----> 1\u001b[0m \u001b[43mperson2\u001b[49m\u001b[38;5;241;43m.\u001b[39;49m\u001b[43mname\u001b[49m\n",
      "\u001b[1;31mAttributeError\u001b[0m: 'Person' object has no attribute 'name'"
     ]
    }
   ],
   "source": [
    "person2.name"
   ]
  },
  {
   "cell_type": "markdown",
   "metadata": {},
   "source": [
    "## `__init__()`\n",
    "\n",
    "- dunder (has the special syntax of underscores and ()) init metod (special method in Python)\n",
    "- initializer method that runs after the object has been created\n",
    "- used for settinginitial values of attributes to an instance object"
   ]
  },
  {
   "cell_type": "code",
   "execution_count": 10,
   "metadata": {},
   "outputs": [
    {
     "name": "stdout",
     "output_type": "stream",
     "text": [
      "person1.name='Kokchun'\n",
      "person2.name='Bella'\n",
      "person1.accept=True\n",
      "person2.accept=False\n",
      "person2.program='Data science'\n"
     ]
    },
    {
     "data": {
      "text/plain": [
       "Atagning('Supa cool school', 'AI, 'Kokchun, 'True')"
      ]
     },
     "execution_count": 10,
     "metadata": {},
     "output_type": "execute_result"
    }
   ],
   "source": [
    "class Antagning:\n",
    "    # initializer\n",
    "    # for methods it´s a convention to have first argument as \"self\"\n",
    "    def __init__(self, school, program, name, accept):\n",
    "        #assigns arguments to instance attributes\n",
    "        self.school = school\n",
    "        self.program = program\n",
    "        self.name = name\n",
    "        self.accept = accept\n",
    "\n",
    "    # __repr__() a representation for the instance object -> used for the sake of other developers\n",
    "    # pronaunciation: \"dunder repper\"\n",
    "    def __repr__(self):\n",
    "        return f\"Atagning('{self.school}', '{self.program}, '{self.name}, '{self.accept}')\"\n",
    "\n",
    "\n",
    "# when a method is called -> the instance itself is injected to the method as the first argument\n",
    "\n",
    "# here we instantiate (create new objects) from the class Antagning (2 objects)\n",
    "person1 = Antagning(\"Supa cool school\", \"AI\", \"Kokchun\", accept = True)\n",
    "person2 = Antagning(\"OKay school\", \"Java\", \"Bella\", False)\n",
    "\n",
    "# accessed instance (=object) attributes using the dot notation\n",
    "print(f\"{person1.name=}\") #samma attribut men olika states\n",
    "print(f\"{person2.name=}\")\n",
    "\n",
    "print(f\"{person1.accept=}\")\n",
    "print(f\"{person2.accept=}\")\n",
    "\n",
    "# using the dot notations we change an instance attribute of person2\n",
    "person2.program = \"Data science\"\n",
    "print(f\"{person2.program=}\")\n",
    "\n",
    "person1"
   ]
  },
  {
   "cell_type": "code",
   "execution_count": 11,
   "metadata": {},
   "outputs": [
    {
     "data": {
      "text/plain": [
       "Atagning('OKay school', 'Data science, 'Bella, 'False')"
      ]
     },
     "execution_count": 11,
     "metadata": {},
     "output_type": "execute_result"
    }
   ],
   "source": [
    "person2"
   ]
  },
  {
   "cell_type": "code",
   "execution_count": 12,
   "metadata": {},
   "outputs": [
    {
     "data": {
      "text/plain": [
       "[1, 2, 3]"
      ]
     },
     "execution_count": 12,
     "metadata": {},
     "output_type": "execute_result"
    }
   ],
   "source": [
    "# the __repr__ of list gives output [1,2,3]\n",
    "example_list = [1,2,3]\n",
    "example_list"
   ]
  },
  {
   "cell_type": "markdown",
   "metadata": {},
   "source": [
    "## Encapsulation\n",
    "\n",
    "- hide information that is used within the class but should not be accesses from outside the class\n",
    "- so want ot create some kind of interface between attributes within the class and outside to prevent from misuse\n",
    "- in many OOP lanuganges, we can make attributes prive. this is not possible in Python\n",
    "- all attributes in Python are public\n",
    "- in python: privte by convention, use an underscore before the attribute, e.g. _name (can still access from outside of class but should not be done)\n",
    "- also possible to use double underscore __name (symbol mangling) \n"
   ]
  },
  {
   "cell_type": "code",
   "execution_count": 21,
   "metadata": {},
   "outputs": [
    {
     "name": "stdout",
     "output_type": "stream",
     "text": [
      "Patient(name='Ada', diagnosis='Influenza')\n",
      "Patient(name='Beda', diagnosis='Covid')\n",
      "Patient(name='Ceda', diagnosis='Influenza')\n",
      "Patient(name='Ceda', diagnosis='Influenza')\n",
      "{'_name': 'Ceda', '_Patient__diagnosis': 'Influenza', '__diagnosis': 'Migrane'}\n"
     ]
    },
    {
     "data": {
      "text/plain": [
       "'Influenza'"
      ]
     },
     "execution_count": 21,
     "metadata": {},
     "output_type": "execute_result"
    }
   ],
   "source": [
    "class Patient:\n",
    "    def __init__(self, name, diagnosis):\n",
    "        self._name = name\n",
    "        self.__diagnosis = diagnosis\n",
    "    \n",
    "    def __repr__(self):\n",
    "        return f\"Patient(name='{self._name}', diagnosis='{self.__diagnosis}')\"\n",
    "\n",
    "patient1= Patient(\"Ada\", \"Influenza\")\n",
    "patient2= Patient(\"Beda\", \"Covid\")\n",
    "\n",
    "print(patient1)\n",
    "print(patient2)\n",
    "\n",
    "# can acces the private attribute, but rally shouldn't\n",
    "patient1._name = \"Ceda\"\n",
    "print(patient1)\n",
    "\n",
    "# due to name mangling\n",
    "patient1.__diagnosis = \"Migrane\" # double underscore -> __diagnosis has changed name to _Patient__diagnosis and new attribute __diagnosis has been added \n",
    "print(patient1)\n",
    "\n",
    "print(patient1.__dict__)\n",
    "patient1._Patient__diagnosis"
   ]
  },
  {
   "cell_type": "code",
   "execution_count": 20,
   "metadata": {},
   "outputs": [
    {
     "data": {
      "text/plain": [
       "'Migrane'"
      ]
     },
     "execution_count": 20,
     "metadata": {},
     "output_type": "execute_result"
    }
   ],
   "source": [
    "patient1.__diagnosis"
   ]
  },
  {
   "cell_type": "code",
   "execution_count": 29,
   "metadata": {},
   "outputs": [
    {
     "name": "stdout",
     "output_type": "stream",
     "text": [
      "OldCoinsStash(owner='Ragnar Lothbroke')\n",
      "In stash: 0 riksdaler, 0 skillingar\n",
      "In stash: 20 riksdaler, 10 skillingar\n",
      "You can only deposit non-negative values\n",
      "In stash: 20 riksdaler, 10 skillingar\n",
      "Can't withdraw more than in stash\n"
     ]
    }
   ],
   "source": [
    "# another example \n",
    "class OldCoinsStash:\n",
    "    def __init__(self, owner):\n",
    "        self.owner = owner\n",
    "\n",
    "        # private attributes        \n",
    "        self._riksdaler = 0\n",
    "        self._skilling = 0\n",
    "    \n",
    "    def deposit(self, riksdaler, skilling):\n",
    "        if riksdaler < 0 or skilling < 0:\n",
    "            raise ValueError(\"You can only deposit non-negative values\")\n",
    "        self._riksdaler += riksdaler\n",
    "        self._skilling += skilling\n",
    "\n",
    "    def withdraw(self, riksdaler, skilling):\n",
    "        if riksdaler > self._riksdaler or skilling > self._skilling:\n",
    "            raise ValueError(\"Can't withdraw more than in stash\")\n",
    "        \n",
    "        # check also for negative values\n",
    "\n",
    "        self._riksdaler -= riksdaler\n",
    "        self._skilling -= skilling\n",
    "\n",
    "    def balance(self):\n",
    "        return f\"In stash: {self._riksdaler} riksdaler, {self._skilling} skillingar\"\n",
    "\n",
    "    def __repr__(self):\n",
    "        return f\"OldCoinsStash(owner='{self.owner}')\" # bara owner existerar inte utan måste skriva self.owner\n",
    "\n",
    "\n",
    "stash = OldCoinsStash(\"Ragnar Lothbroke\")\n",
    "print(stash)\n",
    "print(stash.balance())\n",
    "\n",
    "stash.deposit(20, 10)\n",
    "print(stash.balance())\n",
    "\n",
    "try:\n",
    "    # can't deposit negative amount\n",
    "    stash.deposit(-5, 10)\n",
    "except ValueError as err:\n",
    "    print(err)\n",
    "print(stash.balance())\n",
    "\n",
    "try:\n",
    "    # can't deposit negative amount\n",
    "    stash.withdraw(50, 10)\n",
    "except ValueError as err:\n",
    "    print(err)"
   ]
  },
  {
   "cell_type": "markdown",
   "metadata": {},
   "source": [
    "## Property\n",
    "\n",
    "- want to expose fiew to none bare attributes\n",
    "- when wanting to change attributes\n",
    "    - getter and setter (common in manyu other languages)\n",
    "    - in Python make into property\n",
    "\n",
    "With property:\n",
    "    - can include error handling\n",
    "    - computed properties\n",
    "    - can make read-only and write-only properties"
   ]
  },
  {
   "cell_type": "code",
   "execution_count": 3,
   "metadata": {},
   "outputs": [
    {
     "name": "stdout",
     "output_type": "stream",
     "text": [
      "age setter is running\n",
      "age setter is running\n",
      "{'_name': 'David', '_age': 50, 'active': True}\n"
     ]
    },
    {
     "ename": "AttributeError",
     "evalue": "can't set attribute",
     "output_type": "error",
     "traceback": [
      "\u001b[1;31m---------------------------------------------------------------------------\u001b[0m",
      "\u001b[1;31mAttributeError\u001b[0m                            Traceback (most recent call last)",
      "Cell \u001b[1;32mIn [3], line 48\u001b[0m\n\u001b[0;32m     46\u001b[0m student1\u001b[39m.\u001b[39mage \u001b[39m=\u001b[39m \u001b[39m50\u001b[39m\n\u001b[0;32m     47\u001b[0m \u001b[39mprint\u001b[39m(student1\u001b[39m.\u001b[39m\u001b[39m__dict__\u001b[39m)\n\u001b[1;32m---> 48\u001b[0m student1\u001b[39m.\u001b[39;49mname \u001b[39m=\u001b[39m \u001b[39m\"\u001b[39m\u001b[39mElla\u001b[39m\u001b[39m\"\u001b[39m\n",
      "\u001b[1;31mAttributeError\u001b[0m: can't set attribute"
     ]
    }
   ],
   "source": [
    "class Student:\n",
    "    \"\"\"Student class for representing students with name, age and activity\"\"\" # docstring\n",
    "\n",
    "    # class attribute\n",
    "    number_students = 0\n",
    "    \n",
    "    # note type hinting\n",
    "    def __init__(self, name: str, age: int, active: bool) -> None:\n",
    "        #instance attribute\n",
    "        self._name = name\n",
    "        self.age = age\n",
    "        self.active = active\n",
    "        Student.number_students += 1\n",
    "\n",
    "    # read-only property - @ symbol makes it into a decorator\n",
    "    # read-only because we did not define a setter ; thats also why _name and not just name\n",
    "    @property\n",
    "    def name(self) -> str: \n",
    "        \"\"\"Read-only property, we can't write to name\"\"\"\n",
    "        return self._name\n",
    "    \n",
    "    # getter (när kör .age körs gettern)\n",
    "    @property\n",
    "    def age(self) -> int:\n",
    "        print(\"age getter is running .... \")\n",
    "        return self._age\n",
    "    \n",
    "    # setter (när kör .age och anger ett värde körs settern)\n",
    "    @age.setter\n",
    "    def age(self, value: int):\n",
    "        \"\"\"Setter for age with error handling\"\"\"\n",
    "\n",
    "        print(\"age setter is running\")\n",
    "\n",
    "        # validation code\n",
    "        if not isinstance(value, int):\n",
    "            raise TypeError(f\"Age must be an int, not {type(value)}\")\n",
    "        \n",
    "        if not (0 <= value <= 125):\n",
    "            raise ValueError(\"Age must be between 0 and 125\")\n",
    "        \n",
    "        self._age = value\n",
    "\n",
    "\n",
    "student1 = Student(\"David\", 30, True)\n",
    "student1.age = 50 #går att sätta då age publik och har en sätter\n",
    "print(student1.__dict__)\n",
    "student1.name = \"Ella\" # går ej att sätta då _name och har ingen sätter\n",
    "\n",
    "    "
   ]
  },
  {
   "cell_type": "markdown",
   "metadata": {},
   "source": [
    "Notes to above:\n",
    "- can type hint but can not force since Python is dynamic\n",
    "- @property gör det till read-only???????????????????????\n",
    "- @age.setter (måste använda samma namn dvs age)\n",
    "- created an interface where privte variables can not be overwritten. OR????\n",
    "- _name eftersom det inte finns någon setter för name men age eftersom det finns en setter\n",
    "- decorator and getter is in the same package (@property)\n",
    "\n",
    "NOtes to below\n",
    "- .age säger till programmet att köra en setter om det finns en\n",
    "- assignemnt leder att settern körs (ex person_instance.age = 40)\n",
    "- hämtar man bara värdet så körs gettern (ex person_instance.age)\n",
    "- alla anrop går först via __init__ funktionen\n",
    "- _variabel har man bara i getter och setter\n",
    "- getter måste vara innan settern, andra metoder kan vara mellan dem i koden"
   ]
  },
  {
   "cell_type": "code",
   "execution_count": null,
   "metadata": {},
   "outputs": [],
   "source": [
    "# i andra språk använder man getters och setters \n",
    "class Person:\n",
    "    \n",
    "    # type hinting - returns None\n",
    "    def __init__(self, age: float) -> None:\n",
    "        # bare attribute\n",
    "        self._age = age\n",
    "\n",
    "    def get_age(self) -> float:\n",
    "        return self._age\n",
    "    \n",
    "    def set_age(self, value: float) -> None:\n",
    "        # valideringskod\n",
    "        self._age = value\n",
    "\n",
    "person_instance = Person(40)\n",
    "#person_instance.age = -5\n",
    "print(person_instance.get_age())\n",
    "\n",
    "person_instance.set_age(10)\n",
    "person_instance.get_age()"
   ]
  },
  {
   "cell_type": "code",
   "execution_count": 4,
   "metadata": {},
   "outputs": [
    {
     "name": "stdout",
     "output_type": "stream",
     "text": [
      "Setter called ...\n",
      "Setter called ...\n",
      "getter called ...\n"
     ]
    },
    {
     "data": {
      "text/plain": [
       "20"
      ]
     },
     "execution_count": 4,
     "metadata": {},
     "output_type": "execute_result"
    }
   ],
   "source": [
    "# i Python vill man direkt komma åt ens property och då dekorerar med med @property\n",
    "\n",
    "class Person:\n",
    "    \n",
    "    # type hinting - returns None\n",
    "    def __init__(self, age: float) -> None:\n",
    "        # assignment -> setter körs\n",
    "        self.age = age\n",
    "\n",
    "    @property\n",
    "    def age(self) -> float:\n",
    "        print(\"getter called ...\")\n",
    "        return self._age\n",
    "    \n",
    "    # andra metoder ...\n",
    "    def run_away(self):\n",
    "        print(\"Person runs away from class ...\")\n",
    "\n",
    "    @age.setter\n",
    "    def age(self, value: float) -> None:\n",
    "        # valideringskod\n",
    "\n",
    "        print(\"Setter called ...\")\n",
    "        self._age = value\n",
    "\n",
    "person_instance = Person(40)\n",
    "person_instance.age = 20\n",
    "person_instance.age"
   ]
  }
 ],
 "metadata": {
  "kernelspec": {
   "display_name": "Python 3.9.13 ('Python-Dorota-Bjoorn-uzahzrwe')",
   "language": "python",
   "name": "python3"
  },
  "language_info": {
   "codemirror_mode": {
    "name": "ipython",
    "version": 3
   },
   "file_extension": ".py",
   "mimetype": "text/x-python",
   "name": "python",
   "nbconvert_exporter": "python",
   "pygments_lexer": "ipython3",
   "version": "3.9.13"
  },
  "orig_nbformat": 4,
  "vscode": {
   "interpreter": {
    "hash": "5a42c404417d75b6068b47c895b5f82ed1ebeda4880f3472a880a0dea30e7469"
   }
  }
 },
 "nbformat": 4,
 "nbformat_minor": 2
}
