{
 "cells": [
  {
   "cell_type": "markdown",
   "metadata": {},
   "source": [
    "## Lists\n",
    "\n",
    "## Access elements\n",
    "\n"
   ]
  },
  {
   "cell_type": "code",
   "execution_count": 3,
   "metadata": {},
   "outputs": [
    {
     "name": "stdout",
     "output_type": "stream",
     "text": [
      "['pizza', 'lasagne', 'spaghetti', 'pancakes', 'banana', 'grapes']\n",
      "pizza\n",
      "grapes\n",
      "pancakes\n"
     ]
    }
   ],
   "source": [
    "nice_foods = [\"pizza\", \"lasagne\", \"spaghetti\", \"pancakes\", \"banana\", \"grapes\"]\n",
    "\n",
    "print(nice_foods) #gets all elements\n",
    "\n",
    "print(nice_foods[0]) #gets 1st element\n",
    "print(nice_foods[-1]) #gets last element, could have written [5]\n",
    "print(nice_foods[-3]) #gets 3rd last element in list, could have written [3]"
   ]
  },
  {
   "cell_type": "markdown",
   "metadata": {},
   "source": [
    "## Slicing\n",
    "want to acces a number of elementst in a list"
   ]
  },
  {
   "cell_type": "code",
   "execution_count": 11,
   "metadata": {},
   "outputs": [
    {
     "name": "stdout",
     "output_type": "stream",
     "text": [
      "['pizza', 'lasagne', 'spaghetti', 'pancakes', 'banana', 'grapes']\n",
      "nice_foods[1:4]=['lasagne', 'spaghetti', 'pancakes']\n",
      "nice_foods[:-1]=['pizza', 'lasagne', 'spaghetti', 'pancakes', 'banana']\n",
      "nice_foods[:4]=['pizza', 'lasagne', 'spaghetti', 'pancakes']\n",
      "nice_foods[::-1]=['grapes', 'banana', 'pancakes', 'spaghetti', 'lasagne', 'pizza']\n",
      "nice_foods[::-2]=['grapes', 'pancakes', 'lasagne']\n"
     ]
    }
   ],
   "source": [
    "print(nice_foods)\n",
    "print(f\"{nice_foods[1:4]=}\") #Prints part of the list (elements 1 to 3)\n",
    "print(f\"{nice_foods[:-1]=}\") # goes 0 to -2 ((last-1) -1)\n",
    "print(f\"{nice_foods[:4]=}\") # goes 0 to 3 (4-1)\n",
    "print(f\"{nice_foods[::-1]=}\") # reverses list\n",
    "print(f\"{nice_foods[::-2]=}\") # reverses, start and skip every other"
   ]
  },
  {
   "cell_type": "markdown",
   "metadata": {},
   "source": [
    "## Sorting"
   ]
  },
  {
   "cell_type": "code",
   "execution_count": 12,
   "metadata": {},
   "outputs": [
    {
     "name": "stdout",
     "output_type": "stream",
     "text": [
      "['banana', 'grapes', 'lasagne', 'pancakes', 'pizza', 'spaghetti']\n",
      "[-5, 1, 2, 5]\n"
     ]
    }
   ],
   "source": [
    "nice_foods.sort()\n",
    "print(nice_foods) #sorting by first letter\n",
    "\n",
    "numbers = [2, 1, 5, -5]\n",
    "numbers.sort() #sorting ascending\n",
    "\n",
    "print(numbers)\n"
   ]
  },
  {
   "cell_type": "markdown",
   "metadata": {},
   "source": [
    "## for-loop with enumerate"
   ]
  },
  {
   "cell_type": "code",
   "execution_count": 16,
   "metadata": {},
   "outputs": [
    {
     "name": "stdout",
     "output_type": "stream",
     "text": [
      "['banana', 'grapes', 'lasagne', 'pancakes', 'pizza', 'spaghetti']\n",
      "1. banana\n",
      "2. grapes\n",
      "3. lasagne\n",
      "4. pancakes\n",
      "5. pizza\n",
      "6. spaghetti\n"
     ]
    }
   ],
   "source": [
    "print(nice_foods)\n",
    "\n",
    "for i, food in enumerate(nice_foods, 1): # enumerate -> (index, element) in list; 1 gives 1 as first index, if nothing indicated will start at 0\n",
    "    print(f\"{i}. {food}\") #i gives index; \n",
    "\n"
   ]
  },
  {
   "cell_type": "markdown",
   "metadata": {},
   "source": [
    "## List comprehension"
   ]
  },
  {
   "cell_type": "code",
   "execution_count": 21,
   "metadata": {},
   "outputs": [
    {
     "data": {
      "text/plain": [
       "[0, 1, 8, 27, 64, 125, 216, 343, 512, 729]"
      ]
     },
     "execution_count": 21,
     "metadata": {},
     "output_type": "execute_result"
    }
   ],
   "source": [
    "# normal way using append\n",
    "\n",
    "cubes = []\n",
    "\n",
    "for i in range(10):\n",
    "    cubes.append(i**3) #i^3\n",
    "    \n",
    "cubes"
   ]
  },
  {
   "cell_type": "code",
   "execution_count": 20,
   "metadata": {},
   "outputs": [
    {
     "data": {
      "text/plain": [
       "[0, 1, 8, 27, 64, 125, 216, 343, 512, 729]"
      ]
     },
     "execution_count": 20,
     "metadata": {},
     "output_type": "execute_result"
    }
   ],
   "source": [
    "# list comprehension\n",
    "cubes = [i**3 for i in range (10)]\n",
    "cubes"
   ]
  },
  {
   "cell_type": "code",
   "execution_count": 18,
   "metadata": {},
   "outputs": [
    {
     "data": {
      "text/plain": [
       "[1, 27, 125, 343, 729]"
      ]
     },
     "execution_count": 18,
     "metadata": {},
     "output_type": "execute_result"
    }
   ],
   "source": [
    "# cubes every odd number\n",
    "cubes_odd = [i**3 for i in range(10) if i%2!=0]\n",
    "cubes_odd"
   ]
  },
  {
   "cell_type": "code",
   "execution_count": 22,
   "metadata": {},
   "outputs": [
    {
     "data": {
      "text/plain": [
       "[2, 1, 3, 2, 6, 2, 2, 6, 2, 6]"
      ]
     },
     "execution_count": 22,
     "metadata": {},
     "output_type": "execute_result"
    }
   ],
   "source": [
    "import random as rnd\n",
    "#dice list\n",
    "dices = [rnd.randint(1,6) for _ in range(10)] #convention to use  _ when not using the loop variable\n",
    "dices"
   ]
  },
  {
   "cell_type": "markdown",
   "metadata": {},
   "source": [
    "## Lists in list"
   ]
  },
  {
   "cell_type": "code",
   "execution_count": 25,
   "metadata": {},
   "outputs": [
    {
     "name": "stdout",
     "output_type": "stream",
     "text": [
      "grades[1]=['B', 20]\n",
      "grades[1][0]='B'\n",
      "grades[1][1]=20\n"
     ]
    }
   ],
   "source": [
    "grades = [[\"A\", 25], [\"B\", 20], [\"F\", 5]]\n",
    "\n",
    "print(f\"{grades[1]=}\")\n",
    "print(f\"{grades[1][0]=}\")\n",
    "print(f\"{grades[1][1]=}\")"
   ]
  }
 ],
 "metadata": {
  "kernelspec": {
   "display_name": "Python 3.9.13 64-bit (system)",
   "language": "python",
   "name": "python3"
  },
  "language_info": {
   "codemirror_mode": {
    "name": "ipython",
    "version": 3
   },
   "file_extension": ".py",
   "mimetype": "text/x-python",
   "name": "python",
   "nbconvert_exporter": "python",
   "pygments_lexer": "ipython3",
   "version": "3.9.13"
  },
  "orig_nbformat": 4,
  "vscode": {
   "interpreter": {
    "hash": "28ee99f6a7aea1b12ac9ee24ec50cb70bed218d1abf73fd9933c4d88810e27ea"
   }
  }
 },
 "nbformat": 4,
 "nbformat_minor": 2
}
