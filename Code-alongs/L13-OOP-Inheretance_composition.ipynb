{
 "cells": [
  {
   "cell_type": "markdown",
   "metadata": {},
   "source": [
    "# Inherritance and composition"
   ]
  },
  {
   "cell_type": "code",
   "execution_count": 7,
   "metadata": {},
   "outputs": [
    {
     "name": "stdout",
     "output_type": "stream",
     "text": [
      "Person Ada says hi\n",
      "<__main__.Student object at 0x0000022DDE298FA0>\n",
      "  4637 is not a valid name\n"
     ]
    }
   ],
   "source": [
    "import re\n",
    "\n",
    "class Person:\n",
    "    def __init__(self, name: str, age: int) -> None:\n",
    "        self.age = age\n",
    "        self.name = name\n",
    "\n",
    "    @property #getter for age\n",
    "    def age(self) -> int:\n",
    "        return self._age\n",
    "\n",
    "    @age.setter\n",
    "    def age(self, value: int) -> None:\n",
    "        if not isinstance(value, int):\n",
    "            raise TypeError(f\"Age must be int or float not {type(value).__name__}\") #__name__ för att plocka ut 'str' som readable\n",
    "        self._age = value\n",
    "\n",
    "    @property #getter for name\n",
    "    def name(self) -> str:\n",
    "        return self._name\n",
    "\n",
    "    @name.setter\n",
    "    def name(self, value:str) -> None:\n",
    "        #r början, $slutet, ? 1 or more occurencies, + can have 1 or more av tecknen [bindesträck, A-Ö, a-ö], \\s mellanrum, matchar endast bokstäver\n",
    "        if re.search(r\"^[A-ö]+(\\s[A-ö]+)?$\", value.strip()) is None:\n",
    "            raise ValueError(f\"{value} is not a valid name\")\n",
    "\n",
    "        self._name = value\n",
    "    \n",
    "    def say_hi(self) -> None:\n",
    "        print(f\"Person {self.name} says hi\")\n",
    "\n",
    "# Subclass Student inherit from Superclass Person and requires therefore name and age according to __init__ in Person\n",
    "class Student(Person):\n",
    "    pass\n",
    "\n",
    "# student1 uses __init__() from its partent calss. Has no own so goes up in inheretance. If still not found goes to Grandparent class \n",
    "student1 = Student(\"Ada\", 42)\n",
    "\n",
    "# student1 uses say_hi from its partent calss\n",
    "student1.say_hi()\n",
    "\n",
    "# so goes up in inheratance chain and finds __repr__ in granparent calss (object class)\n",
    "print(student1)\n",
    "\n",
    "\n",
    "try:\n",
    "    p = Person(\"  4637\", 52)\n",
    "except ValueError as err:\n",
    "    print(err)\n"
   ]
  },
  {
   "cell_type": "markdown",
   "metadata": {},
   "source": [
    "## Update classes"
   ]
  },
  {
   "cell_type": "code",
   "execution_count": 5,
   "metadata": {},
   "outputs": [
    {
     "name": "stdout",
     "output_type": "stream",
     "text": [
      "OldCoinStash(owner='Ivar')\n",
      "Coins in stash: 0 riksdaler, 0 skilling\n",
      "--------------------------------------------------\n",
      "Student Urban Lindström speaks Java\n",
      "Person Bodil says hi\n",
      "Person Ivar says hi\n"
     ]
    }
   ],
   "source": [
    "import re\n",
    "from oldcoins import OldCoinsStash\n",
    "\n",
    "class Person:\n",
    "    def __init__(self, name: str, age: int) -> None:\n",
    "        self.age = age\n",
    "        self.name = name\n",
    "\n",
    "    @property #getter for age\n",
    "    def age(self) -> int:\n",
    "        return self._age\n",
    "\n",
    "    @age.setter\n",
    "    def age(self, value: int) -> None:\n",
    "        if not isinstance(value, int):\n",
    "            raise TypeError(f\"Age must be int or float not {type(value).__name__}\") #__name__ för att plocka ut 'str' som readable\n",
    "        self._age = value\n",
    "\n",
    "    @property #getter for name\n",
    "    def name(self) -> str:\n",
    "        return self._name\n",
    "\n",
    "    @name.setter\n",
    "    def name(self, value:str) -> None:\n",
    "        #r början, $slutet, ? 1 or more occurencies, + can have 1 or more av tecknen [bindesträck, A-Ö, a-ö], \\s mellanrum, matchar endast bokstäver\n",
    "        if re.search(r\"^[A-ö]+(\\s[A-ö]+)?$\", value.strip()) is None:\n",
    "            raise ValueError(f\"{value} is not a valid name\")\n",
    "\n",
    "        self._name = value\n",
    "    \n",
    "    def say_hi(self) -> None:\n",
    "        print(f\"Person {self.name} says hi\")\n",
    "\n",
    "class Student(Person):\n",
    "    \"\"\"Student is a person that knows a lanuguage\"\"\"\n",
    "    # override __init___() from Person\n",
    "    def __init__(self, name: str, age: int, language: str) -> None:\n",
    "        #with super() we look at parent's __init__(name, age) and get name and age from there istead of re-writing self.name = name etc\n",
    "        super().__init__(name, age)\n",
    "        self.language = language\n",
    "    \n",
    "    # TODO: make language into a property (bare attribute otherwise)\n",
    "    \n",
    "    #overriding say_hi from Person class\n",
    "    def say_hi(self) -> None:\n",
    "        print(f\"Student {self.name} speaks {self.language}\")\n",
    "\n",
    "class Viking(Person):\n",
    "    \"\"\"Viking is a Person that has an OldCoinsStash\"\"\"\n",
    "    def __init__(self, name: str, age: int) -> None:\n",
    "        super().__init__(name, age)\n",
    "        #composition  - Viking HAS an OldCoinStash (while inheretance means IS)\n",
    "        self.stash = OldCoinsStash(self.name) #owner required and put in as name. self för att få validerat namn (via gettern och settern från parentklassen)\n",
    "\n",
    "student2 = Student(\"Urban Lindström\", 45, \"Java\")\n",
    "person2 = Person(\"Bodil\", 26)\n",
    "viking2 = Viking(\"Ivar\", 23)\n",
    "\n",
    "print(viking2.stash)\n",
    "print(viking2.stash.check_balance())\n",
    "\n",
    "print(\"-\"*50)\n",
    "for person in (student2, person2, viking2):\n",
    "    person.say_hi()\n",
    "    # note Viking has no say_hi() defined in own class so Python looks up the inheretance chain and finds it in Person class\n",
    "\n",
    "\n",
    "\n",
    "#student2.language\n",
    "#student2.name\n",
    "#student2.say_hi() #gets say_hi from own class since it was overwritten"
   ]
  }
 ],
 "metadata": {
  "kernelspec": {
   "display_name": "Python 3.9.13 ('Python-Dorota-Bjoorn-uzahzrwe')",
   "language": "python",
   "name": "python3"
  },
  "language_info": {
   "codemirror_mode": {
    "name": "ipython",
    "version": 3
   },
   "file_extension": ".py",
   "mimetype": "text/x-python",
   "name": "python",
   "nbconvert_exporter": "python",
   "pygments_lexer": "ipython3",
   "version": "3.9.13"
  },
  "orig_nbformat": 4,
  "vscode": {
   "interpreter": {
    "hash": "5a42c404417d75b6068b47c895b5f82ed1ebeda4880f3472a880a0dea30e7469"
   }
  }
 },
 "nbformat": 4,
 "nbformat_minor": 2
}
