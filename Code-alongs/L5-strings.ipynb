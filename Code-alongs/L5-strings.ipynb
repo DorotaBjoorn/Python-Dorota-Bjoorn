{
 "cells": [
  {
   "cell_type": "markdown",
   "metadata": {},
   "source": [
    "# Strings"
   ]
  },
  {
   "cell_type": "code",
   "execution_count": 2,
   "metadata": {},
   "outputs": [
    {
     "name": "stdout",
     "output_type": "stream",
     "text": [
      "Dorota Bjöörn\n",
      "\n",
      "Name: Dorota Bjöörn\n",
      "Age: 46\n",
      "Phone: 123 \n",
      "\n"
     ]
    }
   ],
   "source": [
    "firstname = \"Dorota\"\n",
    "lastname = \"Bjöörn\"\n",
    "\n",
    "#concatinate strings - lägga ihop strängar genom +\n",
    "name = firstname + \" \" + lastname # kagt på ett mellanslag\n",
    "age = 46\n",
    "address = \"Göteborg\"\n",
    "phone = \"123\"\n",
    "print(name)\n",
    "\n",
    "\n",
    "# multiline f-string genom 3 citationstäcken (\"\"\" funkar även för multiline comment\")\n",
    "contact = f\"\"\"\n",
    "Name: {name}\n",
    "Age: {age}\n",
    "Phone: {phone} \n",
    "\"\"\"\n",
    "print(contact)"
   ]
  },
  {
   "cell_type": "markdown",
   "metadata": {},
   "source": [
    "### Iterate through lists and concateration"
   ]
  },
  {
   "cell_type": "code",
   "execution_count": 6,
   "metadata": {},
   "outputs": [
    {
     "name": "stdout",
     "output_type": "stream",
     "text": [
      "Plan \n",
      "Må: AI intro\n",
      "Ti: Python\n",
      "On: Matte\n",
      "To: Självstudie\n",
      "Fr: Chilla\n",
      "\n"
     ]
    }
   ],
   "source": [
    "schedule = [\"AI intro\", \"Python\", \"Matte\", \"Självstudie\", \"Chilla\"]\n",
    "days = [\"Må\", \"Ti\", \"On\", \"To\", \"Fr\", \"lö\"] # längre lista så lördag kommer inte med\n",
    "\n",
    "week_plan = \"Plan \\n\"  #\\n ger new line\n",
    "\n",
    "# Plan\n",
    "# Må: AI intro\n",
    "# Ti: PYthon\n",
    "# Ons: ....\n",
    "\n",
    "for day, task in zip(days, schedule): #zip function (ger utskrift från flera listor)\n",
    "    week_plan += f\"{day}: {task}\\n\"\n",
    "\n",
    "print(week_plan)"
   ]
  },
  {
   "cell_type": "markdown",
   "metadata": {},
   "source": [
    "#### Indexing"
   ]
  },
  {
   "cell_type": "code",
   "execution_count": 10,
   "metadata": {},
   "outputs": [
    {
     "name": "stdout",
     "output_type": "stream",
     "text": [
      "quote [0]='!'\n",
      "quote [:6]='!False'\n",
      "quote [-4:]='true'\n",
      "Backwards: quote [::-1]=\"eurt s'ti esuaceb ynnuf ton s'ti - eslaF!\"\n",
      "Length of string: 41 characters\n"
     ]
    }
   ],
   "source": [
    "quote = \"!False - it's not funny because it's true\"\n",
    "\n",
    "print(f\"{quote [0]=}\") # ger bokstäver från definerade positioner\n",
    "print(f\"{quote [:6]=}\")\n",
    "print(f\"{quote [-4:]=}\")\n",
    "print(f\"Backwards: {quote [::-1]=}\") #::-1 för att reversera en lista (i det fallet reverserar bokstävernas ordning)\n",
    "print(f\"Length of string: {len(quote)} characters\")"
   ]
  },
  {
   "cell_type": "markdown",
   "metadata": {},
   "source": [
    "#### Split strings"
   ]
  },
  {
   "cell_type": "code",
   "execution_count": 14,
   "metadata": {},
   "outputs": [
    {
     "name": "stdout",
     "output_type": "stream",
     "text": [
      "[2.0, 5.0, -2.0]\n",
      "1.6666666666666667\n"
     ]
    }
   ],
   "source": [
    "# numbers = float(input(\"Ange 3 tal (separerade med kommatecken): \")) is not possible\n",
    "\n",
    "numbers = input(\"Ange 3 tal (separerade med kommatecken): \")\n",
    "\n",
    "# 1. split the string into a list of 3 strings\n",
    "# 2. type convert each string into a float by interating through the list\n",
    "\n",
    "# list comprehension  [expression (float(number)) for loop (for number....) can add if-sats if applicable]\n",
    "numbers = [float(number) for number in numbers.split(\",\")] #måste typomvandla för att annars är variabeln strängar #splittar på kommatecknet som definieras här som separator\n",
    "mean_value = sum(numbers)/len(numbers)\n",
    "\n",
    "print(f\"{numbers=}\")\n",
    "print(f\"{mean_value}\")"
   ]
  },
  {
   "cell_type": "markdown",
   "metadata": {},
   "source": [
    "#### Regular expression*\n",
    "\n",
    "- find patterns in a string\n",
    "- e.g. phonenumbers, e-mail, capital letter, sequences, numbers, length, ..."
   ]
  },
  {
   "cell_type": "code",
   "execution_count": 16,
   "metadata": {},
   "outputs": [
    {
     "name": "stdout",
     "output_type": "stream",
     "text": [
      "['021-432512', '042-321345', '739-242521']\n",
      "['021-432512', '042-321345', '739-242521']\n"
     ]
    }
   ],
   "source": [
    "import re\n",
    "\n",
    "text = \"Mitt telefonnumer är 021-432512, Adas nummer är 042-321345, Bedas nummer är: 0739-242521\"\n",
    "\n",
    "#extract numbers (RegEx)\n",
    "match1 = re.findall(r\"\\d\\d\\d-\\d\\d\\d\\d\\d\\d\", text) #r\"\" - raw string so \\n inte tolkas som ny rad (om nu \\n skulle varit med)\n",
    "print(match1)\n",
    "\n",
    "match2 = re.findall(r\"\\d{3}-\\d{6}\", text) # samma som ovan men snyggare\n",
    "print(match2)"
   ]
  },
  {
   "cell_type": "code",
   "execution_count": 18,
   "metadata": {},
   "outputs": [
    {
     "name": "stdout",
     "output_type": "stream",
     "text": [
      "[' katt', ' hatt', 'kmatt', 'lmatt']\n"
     ]
    }
   ],
   "source": [
    "text = \"Det var en gång en katt, som tog sig på en hatt, och spelade schack, fick schackmatt med hjälp av skolmatt\"\n",
    "\n",
    "match = re.findall(r\"..att\", text) #contains att\n",
    "print(match)\n",
    "\n",
    "## try to extrat the wholewords that ends with att"
   ]
  }
 ],
 "metadata": {
  "kernelspec": {
   "display_name": "Python 3.9.13 ('Python-Dorota-Bjoorn-uzahzrwe')",
   "language": "python",
   "name": "python3"
  },
  "language_info": {
   "codemirror_mode": {
    "name": "ipython",
    "version": 3
   },
   "file_extension": ".py",
   "mimetype": "text/x-python",
   "name": "python",
   "nbconvert_exporter": "python",
   "pygments_lexer": "ipython3",
   "version": "3.9.13"
  },
  "orig_nbformat": 4,
  "vscode": {
   "interpreter": {
    "hash": "5a42c404417d75b6068b47c895b5f82ed1ebeda4880f3472a880a0dea30e7469"
   }
  }
 },
 "nbformat": 4,
 "nbformat_minor": 2
}
