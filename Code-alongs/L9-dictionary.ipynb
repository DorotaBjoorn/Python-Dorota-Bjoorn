{
 "cells": [
  {
   "cell_type": "markdown",
   "metadata": {},
   "source": [
    "# Dictionary\n",
    "\n",
    "- datastructure that stores data i key:value pairs (name:Dorota)"
   ]
  },
  {
   "cell_type": "code",
   "execution_count": 5,
   "metadata": {},
   "outputs": [
    {
     "name": "stdout",
     "output_type": "stream",
     "text": [
      "person dictionary {'name': 'Kokchun', 'age': 31, 'work': 'AI teacher', 'interests': ['math', 'yoga', 'gardening', 'programming', 'walking'], 'phone': 112}\n",
      "person work AI teacher\n",
      "person age 31\n",
      "person interests ['math', 'yoga', 'gardening', 'programming', 'walking']\n",
      "person interests ['math', 'yoga'] \n",
      "\n",
      "Kokchun likes math\n",
      "Kokchun likes yoga\n",
      "Kokchun likes gardening\n",
      "Kokchun likes programming\n",
      "Kokchun likes walking\n"
     ]
    }
   ],
   "source": [
    "# create a dictionary with build in function dict\n",
    "person = dict(\n",
    "    name = \"Kokchun\", age = 31, work = \"AI teacher\", interests = [\"math\", \"yoga\", \"gardening\", \"programming\", \"walking\"], phone = 112\n",
    ")\n",
    "\n",
    "print(f\"person dictionary {person}\")\n",
    "print(f\"person work {person['work']}\") #behöver ha enkelfnuttar innanför f funktionen så f funktionen förstår var den slutar (vid dubbefnutt)\n",
    "print(f\"person age {person['age']}\")\n",
    "\n",
    "print(f\"person interests {person['interests']}\") #note that dictionaries are printed in curly braces when program is run\n",
    "\n",
    "\n",
    "print(f\"person interests {person['interests'][:2]} \\n\")\n",
    "\n",
    "for interest in person[\"interests\"]:\n",
    "    print(f\"Kokchun likes {interest}\")"
   ]
  },
  {
   "cell_type": "code",
   "execution_count": 10,
   "metadata": {},
   "outputs": [
    {
     "name": "stdout",
     "output_type": "stream",
     "text": [
      "{'assign': 'assignes a value to a variable', 'dictionary': 'datastructure to store data in key-value pairs', 'method': 'a function bound to an object'}\n",
      "Vi skall lära oss de här glosorna \n",
      "\n",
      "assign\n",
      "dictionary\n",
      "method\n",
      "assign  -  assignes a value to a variable\n",
      "dictionary  -  datastructure to store data in key-value pairs\n",
      "method  -  a function bound to an object\n"
     ]
    }
   ],
   "source": [
    "# Created dictionary with curly braces {} genom {\"key\": \"value\", \"key\": \"value\"}\n",
    "words = {\n",
    "    \"assign\": \"assignes a value to a variable\",\n",
    "    \"dictionary\": \"datastructure to store data in key-value pairs\",\n",
    "    \"method\": \"a function bound to an object\",\n",
    "}\n",
    "\n",
    "print(words)\n",
    "print(\"Vi skall lära oss de här glosorna \\n\")\n",
    "\n",
    "for key in words:\n",
    "    print(key)\n",
    "\n",
    "for key in words:\n",
    "    print(key,\" - \", words[key])"
   ]
  },
  {
   "cell_type": "code",
   "execution_count": 16,
   "metadata": {},
   "outputs": [
    {
     "name": "stdout",
     "output_type": "stream",
     "text": [
      "Glosor \n",
      "\n",
      "assign              assignes a value to a variable\n",
      "dictionary          datastructure to store data in key-value pairs\n",
      "method              a function bound to an object\n",
      ".................... x\n"
     ]
    }
   ],
   "source": [
    "print(\"Glosor \\n\")\n",
    "for key, value in words.items():\n",
    "    print(f\"{key:<20}{value}\") #:<20 -> write a line width 20\n",
    "\n",
    "print(\".\"*20,\"x\") # ger 20 av det specificerade tecknet"
   ]
  },
  {
   "cell_type": "code",
   "execution_count": 23,
   "metadata": {},
   "outputs": [
    {
     "name": "stdout",
     "output_type": "stream",
     "text": [
      "{'F': 0, 'E': 10, 'D': 20, 'C': 30, 'B': 40, 'A': 50}\n",
      "{'F': '<10', 'E': 10, 'D': 20, 'C': 30, 'B': 40, 'A': 50, 'Course': 'Programmering 1'}\n"
     ]
    }
   ],
   "source": [
    "# F < 10, E: 10, D: 20, C: 30, B: 40, A: 50\n",
    "\n",
    "#empty dictionary\n",
    "grade_limit ={}\n",
    "\n",
    "for i, character in enumerate(\"ABCDEF\"[::-1]): #::-1 vänder på listan\n",
    "    grade_limit[character] = i*10\n",
    "\n",
    "print(grade_limit)\n",
    "\n",
    "# assignes a new value this is assodiated with the key F\n",
    "grade_limit[\"F\"] = \"<10\"\n",
    "grade_limit[\"Course\"] = \"Programmering 1\"\n",
    "\n",
    "print(grade_limit)"
   ]
  },
  {
   "cell_type": "markdown",
   "metadata": {},
   "source": [
    "#### Comprehension"
   ]
  },
  {
   "cell_type": "code",
   "execution_count": 28,
   "metadata": {},
   "outputs": [
    {
     "name": "stdout",
     "output_type": "stream",
     "text": [
      "{'F': 0, 'E': 10, 'D': 20, 'C': 30, 'B': 40, 'A': 50}\n",
      "[39, 59, 34, 45, 23, 36, 37, 46, 10, 49, 52, 21, 24, 40, 50, 23, 58, 19, 25, 44, 13, 48, 42, 55, 58, 23, 6, 27, 52, 40]\n",
      "{'F': 1, 'E': 3, 'D': 7, 'C': 4, 'B': 8, 'A': 7}\n"
     ]
    }
   ],
   "source": [
    "import random as rnd\n",
    "\n",
    "grade_limit = {grade: i*10 for i, grade in enumerate(\"ABCDEF\"[::-1])}\n",
    "\n",
    "def generate_scores(number_students):\n",
    "    rnd.seed(1337) #seed är reproducerbart random\n",
    "    scores = [rnd.randint(0,60) for _ in range(number_students)]\n",
    "    return scores\n",
    "\n",
    "scores = generate_scores(30)\n",
    "\n",
    "print(f\"{grade_limit}\")\n",
    "print(f\"{scores}\")\n",
    "\n",
    "# number of students in each grade cathegory\n",
    "students_in_grade = {key: 0 for key in grade_limit}\n",
    "\n",
    "for score in scores:\n",
    "        for grade, limit in grade_limit.items():\n",
    "            if limit <= score < limit+10:\n",
    "                students_in_grade[grade] +=1\n",
    "\n",
    "print(students_in_grade)"
   ]
  },
  {
   "cell_type": "code",
   "execution_count": 30,
   "metadata": {},
   "outputs": [
    {
     "data": {
      "text/plain": [
       "30"
      ]
     },
     "execution_count": 30,
     "metadata": {},
     "output_type": "execute_result"
    }
   ],
   "source": [
    "#check that all sutdents have been put into categories\n",
    "\n",
    "total_students = 0\n",
    "for _, number_students in students_in_grade.items():\n",
    "    total_students += number_students\n",
    "\n",
    "total_students\n",
    "\n",
    "#######################\n",
    "# Alternative\n",
    "#for key in students_in_grade:\n",
    "    #total_students += students_in_grade[key]\n",
    "\n",
    "#total_students"
   ]
  }
 ],
 "metadata": {
  "kernelspec": {
   "display_name": "Python 3.9.13 ('Python-Dorota-Bjoorn-uzahzrwe')",
   "language": "python",
   "name": "python3"
  },
  "language_info": {
   "codemirror_mode": {
    "name": "ipython",
    "version": 3
   },
   "file_extension": ".py",
   "mimetype": "text/x-python",
   "name": "python",
   "nbconvert_exporter": "python",
   "pygments_lexer": "ipython3",
   "version": "3.9.13"
  },
  "orig_nbformat": 4,
  "vscode": {
   "interpreter": {
    "hash": "5a42c404417d75b6068b47c895b5f82ed1ebeda4880f3472a880a0dea30e7469"
   }
  }
 },
 "nbformat": 4,
 "nbformat_minor": 2
}
