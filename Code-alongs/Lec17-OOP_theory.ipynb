{
 "cells": [
  {
   "cell_type": "markdown",
   "metadata": {},
   "source": [
    "# OOP Theory"
   ]
  },
  {
   "cell_type": "markdown",
   "metadata": {},
   "source": [
    "## Class instantiation\n",
    "\n",
    "When instantiating an object from a class:\n",
    "1. `__new__` is run #backticks för att inte skall skrivas ut i fet stil\n",
    "2. `__init__` is run -> gives the instance object its initial state"
   ]
  },
  {
   "cell_type": "code",
   "execution_count": 3,
   "metadata": {},
   "outputs": [
    {
     "name": "stdout",
     "output_type": "stream",
     "text": [
      "<__main__.Student object at 0x0000017EB62B4220>\n",
      "<class '__main__.Student'>\n"
     ]
    },
    {
     "data": {
      "text/plain": [
       "True"
      ]
     },
     "execution_count": 3,
     "metadata": {},
     "output_type": "execute_result"
    }
   ],
   "source": [
    "# convantion for classes is PascalCase\n",
    "\n",
    "class Student:\n",
    "    pass\n",
    "\n",
    "# variable names and functions have snake_case\n",
    "\n",
    "s1 = Student()\n",
    "# s1 has a __repr__(), but this __repr__() is in the object class, which is a parent class to Student\n",
    "print(repr(s1))\n",
    "\n",
    "print(type(s1))\n",
    "isinstance(s1, object) # object är en klass även om liten bokstav"
   ]
  },
  {
   "cell_type": "code",
   "execution_count": 4,
   "metadata": {},
   "outputs": [
    {
     "data": {
      "text/plain": [
       "(True, False)"
      ]
     },
     "execution_count": 4,
     "metadata": {},
     "output_type": "execute_result"
    }
   ],
   "source": [
    "isinstance(Student, object), isinstance(s1, int) #classen student är en del av classen object, men är inte en int"
   ]
  },
  {
   "cell_type": "code",
   "execution_count": 6,
   "metadata": {},
   "outputs": [
    {
     "data": {
      "text/plain": [
       "False"
      ]
     },
     "execution_count": 6,
     "metadata": {},
     "output_type": "execute_result"
    }
   ],
   "source": [
    "s2 = Student()\n",
    "s1 is s2 # ej samma som == , med vad??? förmodligen att den kollar att de har samma adress"
   ]
  },
  {
   "cell_type": "code",
   "execution_count": 7,
   "metadata": {},
   "outputs": [
    {
     "data": {
      "text/plain": [
       "('0x17eb62b4220', '0x17eb6da7a60', 1643745278560)"
      ]
     },
     "execution_count": 7,
     "metadata": {},
     "output_type": "execute_result"
    }
   ],
   "source": [
    "hex(id(s1)), hex(id(s2)), id(s2) # görs om till hexadecimal då minnen presenteras vanligtvis så"
   ]
  },
  {
   "cell_type": "markdown",
   "metadata": {},
   "source": [
    "## Attribute\n",
    "\n",
    "- can be defined in class\n",
    "- can be created during runtime (on the fly) using dot notation\n",
    "- can be created methods"
   ]
  },
  {
   "cell_type": "code",
   "execution_count": 9,
   "metadata": {},
   "outputs": [
    {
     "name": "stdout",
     "output_type": "stream",
     "text": [
      "{'__module__': '__main__', 'name': 'default', '__dict__': <attribute '__dict__' of 'Student' objects>, '__weakref__': <attribute '__weakref__' of 'Student' objects>, '__doc__': None}\n"
     ]
    },
    {
     "data": {
      "text/plain": [
       "'default'"
      ]
     },
     "execution_count": 9,
     "metadata": {},
     "output_type": "execute_result"
    }
   ],
   "source": [
    "class Student:\n",
    "    name = \"default\"\n",
    "\n",
    "print(Student.__dict__)     #name finns med i Students namespace\n",
    "\n",
    "Student.name                # gets name attribute from the class"
   ]
  },
  {
   "cell_type": "code",
   "execution_count": 11,
   "metadata": {},
   "outputs": [
    {
     "name": "stdout",
     "output_type": "stream",
     "text": [
      "{}\n"
     ]
    },
    {
     "data": {
      "text/plain": [
       "'default'"
      ]
     },
     "execution_count": 11,
     "metadata": {},
     "output_type": "execute_result"
    }
   ],
   "source": [
    "s1 = Student()\n",
    "print(s1.__dict__)          # instansens namespace är tomt\n",
    "s1.name                     # men name finns in classens namespece so det hämtas därifrån"
   ]
  },
  {
   "cell_type": "code",
   "execution_count": 12,
   "metadata": {},
   "outputs": [
    {
     "name": "stdout",
     "output_type": "stream",
     "text": [
      "{'name': 'Ada', 'shoe_size': 43}\n"
     ]
    }
   ],
   "source": [
    "s1.name = \"Ada\"             # created an attribute on the fly with dot notations\n",
    "s1.shoe_size = 43\n",
    "print(s1.__dict__)"
   ]
  },
  {
   "cell_type": "code",
   "execution_count": 13,
   "metadata": {},
   "outputs": [
    {
     "data": {
      "text/plain": [
       "mappingproxy({'__module__': '__main__',\n",
       "              'name': 'default',\n",
       "              '__dict__': <attribute '__dict__' of 'Student' objects>,\n",
       "              '__weakref__': <attribute '__weakref__' of 'Student' objects>,\n",
       "              '__doc__': None})"
      ]
     },
     "execution_count": 13,
     "metadata": {},
     "output_type": "execute_result"
    }
   ],
   "source": [
    "Student.__dict__            # shoe_size finns inte med och orginal name \"default\" finns kvar"
   ]
  },
  {
   "cell_type": "code",
   "execution_count": 14,
   "metadata": {},
   "outputs": [
    {
     "data": {
      "text/plain": [
       "{}"
      ]
     },
     "execution_count": 14,
     "metadata": {},
     "output_type": "execute_result"
    }
   ],
   "source": [
    "s2 = Student()\n",
    "s2.__dict__                 # s2 har inga attribut, de vi har satt är bundna till s1 och Classen"
   ]
  },
  {
   "cell_type": "code",
   "execution_count": 15,
   "metadata": {},
   "outputs": [
    {
     "data": {
      "text/plain": [
       "'default'"
      ]
     },
     "execution_count": 15,
     "metadata": {},
     "output_type": "execute_result"
    }
   ],
   "source": [
    "s2.name                     # hämtar classens då inte finns någon egen"
   ]
  },
  {
   "cell_type": "code",
   "execution_count": 16,
   "metadata": {},
   "outputs": [
    {
     "ename": "AttributeError",
     "evalue": "'Student' object has no attribute 'shoe_size'",
     "output_type": "error",
     "traceback": [
      "\u001b[1;31m---------------------------------------------------------------------------\u001b[0m",
      "\u001b[1;31mAttributeError\u001b[0m                            Traceback (most recent call last)",
      "Cell \u001b[1;32mIn [16], line 1\u001b[0m\n\u001b[1;32m----> 1\u001b[0m \u001b[43ms2\u001b[49m\u001b[38;5;241;43m.\u001b[39;49m\u001b[43mshoe_size\u001b[49m\n",
      "\u001b[1;31mAttributeError\u001b[0m: 'Student' object has no attribute 'shoe_size'"
     ]
    }
   ],
   "source": [
    "s2.shoe_size                # ger fel då detta attribut finns inte i s2 eller i Student. FInns bara i s1"
   ]
  },
  {
   "cell_type": "markdown",
   "metadata": {},
   "source": [
    "## Namespace\n",
    "\n",
    "- class attributes live in the class namespace\n",
    "- namespace is a dictionary of symbols (keys): reference to objects (values)\n",
    "\n",
    "Python will look at local scope -> enclosing scope -> global scope -> build-in scope"
   ]
  },
  {
   "cell_type": "code",
   "execution_count": null,
   "metadata": {},
   "outputs": [],
   "source": [
    "# global scope\n",
    "class Functions:\n",
    "    # enclosing scope\n",
    "    def f(x):\n",
    "        # local scope (det funktionen gör/innehåller)\n",
    "        return x"
   ]
  },
  {
   "cell_type": "code",
   "execution_count": 25,
   "metadata": {},
   "outputs": [
    {
     "name": "stdout",
     "output_type": "stream",
     "text": [
      "{'__module__': '__main__', 'eyes': 2, 'nose': 1, 'tail': True, '__init__': <function Rabbit.__init__ at 0x0000017EB60F0E50>, '__dict__': <attribute '__dict__' of 'Rabbit' objects>, '__weakref__': <attribute '__weakref__' of 'Rabbit' objects>, '__doc__': None}\n",
      "Bella\n",
      "{'name': 'Bella'}\n"
     ]
    }
   ],
   "source": [
    "class Rabbit:\n",
    "    # class attributes - exist in Class namespace not in instance namespace\n",
    "    eyes = 2\n",
    "    nose = 1\n",
    "    tail = True\n",
    "\n",
    "    def __init__(self, name) -> None:\n",
    "        # instance attributes exist in instance namespace, not in Class namespace\n",
    "        self.name = name\n",
    "    \n",
    "rabbit1 = Rabbit(\"Bella\")\n",
    "print(Rabbit.__dict__)          # Bella finns inte här\n",
    "\n",
    "print(rabbit1.name)\n",
    "print(rabbit1.__dict__)         # Bella finns bara lokalt här"
   ]
  },
  {
   "cell_type": "code",
   "execution_count": 26,
   "metadata": {},
   "outputs": [
    {
     "data": {
      "text/plain": [
       "('Bella', 1)"
      ]
     },
     "execution_count": 26,
     "metadata": {},
     "output_type": "execute_result"
    }
   ],
   "source": [
    "rabbit1.name, rabbit1.nose      #nose finns inte lokalt hos rabbit1 så hämtas från Rabbit"
   ]
  },
  {
   "cell_type": "code",
   "execution_count": 27,
   "metadata": {},
   "outputs": [
    {
     "data": {
      "text/plain": [
       "False"
      ]
     },
     "execution_count": 27,
     "metadata": {},
     "output_type": "execute_result"
    }
   ],
   "source": [
    "class Rabbit:\n",
    "    # class attributes - exist in Class namespace not in instance namespace\n",
    "    eyes = 2\n",
    "    nose = 1\n",
    "    tail = True\n",
    "\n",
    "    def __init__(self, name) -> None:\n",
    "        # instance attributes exist in instance namespace, not in Class namespace\n",
    "        self.name = name\n",
    "        self.has_tail = False\n",
    "\n",
    "rabbit1 = Rabbit(\"Skutt\")\n",
    "rabbit1.has_tail                    # instance nspacet vann (False). Eftersom svaret hittat går det inte upp och letar i Classens nspace"
   ]
  },
  {
   "cell_type": "code",
   "execution_count": 28,
   "metadata": {},
   "outputs": [
    {
     "data": {
      "text/plain": [
       "4"
      ]
     },
     "execution_count": 28,
     "metadata": {},
     "output_type": "execute_result"
    }
   ],
   "source": [
    "import numpy as np\n",
    "\n",
    "# x is in global scope\n",
    "x = np.linspace(-5,5)\n",
    "\n",
    "# x here is in local scope\n",
    "#f = lambda x: x**2\n",
    "\n",
    "def f(x):\n",
    "    # def g(x):             # enclosing scope (yttre funktionen till den inre funktionen)\n",
    "        # print(\"fef\")\n",
    "    y = x + 2               # local x will be equal to 2 as we run f(2)\n",
    "    return y\n",
    "\n",
    "f(2)\n",
    "\n",
    "# for loop skapar inte namespace utan dess fås ur funktioner och classer\n"
   ]
  },
  {
   "cell_type": "markdown",
   "metadata": {},
   "source": [
    "## Properites"
   ]
  },
  {
   "cell_type": "code",
   "execution_count": 36,
   "metadata": {},
   "outputs": [
    {
     "name": "stdout",
     "output_type": "stream",
     "text": [
      "{'__module__': '__main__', '__init__': <function Square.__init__ at 0x0000017EBE6B1820>, 'get_side': <function Square.get_side at 0x0000017EBE6B1160>, 'set_side': <function Square.set_side at 0x0000017EBE6B19D0>, '__dict__': <attribute '__dict__' of 'Square' objects>, '__weakref__': <attribute '__weakref__' of 'Square' objects>, '__doc__': None}\n",
      "{'_side': 1}\n",
      "'Square' object has no attribute 'side'\n"
     ]
    }
   ],
   "source": [
    "# without property function\n",
    "class Square:\n",
    "    def __init__(self, side) -> None:\n",
    "        self._side = side                   #_side NOTE\n",
    "    \n",
    "    #method\n",
    "    def get_side(self):\n",
    "        print(\"Getter is running\")\n",
    "        return self._side\n",
    "    \n",
    "    #method\n",
    "    def set_side (self, value):\n",
    "        #validation code\n",
    "        print(\"setter is running\")\n",
    "        self._side = value\n",
    "\n",
    "unit_square = Square(1)\n",
    "print(Square.__dict__)\n",
    "print(unit_square.__dict__)\n",
    "\n",
    "try:\n",
    "    unit_square.side                      # side existerar inte utan bara _side\n",
    "except AttributeError as err:\n",
    "    print(err)"
   ]
  },
  {
   "cell_type": "code",
   "execution_count": 34,
   "metadata": {},
   "outputs": [
    {
     "name": "stdout",
     "output_type": "stream",
     "text": [
      "Getter is running\n",
      "setter is running\n",
      "Getter is running\n"
     ]
    },
    {
     "data": {
      "text/plain": [
       "{'_side': 2}"
      ]
     },
     "execution_count": 34,
     "metadata": {},
     "output_type": "execute_result"
    }
   ],
   "source": [
    "unit_square.get_side()  #this returns _side\n",
    "unit_square.set_side(2) # this sets _side to 2\n",
    "unit_square.get_side()  # this returns _side\n",
    "unit_square.__dict__"
   ]
  },
  {
   "cell_type": "code",
   "execution_count": 40,
   "metadata": {},
   "outputs": [
    {
     "name": "stdout",
     "output_type": "stream",
     "text": [
      "setter is running\n",
      "Getter is running\n"
     ]
    },
    {
     "data": {
      "text/plain": [
       "2"
      ]
     },
     "execution_count": 40,
     "metadata": {},
     "output_type": "execute_result"
    }
   ],
   "source": [
    "# property function\n",
    "class Square:\n",
    "    def __init__(self, side) -> None:\n",
    "        self.side = side                # ingen _side \n",
    "    \n",
    "    def get_side(self):\n",
    "        print(\"Getter is running\")\n",
    "        return self._side\n",
    "    \n",
    "    def set_side (self, value):\n",
    "        #validation code\n",
    "        print(\"setter is running\")\n",
    "        self._side = value                              #_side finns i instansen\n",
    "\n",
    "    side = property(fget = get_side, fset = set_side)   # side finns med i Classen eftersom fset har körts\n",
    "\n",
    "square2 = Square(2)\n",
    "square2.side"
   ]
  },
  {
   "cell_type": "code",
   "execution_count": 41,
   "metadata": {},
   "outputs": [
    {
     "name": "stdout",
     "output_type": "stream",
     "text": [
      "setter is running\n",
      "Getter is running\n"
     ]
    },
    {
     "data": {
      "text/plain": [
       "3"
      ]
     },
     "execution_count": 41,
     "metadata": {},
     "output_type": "execute_result"
    }
   ],
   "source": [
    "# property function\n",
    "class Square:\n",
    "    def __init__(self, side) -> None:\n",
    "        self.side = side    \n",
    "    \n",
    "    # side = property(fget = side)\n",
    "    @property\n",
    "    def side(self):\n",
    "        print(\"Getter is running\")\n",
    "        return self._side\n",
    "    \n",
    "    @side.setter\n",
    "    def side (self, value):\n",
    "        #validation code\n",
    "        print(\"setter is running\")\n",
    "        self._side = value                              \n",
    "\n",
    "square3 = Square(3)\n",
    "square3.side"
   ]
  },
  {
   "cell_type": "code",
   "execution_count": 6,
   "metadata": {},
   "outputs": [
    {
     "data": {
      "text/plain": [
       "(True, True)"
      ]
     },
     "execution_count": 6,
     "metadata": {},
     "output_type": "execute_result"
    }
   ],
   "source": [
    "fruit1 = \"apple\"\n",
    "fruit2 = \"apple\"\n",
    "\n",
    "fruit1 == fruit2, fruit1 is fruit2"
   ]
  },
  {
   "cell_type": "code",
   "execution_count": 3,
   "metadata": {},
   "outputs": [
    {
     "data": {
      "text/plain": [
       "(3075499542512, 3075499542512)"
      ]
     },
     "execution_count": 3,
     "metadata": {},
     "output_type": "execute_result"
    }
   ],
   "source": [
    "# id is same here because \"apple\" is a short string and in Python stored in the same place\n",
    "id(fruit1), id(fruit2)"
   ]
  },
  {
   "cell_type": "code",
   "execution_count": 4,
   "metadata": {},
   "outputs": [
    {
     "data": {
      "text/plain": [
       "(True, False)"
      ]
     },
     "execution_count": 4,
     "metadata": {},
     "output_type": "execute_result"
    }
   ],
   "source": [
    "question1 = \"En bild säger mer än 1000 ord, en matematisk formel säger mer än 1000 bilder. Hur många gånger fler säger en formel än ett ord?\"\n",
    "question2 = \"En bild säger mer än 1000 ord, en matematisk formel säger mer än 1000 bilder. Hur många gånger fler säger en formel än ett ord?\"\n",
    "\n",
    "question1 == question2, question1 is question2"
   ]
  },
  {
   "cell_type": "code",
   "execution_count": 5,
   "metadata": {},
   "outputs": [
    {
     "data": {
      "text/plain": [
       "(3075612898992, 3075612899200)"
      ]
     },
     "execution_count": 5,
     "metadata": {},
     "output_type": "execute_result"
    }
   ],
   "source": [
    "id(question1), id(question2)"
   ]
  },
  {
   "cell_type": "markdown",
   "metadata": {},
   "source": [
    "THus is is usefull to compare to is None otherwise =="
   ]
  }
 ],
 "metadata": {
  "kernelspec": {
   "display_name": "Python 3.9.13 ('Python-Dorota-Bjoorn-uzahzrwe')",
   "language": "python",
   "name": "python3"
  },
  "language_info": {
   "codemirror_mode": {
    "name": "ipython",
    "version": 3
   },
   "file_extension": ".py",
   "mimetype": "text/x-python",
   "name": "python",
   "nbconvert_exporter": "python",
   "pygments_lexer": "ipython3",
   "version": "3.9.13"
  },
  "orig_nbformat": 4,
  "vscode": {
   "interpreter": {
    "hash": "5a42c404417d75b6068b47c895b5f82ed1ebeda4880f3472a880a0dea30e7469"
   }
  }
 },
 "nbformat": 4,
 "nbformat_minor": 2
}
