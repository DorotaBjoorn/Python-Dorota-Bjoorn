{
 "cells": [
  {
   "cell_type": "markdown",
   "metadata": {},
   "source": [
    "# for loop"
   ]
  },
  {
   "cell_type": "markdown",
   "metadata": {},
   "source": [
    "om vill att något skall köra ett antal gånger (kan inte få oändliga loopar)\n",
    "\n",
    "for i in range(start, end, stepsize)"
   ]
  },
  {
   "cell_type": "code",
   "execution_count": 1,
   "metadata": {},
   "outputs": [
    {
     "name": "stdout",
     "output_type": "stream",
     "text": [
      "0 hej\n",
      "1 hej\n",
      "2 hej\n",
      "3 hej\n",
      "4 hej\n"
     ]
    }
   ],
   "source": [
    "for i in range(5):\n",
    "    print(i, \"hej\")\n",
    " \n",
    "    "
   ]
  },
  {
   "cell_type": "code",
   "execution_count": 2,
   "metadata": {},
   "outputs": [
    {
     "name": "stdout",
     "output_type": "stream",
     "text": [
      "0 1 2 3 4 5 6 7 8 9 "
     ]
    }
   ],
   "source": [
    "for i in range(10):\n",
    "    print(i, end = \" \") #Säger att slutet på varje utskrift skall vara mallanrum. \\t skulle vara tab"
   ]
  },
  {
   "cell_type": "code",
   "execution_count": 4,
   "metadata": {},
   "outputs": [
    {
     "name": "stdout",
     "output_type": "stream",
     "text": [
      "0+1+2+3+...+9 = 45\n"
     ]
    }
   ],
   "source": [
    "my_sum = 0\n",
    "\n",
    "for i in range(10):\n",
    "    my_sum += i\n",
    "\n",
    "print(f\"0+1+2+3+...+9 = {my_sum}\")\n"
   ]
  },
  {
   "cell_type": "markdown",
   "metadata": {},
   "source": [
    "## Loop through a list"
   ]
  },
  {
   "cell_type": "code",
   "execution_count": 6,
   "metadata": {},
   "outputs": [
    {
     "name": "stdout",
     "output_type": "stream",
     "text": [
      "rabbit is cute\n",
      "guinea pig is cute\n",
      "cat is cute\n",
      "guppy is cute\n"
     ]
    }
   ],
   "source": [
    "cute_animals = [\"rabbit\", \"guinea pig\", \"cat\", \"guppy\"]\n",
    "\n",
    "for animal in cute_animals:\n",
    "    print(f\"{animal} is cute\")"
   ]
  },
  {
   "cell_type": "markdown",
   "metadata": {},
   "source": [
    "## Random module"
   ]
  },
  {
   "cell_type": "code",
   "execution_count": 12,
   "metadata": {},
   "outputs": [
    {
     "name": "stdout",
     "output_type": "stream",
     "text": [
      "number_sixes=166015\n",
      "Proportion of sices 0.166015\n"
     ]
    }
   ],
   "source": [
    "import random as rnd\n",
    "\n",
    "dice = rnd.randint(1,6)\n",
    "number_sixes = 0\n",
    "number_rolls = 10000\n",
    "\n",
    "for i in range(number_rolls):\n",
    "    dice = rnd.randint(1,6)\n",
    "    if dice == 6:\n",
    "        number_sixes += 1\n",
    "\n",
    "print(f\"{number_sixes=}\")\n",
    "print(f\"Proportion of sices {number_sixes/number_rolls}\")\n",
    "\n",
    "#while does it seems to converge to 0.1666"
   ]
  },
  {
   "cell_type": "markdown",
   "metadata": {},
   "source": [
    "## Pastakonsumption i Sverige\n",
    "\n",
    "nationella prov Matte3C, ht14 uppg 18"
   ]
  },
  {
   "cell_type": "code",
   "execution_count": 17,
   "metadata": {},
   "outputs": [
    {
     "ename": "NameError",
     "evalue": "name 'exp' is not defined",
     "output_type": "error",
     "traceback": [
      "\u001b[1;31m---------------------------------------------------------------------------\u001b[0m",
      "\u001b[1;31mNameError\u001b[0m                                 Traceback (most recent call last)",
      "\u001b[1;32mc:\\Users\\DorotaBjöörn-AI22GBG\\Documents\\GitHub\\Python-Dorota-Bjoorn\\Code-alongs\\L3-for-statment.ipynb Cell 11\u001b[0m in \u001b[0;36m<cell line: 6>\u001b[1;34m()\u001b[0m\n\u001b[0;32m      <a href='vscode-notebook-cell:/c%3A/Users/DorotaBj%C3%B6%C3%B6rn-AI22GBG/Documents/GitHub/Python-Dorota-Bjoorn/Code-alongs/L3-for-statment.ipynb#X21sZmlsZQ%3D%3D?line=3'>4</a>\u001b[0m P \u001b[39m=\u001b[39m \u001b[39m0\u001b[39m\n\u001b[0;32m      <a href='vscode-notebook-cell:/c%3A/Users/DorotaBj%C3%B6%C3%B6rn-AI22GBG/Documents/GitHub/Python-Dorota-Bjoorn/Code-alongs/L3-for-statment.ipynb#X21sZmlsZQ%3D%3D?line=5'>6</a>\u001b[0m \u001b[39mwhile\u001b[39;00m P \u001b[39m<\u001b[39m\u001b[39m=\u001b[39m \u001b[39m15\u001b[39m:\n\u001b[1;32m----> <a href='vscode-notebook-cell:/c%3A/Users/DorotaBj%C3%B6%C3%B6rn-AI22GBG/Documents/GitHub/Python-Dorota-Bjoorn/Code-alongs/L3-for-statment.ipynb#X21sZmlsZQ%3D%3D?line=6'>7</a>\u001b[0m     P \u001b[39m=\u001b[39m \u001b[39m0\u001b[39m,\u001b[39m791\u001b[39m\u001b[39m*\u001b[39mexp(\u001b[39m0.0526\u001b[39m\u001b[39m*\u001b[39mt)\n\u001b[0;32m      <a href='vscode-notebook-cell:/c%3A/Users/DorotaBj%C3%B6%C3%B6rn-AI22GBG/Documents/GitHub/Python-Dorota-Bjoorn/Code-alongs/L3-for-statment.ipynb#X21sZmlsZQ%3D%3D?line=7'>8</a>\u001b[0m     t \u001b[39m+\u001b[39m\u001b[39m=\u001b[39m \u001b[39m1\u001b[39m\n\u001b[0;32m     <a href='vscode-notebook-cell:/c%3A/Users/DorotaBj%C3%B6%C3%B6rn-AI22GBG/Documents/GitHub/Python-Dorota-Bjoorn/Code-alongs/L3-for-statment.ipynb#X21sZmlsZQ%3D%3D?line=9'>10</a>\u001b[0m \u001b[39mprint\u001b[39m(\u001b[39mf\u001b[39m\u001b[39m\"\u001b[39m\u001b[39m{\u001b[39;00m\u001b[39m1960\u001b[39m\u001b[39m+\u001b[39mt\u001b[39m}\u001b[39;00m\u001b[39m\"\u001b[39m)\n",
      "\u001b[1;31mNameError\u001b[0m: name 'exp' is not defined"
     ]
    }
   ],
   "source": [
    "import math\n",
    "\n",
    "t = 1960\n",
    "P = 0\n",
    "\n",
    "while P <= 15:\n",
    "    P = 0,791*exp(0.0526*t)\n",
    "    t += 1\n",
    "\n",
    "print(f\"{1960+t}\")"
   ]
  },
  {
   "cell_type": "code",
   "execution_count": null,
   "metadata": {},
   "outputs": [],
   "source": [
    "import math\n",
    "\n",
    "for year in range(10000):\n",
    "    pasta_consumption = .791*math.exp(.0526*year)\n",
    "    if pasta_consumption <= 15:\n",
    "        print(f\"År {year+1960} är pastakonsumptionen är 15kg/person per år\")\n",
    "        break #break innanför if-satsen (dvs 1 tab in), annars skulle den bryta efter första for loopen\n"
   ]
  },
  {
   "cell_type": "code",
   "execution_count": 21,
   "metadata": {},
   "outputs": [
    {
     "name": "stdout",
     "output_type": "stream",
     "text": [
      "supermycket pasta, inte bra modell i längden\n"
     ]
    },
    {
     "data": {
      "image/png": "[encoded data removed]",
      "text/plain": [
       "<Figure size 640x480 with 1 Axes>"
      ]
     },
     "metadata": {},
     "output_type": "display_data"
    }
   ],
   "source": [
    "## b)\n",
    "\n",
    "import matplotlib.pyplot as plt\n",
    "\n",
    "pasta_per_year = [] #creates an empty list\n",
    "\n",
    "for year in range(140): #loops 140 years  because 1960 to 2100, starts automatically from 0 with 1 step so (140) is same as (0, 140, 1)\n",
    "    pasta_consumption = .791*math.exp(.0526*year)\n",
    "    pasta_per_year.append(pasta_consumption) #append adds element to a list\n",
    "\n",
    "plt.plot(range(1960, 2100), pasta_per_year) #(range(x, y)\n",
    "plt.xlabel(\"År\")\n",
    "plt.ylabel (\"per år\")\n",
    "plt.title(\"titel\")\n",
    "\n",
    "print(\"supermycket pasta, inte bra modell i längden\")"
   ]
  }
 ],
 "metadata": {
  "kernelspec": {
   "display_name": "Python 3.9.13 ('Python-Dorota-Bjoorn-uzahzrwe')",
   "language": "python",
   "name": "python3"
  },
  "language_info": {
   "codemirror_mode": {
    "name": "ipython",
    "version": 3
   },
   "file_extension": ".py",
   "mimetype": "text/x-python",
   "name": "python",
   "nbconvert_exporter": "python",
   "pygments_lexer": "ipython3",
   "version": "3.9.13"
  },
  "orig_nbformat": 4,
  "vscode": {
   "interpreter": {
    "hash": "5a42c404417d75b6068b47c895b5f82ed1ebeda4880f3472a880a0dea30e7469"
   }
  }
 },
 "nbformat": 4,
 "nbformat_minor": 2
}
