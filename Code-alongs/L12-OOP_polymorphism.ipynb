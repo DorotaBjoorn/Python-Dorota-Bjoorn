{
 "cells": [
  {
   "cell_type": "markdown",
   "metadata": {},
   "source": [
    "# OOP polymorphism"
   ]
  },
  {
   "cell_type": "code",
   "execution_count": 3,
   "metadata": {},
   "outputs": [
    {
     "name": "stdout",
     "output_type": "stream",
     "text": [
      "len([1,23,4])=3\n",
      "len(['1234'])=1\n"
     ]
    }
   ],
   "source": [
    "# examples\n",
    "print(f\"{len([1,23,4])=}\")\n",
    "print(f\"{len(['1234'])=}\")"
   ]
  },
  {
   "cell_type": "markdown",
   "metadata": {},
   "source": [
    "#### Polymorphism in calss method"
   ]
  },
  {
   "cell_type": "code",
   "execution_count": 9,
   "metadata": {},
   "outputs": [
    {
     "name": "stdout",
     "output_type": "stream",
     "text": [
      "I am a fish with ame Guppie\n"
     ]
    },
    {
     "data": {
      "text/plain": [
       "\"Fish(name='Guppie')\""
      ]
     },
     "execution_count": 9,
     "metadata": {},
     "output_type": "execute_result"
    }
   ],
   "source": [
    "class Fish:\n",
    "    def __init__(self, name) -> None:\n",
    "        self.name = name\n",
    "\n",
    "    # overrided dounder string method\n",
    "    def __str__(self):\n",
    "        return f\"I am a fish with ame {self.name}\"\n",
    "\n",
    "    # meddelande till andra utvecklare\n",
    "    # dock om str metoden inte finns så körs repr om den finns\n",
    "    # overrided dounder string method\n",
    "    def __repr__(self) -> str:\n",
    "        return f\"Fish(name='{self.name}')\"\n",
    "\n",
    "    def speak(self):\n",
    "        print(\"Bluppy bluppy\")\n",
    "\n",
    "class Fox:\n",
    "    def __init__(self, name) -> None:\n",
    "        self.name = name\n",
    "    \n",
    "    def __str__(self) -> str:\n",
    "        return f\"I am e foxk with name {self.name}, my sound is mysterioius\"\n",
    "    \n",
    "    def speak(self):\n",
    "        return NotImplemented\n",
    "    \n",
    "fish1 = Fish(\"Guppie\")\n",
    "print(fish1) # ger samma str(fish1)\n",
    "repr(fish1)\n"
   ]
  },
  {
   "cell_type": "code",
   "execution_count": 10,
   "metadata": {},
   "outputs": [
    {
     "name": "stdout",
     "output_type": "stream",
     "text": [
      "I am a fish with ame Guppie\n",
      "Bluppy bluppy\n",
      "I am e foxk with name Ylvis, my sound is mysterioius\n"
     ]
    }
   ],
   "source": [
    "fox1 = Fox(\"Ylvis\")\n",
    "animals = (fish1, fox1) #touple - imutable\n",
    "\n",
    "for animal in animals:\n",
    "    print (animal)\n",
    "    animal.speak()"
   ]
  },
  {
   "cell_type": "code",
   "execution_count": 11,
   "metadata": {},
   "outputs": [
    {
     "data": {
      "text/plain": [
       "<__main__.Rabbit at 0x25c77100100>"
      ]
     },
     "execution_count": 11,
     "metadata": {},
     "output_type": "execute_result"
    }
   ],
   "source": [
    "# finns en repper inbygd... det är den vi overridar i exemplet ovan\n",
    "class Rabbit:\n",
    "    pass\n",
    "\n",
    "Rabbit()"
   ]
  },
  {
   "cell_type": "markdown",
   "metadata": {},
   "source": []
  },
  {
   "cell_type": "markdown",
   "metadata": {},
   "source": [
    "## Operator overloading"
   ]
  },
  {
   "cell_type": "code",
   "execution_count": 30,
   "metadata": {},
   "outputs": [
    {
     "name": "stdout",
     "output_type": "stream",
     "text": [
      "Vector(1.0, 2.0, 3.0)\n",
      "Vector can not be empty\n",
      "(-1.0, -2.0)\n",
      "Vector(1.0, 1.0)\n",
      "Vector(-3.0, -5.0)\n",
      "Length of vector is 2\n"
     ]
    },
    {
     "ename": "TypeError",
     "evalue": "Both must be Vector and myust have the same lenght",
     "output_type": "error",
     "traceback": [
      "\u001b[1;31m---------------------------------------------------------------------------\u001b[0m",
      "\u001b[1;31mTypeError\u001b[0m                                 Traceback (most recent call last)",
      "Cell \u001b[1;32mIn [30], line 71\u001b[0m\n\u001b[0;32m     68\u001b[0m \u001b[38;5;28mprint\u001b[39m (\u001b[38;5;124mf\u001b[39m\u001b[38;5;124m\"\u001b[39m\u001b[38;5;124mLength of vector is \u001b[39m\u001b[38;5;132;01m{\u001b[39;00m\u001b[38;5;28mlen\u001b[39m(v2)\u001b[38;5;132;01m}\u001b[39;00m\u001b[38;5;124m\"\u001b[39m)\n\u001b[0;32m     70\u001b[0m v4 \u001b[38;5;241m=\u001b[39m (\u001b[38;5;241m1\u001b[39m,\u001b[38;5;241m2\u001b[39m,\u001b[38;5;241m3\u001b[39m)\n\u001b[1;32m---> 71\u001b[0m \u001b[38;5;28mprint\u001b[39m(\u001b[43mv2\u001b[49m\u001b[38;5;241;43m+\u001b[39;49m\u001b[43mv4\u001b[49m)\n",
      "Cell \u001b[1;32mIn [30], line 26\u001b[0m, in \u001b[0;36mVector.__add__\u001b[1;34m(self, other)\u001b[0m\n\u001b[0;32m     25\u001b[0m \u001b[38;5;28;01mdef\u001b[39;00m \u001b[38;5;21m__add__\u001b[39m(\u001b[38;5;28mself\u001b[39m, other: Vector) \u001b[38;5;241m-\u001b[39m\u001b[38;5;241m>\u001b[39m Vector:\n\u001b[1;32m---> 26\u001b[0m     \u001b[38;5;28;01mif\u001b[39;00m \u001b[38;5;28;43mself\u001b[39;49m\u001b[38;5;241;43m.\u001b[39;49m\u001b[43mvalidate_vectors\u001b[49m\u001b[43m(\u001b[49m\u001b[43mother\u001b[49m\u001b[43m)\u001b[49m:\n\u001b[0;32m     27\u001b[0m         \u001b[38;5;66;03m# om (1,2)+(2,3) -> numbers = (1+2, 2+3)\u001b[39;00m\n\u001b[0;32m     28\u001b[0m         numbers \u001b[38;5;241m=\u001b[39m (a\u001b[38;5;241m+\u001b[39mb \u001b[38;5;28;01mfor\u001b[39;00m a,b \u001b[38;5;129;01min\u001b[39;00m \u001b[38;5;28mzip\u001b[39m(\u001b[38;5;28mself\u001b[39m\u001b[38;5;241m.\u001b[39mnumbers, other\u001b[38;5;241m.\u001b[39mnumbers))\n\u001b[0;32m     29\u001b[0m         \u001b[38;5;28;01mreturn\u001b[39;00m Vector(\u001b[38;5;241m*\u001b[39mnumbers)\n",
      "Cell \u001b[1;32mIn [30], line 40\u001b[0m, in \u001b[0;36mVector.validate_vectors\u001b[1;34m(self, other)\u001b[0m\n\u001b[0;32m     38\u001b[0m \u001b[38;5;124;03m\"\"\"Validates if 2 vectors have the same lenth\"\"\"\u001b[39;00m\n\u001b[0;32m     39\u001b[0m \u001b[38;5;28;01mif\u001b[39;00m \u001b[38;5;129;01mnot\u001b[39;00m \u001b[38;5;28misinstance\u001b[39m(other, Vector) \u001b[38;5;129;01mor\u001b[39;00m \u001b[38;5;28mlen\u001b[39m(other) \u001b[38;5;241m!=\u001b[39m \u001b[38;5;28mlen\u001b[39m(\u001b[38;5;28mself\u001b[39m): \u001b[38;5;66;03m#kollar att other är en vektor, vet redan att self är en vektor så behöver inte kolla\u001b[39;00m\n\u001b[1;32m---> 40\u001b[0m     \u001b[38;5;28;01mraise\u001b[39;00m \u001b[38;5;167;01mTypeError\u001b[39;00m (\u001b[38;5;124m\"\u001b[39m\u001b[38;5;124mBoth must be Vector and myust have the same lenght\u001b[39m\u001b[38;5;124m\"\u001b[39m)\n\u001b[0;32m     41\u001b[0m \u001b[38;5;28;01mreturn\u001b[39;00m \u001b[38;5;28mlen\u001b[39m(\u001b[38;5;28mself\u001b[39m) \u001b[38;5;241m==\u001b[39m \u001b[38;5;28mlen\u001b[39m(other)\n",
      "\u001b[1;31mTypeError\u001b[0m: Both must be Vector and myust have the same lenght"
     ]
    }
   ],
   "source": [
    "from __future__ import annotations # för att kunna använda | som stöds av senare versioner av Python\n",
    "\n",
    "\n",
    "class Vector:\n",
    "    \"\"\"A class to represent Eucleadian vector with mangnitde and direction\"\"\"\n",
    "    \n",
    "    # *numbers => arbitrary number of positionial arguments\n",
    "    def __init__(self, *numbers: float | int) -> None: \n",
    "        \n",
    "        # validation\n",
    "        for number in numbers:\n",
    "            if not isinstance(number, (float, int)):\n",
    "                raise TypeError(f\"{number} is not a valid number\")\n",
    "        \n",
    "        if len(numbers) == 0:\n",
    "            raise ValueError(\"Vector can not be empty\")\n",
    "\n",
    "        self._numbers = tuple(float(number) for number in numbers)\n",
    "\n",
    "    @property\n",
    "    def numbers(self) -> tuple:\n",
    "        return self._numbers\n",
    "\n",
    "    # operator overload addition\n",
    "    def __add__(self, other: Vector) -> Vector:\n",
    "        if self.validate_vectors(other):\n",
    "            # om (1,2)+(2,3) -> numbers = (1+2, 2+3)\n",
    "            numbers = (a+b for a,b in zip(self.numbers, other.numbers))\n",
    "            return Vector(*numbers) #?????????????????? varför *????????????????????????????\n",
    "\n",
    "    # operator overload subtraction\n",
    "    def __sub__(self, other: Vector) -> Vector:\n",
    "        if self.validate_vectors(other):\n",
    "            numbers = (a-b for a,b in zip(self.numbers, other.numbers))\n",
    "            return Vector(*numbers)\n",
    "    \n",
    "    def validate_vectors(self, other: Vector) -> bool:\n",
    "        \"\"\"Validates if 2 vectors have the same lenth\"\"\"\n",
    "        if not isinstance(other, Vector) or len(other) != len(self): #kollar att other är en vektor, vet redan att self är en vektor så behöver inte kolla\n",
    "            raise TypeError (\"Both must be Vector and myust have the same lenght\")\n",
    "        return len(self) == len(other) # returnerar True eller False\n",
    "\n",
    "    # to use len() on Vector have to overload it\n",
    "    def __len__(self) -> int:\n",
    "        \"\"\"Returns number of elements in a Vector not the length/distance of the Vector\"\"\"\n",
    "        return len(self.numbers)\n",
    "\n",
    "    def __repr__(self) -> str:\n",
    "        return f\"Vector{self._numbers}\"\n",
    "\n",
    "# Vector(\"ofs\", 2, 3) kommer inte funka då annat är float and int\n",
    "v1 = Vector(1,2,3) #kör egen repper innan __repr__ funktionen finns och ger <__main__.Vector at 0x2e69bcefdf0>\n",
    "print(v1)\n",
    "\n",
    "try:\n",
    "    v2 = Vector()\n",
    "    # v3 = ... här kan skriva in fler vektorer för att hitta fler feltyper\n",
    "except ValueError as err:\n",
    "    print(err)\n",
    "# except TypeError as ....  för att fånga in fler feltyper\n",
    "\n",
    "v2 = Vector(-1,-2)\n",
    "print(v2.numbers)\n",
    "\n",
    "v3 = Vector(2,3)\n",
    "print(v3+v2)\n",
    "print(v2-v3)\n",
    "print (f\"Length of vector is {len(v2)}\")\n",
    "\n",
    "v4 = (1,2,3)\n",
    "print(v2+v4) # går inte då olika längd... vilket valideringskoden fångar in"
   ]
  },
  {
   "cell_type": "code",
   "execution_count": 22,
   "metadata": {},
   "outputs": [
    {
     "name": "stdout",
     "output_type": "stream",
     "text": [
      "v2=Vector(-1.0, -2.0), v3=Vector(2.0, 3.0)\n",
      "Vector(1.0, 1.0)\n"
     ]
    },
    {
     "data": {
      "text/plain": [
       "Vector(1.0, 1.0)"
      ]
     },
     "execution_count": 22,
     "metadata": {},
     "output_type": "execute_result"
    }
   ],
   "source": [
    "print(f\"{v2=}, {v3=}\")\n",
    "print(v2.__add__(v3))\n",
    "v2+v3"
   ]
  },
  {
   "cell_type": "code",
   "execution_count": 26,
   "metadata": {},
   "outputs": [
    {
     "data": {
      "text/plain": [
       "Vector(0.0, 0.0)"
      ]
     },
     "execution_count": 26,
     "metadata": {},
     "output_type": "execute_result"
    }
   ],
   "source": [
    "# kan ej addera 2 dim vektor (v2) med 3 dim\n",
    "v2+Vector(1,2,3)"
   ]
  }
 ],
 "metadata": {
  "kernelspec": {
   "display_name": "Python 3.9.13 ('Python-Dorota-Bjoorn-uzahzrwe')",
   "language": "python",
   "name": "python3"
  },
  "language_info": {
   "codemirror_mode": {
    "name": "ipython",
    "version": 3
   },
   "file_extension": ".py",
   "mimetype": "text/x-python",
   "name": "python",
   "nbconvert_exporter": "python",
   "pygments_lexer": "ipython3",
   "version": "3.9.13"
  },
  "orig_nbformat": 4,
  "vscode": {
   "interpreter": {
    "hash": "5a42c404417d75b6068b47c895b5f82ed1ebeda4880f3472a880a0dea30e7469"
   }
  }
 },
 "nbformat": 4,
 "nbformat_minor": 2
}
