{
 "cells": [
  {
   "cell_type": "markdown",
   "metadata": {},
   "source": [
    "# File handling\n",
    "\n",
    "- \"open\" ej bra practice för att öppna filer så dessa behöver stängas manuellt och man behöver säkerhetsfunktion iall filen inte existerar\n",
    "- används \"with open\"\n",
    "\n",
    "```py\n",
    "with open(path, option) as name:\n",
    "    statements\n",
    "    ...\n",
    "...\n",
    "\n",
    "options\n",
    "- \"r\" - read\n",
    "- \"a\" - append to a file (if its does not exist - it will create the file)\n",
    "- \"w\" - write (if it does not exist - it will create the file)\n",
    "- \"x\" - create a file, error if it aready exists\n",
    "\n",
    "- read() - läser tecken för tecken och ger en sträng av alla tecken i texten\n",
    "- readline - läser rad för rad och ger varje rad som en sträng\n",
    "- readlines - läser rad för rad och ger varje rad som en sträng, där alla strängar är samlade i en lista\n",
    "```"
   ]
  },
  {
   "cell_type": "code",
   "execution_count": 4,
   "metadata": {},
   "outputs": [
    {
     "data": {
      "text/plain": [
       "'  If     we     knew what it was      we were doing, it would not be called research,          would it?     - Albert Einstein\\n\\nTime is a drug. Too       much of it kills you.  -  Terry Pratchett\\n\\n\\n An expert is a person who       has made all the mistakes that           can be made in a          very narrow field - Niels Bohr\\n\\n   Everything must be made as simple as possible. But not simpler. - Albert Einstein     \\n\\n\\n  Nothing in life                is to be feared, it is only to be understood. Now is the time to understand more, so that we may fear less. - Marie  Curie  \\n\\nIf I have seen further     it is by standing on the shoulders of Giants. - Isaac Newton'"
      ]
     },
     "execution_count": 4,
     "metadata": {},
     "output_type": "execute_result"
    }
   ],
   "source": [
    "with open(\"../Data/quotes.txt\", \"r\") as f: #hoppar ut ett steg och går in i Data mappen oxh hämtar filen som heter quotes.txt\n",
    "    text = f.read()\n",
    "\n",
    "text"
   ]
  },
  {
   "cell_type": "code",
   "execution_count": 3,
   "metadata": {},
   "outputs": [
    {
     "name": "stdout",
     "output_type": "stream",
     "text": [
      "  If     we     knew what it was      we were doing, it would not be called research,          would it?     - Albert Einstein\n",
      "\n",
      "Time is a drug. Too       much of it kills you.  -  Terry Pratchett\n",
      "\n",
      "\n",
      " An expert is a person who       has made all the mistakes that           can be made in a          very narrow field - Niels Bohr\n",
      "\n",
      "   Everything must be made as simple as possible. But not simpler. - Albert Einstein     \n",
      "\n",
      "\n",
      "  Nothing in life                is to be feared, it is only to be understood. Now is the time to understand more, so that we may fear less. - Marie  Curie  \n",
      "\n",
      "If I have seen further     it is by standing on the shoulders of Giants. - Isaac Newton\n"
     ]
    }
   ],
   "source": [
    "path = \"../Data/quotes.txt\"\n",
    "\n",
    "with open(path, \"r\") as f:\n",
    "    text = f.read()\n",
    "\n",
    "print(text) # använder man print så skirvs new lines"
   ]
  },
  {
   "cell_type": "markdown",
   "metadata": {},
   "source": [
    "#### Cleaning up quotes.txt\n",
    "\n",
    "- inspect txt-file manually (random noise in form of whitespace and new lines)\n",
    "- remove leading and trailing whitespaces\n",
    "- remove excessive white spaces in between words\n",
    "- add quote numbers"
   ]
  },
  {
   "cell_type": "code",
   "execution_count": 17,
   "metadata": {},
   "outputs": [
    {
     "name": "stdout",
     "output_type": "stream",
     "text": [
      "1. If we knew what it was we were doing, it would not be called research, would it? - Albert Einstein\n",
      "2. Time is a drug. Too much of it kills you. - Terry Pratchett\n",
      "3. An expert is a person who has made all the mistakes that can be made in a very narrow field - Niels Bohr\n",
      "4. Everything must be made as simple as possible. But not simpler. - Albert Einstein\n",
      "5. Nothing in life is to be feared, it is only to be understood. Now is the time to understand more, so that we may fear less. - Marie Curie\n",
      "6. If I have seen further it is by standing on the shoulders of Giants. - Isaac Newton\n"
     ]
    }
   ],
   "source": [
    "import re # för att ta bort white spaces\n",
    "\n",
    "#öppnar filen quotes och även en ny fil som vi skall skiva till som kommer stängas ihop med den andra då \"with\" används och gäller båda filerna\n",
    "with open(path, \"r\") as f_read, open(\"../Data/quotes_clean.txt\", \"w\") as f_write: \n",
    "    quote_number = 1\n",
    "\n",
    "    # Loops through each line in the text file\n",
    "    for quote in f_read: #f_read är ett objekt som innehåller textfilen\n",
    "        quote = quote.strip(\" \\n\") #removes leading and trainling spaces and new lines (\\n)\n",
    "        quote = re.sub(\" +\", \" \", quote ) # 1 eller flera whitespace ersätts med 1 whitespace\n",
    "       \n",
    "        if quote != \"\": # om det inte är blankraden skrivs raden till nya filen (write to new file if the line is not \"\")\n",
    "            f_write.write(f\"{quote_number}. {quote}\\n\")  #skriver till quotes_clean. Lägger till nummer och meningen\n",
    "            print(f\"{quote_number}. {quote}\") #ingen \\n då newline finns redan som defoult under print-funktionen\n",
    "            quote_number += 1\n",
    "       \n",
    "    #print(repr(quote)) #end=\"\" i slutet skulle ta bort printfunktionens defoult att printa på ny rad, men tecknet för ny rad finns kvar. HMMMM\n",
    "    "
   ]
  },
  {
   "cell_type": "markdown",
   "metadata": {},
   "source": [
    "#### Pick out the authors\n",
    "- find digits to find quote\n",
    "- extract first name and last name\n",
    "- joint into full name\n",
    "- get unique values"
   ]
  },
  {
   "cell_type": "code",
   "execution_count": 30,
   "metadata": {},
   "outputs": [
    {
     "name": "stdout",
     "output_type": "stream",
     "text": [
      "[['Albert', 'Einstein'], ['Terry', 'Pratchett'], ['Niels', 'Bohr'], ['Albert', 'Einstein'], ['Marie', 'Curie'], ['Isaac', 'Newton']]\n",
      "{'Isaac Newton', 'Niels Bohr', 'Albert Einstein', 'Terry Pratchett', 'Marie Curie'}\n"
     ]
    }
   ],
   "source": [
    "with open(\"../Data/quotes_clean.txt\", \"r\") as f_quotes, open(\"../Data/quotes_clean.txt\", \"a\") as f_append:\n",
    "\n",
    "    # rads in each line as a list (readlines)\n",
    "    # strips away \\n dvs newlines\n",
    "    quotes = [quote.strip(\"\\n\") for quote in f_quotes.readlines()]\n",
    "\n",
    "    # Varje ord blir ett element i nya listan där varje rad är en lista\n",
    "    # Plockar ut de 2 sista orden(elementen) i varje lista\n",
    "    authors = [quote.split() [-2:] for quote in quotes ]\n",
    "    print(authors)\n",
    "\n",
    "    #set gives unique elements but in no specific order   \n",
    "    authors = set([\" \".join(author) for author in authors])\n",
    "    print(authors)\n",
    "\n",
    "    f_append.write(\"\\nAuthors: \")\n",
    "    for author in authors:\n",
    "        f_append.write(f\"{author}, \")"
   ]
  },
  {
   "cell_type": "code",
   "execution_count": 25,
   "metadata": {},
   "outputs": [
    {
     "data": {
      "text/plain": [
       "'Kokchun Giang'"
      ]
     },
     "execution_count": 25,
     "metadata": {},
     "output_type": "execute_result"
    }
   ],
   "source": [
    "name = [[\"Kokchun\", \"Giang\"]]\n",
    "\" \".join(name[0]) #joinar med det som är mellan \"\", i det här fallet ett mellanslag"
   ]
  }
 ],
 "metadata": {
  "kernelspec": {
   "display_name": "Python 3.9.13 64-bit (system)",
   "language": "python",
   "name": "python3"
  },
  "language_info": {
   "codemirror_mode": {
    "name": "ipython",
    "version": 3
   },
   "file_extension": ".py",
   "mimetype": "text/x-python",
   "name": "python",
   "nbconvert_exporter": "python",
   "pygments_lexer": "ipython3",
   "version": "3.9.13"
  },
  "orig_nbformat": 4,
  "vscode": {
   "interpreter": {
    "hash": "28ee99f6a7aea1b12ac9ee24ec50cb70bed218d1abf73fd9933c4d88810e27ea"
   }
  }
 },
 "nbformat": 4,
 "nbformat_minor": 2
}
