{
 "cells": [
  {
   "cell_type": "markdown",
   "metadata": {},
   "source": [
    "# Abstract classes"
   ]
  },
  {
   "cell_type": "markdown",
   "metadata": {},
   "source": [
    "## Problem description\n",
    "\n",
    "3 developer, the task is to implement a photosynthesis method for 3 different plats"
   ]
  },
  {
   "cell_type": "code",
   "execution_count": 3,
   "metadata": {},
   "outputs": [
    {
     "name": "stdout",
     "output_type": "stream",
     "text": [
      "Venus eating bugs\n",
      "VenusFlyTrap does phostosynthesis\n"
     ]
    }
   ],
   "source": [
    "# develeoper 1\n",
    "class VenusFlyTrap:\n",
    "    def venus_photosynthesis(self):\n",
    "        print(\"Venus eating bugs\")\n",
    "        # checks the instance class and its name\n",
    "        print(f\"{self.__class__.__name__} does phostosynthesis\")\n",
    "    \n",
    "# developer 2\n",
    "class Monstera:\n",
    "    def monstera_photosynthesis(self):\n",
    "        print(\"Monstera looking cool\")\n",
    "        print(f\"{self.__class__.__name__} does phostosynthesis\")\n",
    "    \n",
    "# developer 3\n",
    "class MoneyPlant:\n",
    "    def photosynthesis(self):\n",
    "        print(\"Money hopefuly comes in\")\n",
    "        print(f\"{self.__class__.__name__} does phostosynthesis\")\n",
    "\n",
    "venus = VenusFlyTrap()\n",
    "venus.venus_photosynthesis()"
   ]
  },
  {
   "cell_type": "code",
   "execution_count": 4,
   "metadata": {},
   "outputs": [
    {
     "ename": "AttributeError",
     "evalue": "'VenusFlyTrap' object has no attribute 'photosynthesis'",
     "output_type": "error",
     "traceback": [
      "\u001b[1;31m---------------------------------------------------------------------------\u001b[0m",
      "\u001b[1;31mAttributeError\u001b[0m                            Traceback (most recent call last)",
      "Cell \u001b[1;32mIn [4], line 4\u001b[0m\n\u001b[0;32m      2\u001b[0m plants \u001b[38;5;241m=\u001b[39m (VenusFlyTrap(), Monstera(), MoneyPlant())\n\u001b[0;32m      3\u001b[0m \u001b[38;5;28;01mfor\u001b[39;00m plant \u001b[38;5;129;01min\u001b[39;00m plants:\n\u001b[1;32m----> 4\u001b[0m     \u001b[43mplant\u001b[49m\u001b[38;5;241;43m.\u001b[39;49m\u001b[43mphotosynthesis\u001b[49m()\n",
      "\u001b[1;31mAttributeError\u001b[0m: 'VenusFlyTrap' object has no attribute 'photosynthesis'"
     ]
    }
   ],
   "source": [
    "# want to use polymorphism and loop through these plants\n",
    "plants = (VenusFlyTrap(), Monstera(), MoneyPlant())\n",
    "for plant in plants:\n",
    "    plant.photosynthesis()"
   ]
  },
  {
   "cell_type": "markdown",
   "metadata": {},
   "source": [
    "## ABC - abstract base class\n",
    "\n",
    "- can make a base class abstract by giving it at least 1 abstract method\n",
    "- can't instantiate from an abstract class\n",
    "- sub-classes of this abstract class must implement the abstract methods in order to be instantiable"
   ]
  },
  {
   "cell_type": "code",
   "execution_count": 5,
   "metadata": {},
   "outputs": [
    {
     "ename": "TypeError",
     "evalue": "Can't instantiate abstract class Plant with abstract method photosynthesis",
     "output_type": "error",
     "traceback": [
      "\u001b[1;31m---------------------------------------------------------------------------\u001b[0m",
      "\u001b[1;31mTypeError\u001b[0m                                 Traceback (most recent call last)",
      "Cell \u001b[1;32mIn [5], line 9\u001b[0m\n\u001b[0;32m      5\u001b[0m     \u001b[38;5;129m@abstractclassmethod\u001b[39m\n\u001b[0;32m      6\u001b[0m     \u001b[38;5;28;01mdef\u001b[39;00m \u001b[38;5;21mphotosynthesis\u001b[39m(\u001b[38;5;28mself\u001b[39m):\n\u001b[0;32m      7\u001b[0m         \u001b[38;5;28;01mpass\u001b[39;00m\n\u001b[1;32m----> 9\u001b[0m planty \u001b[38;5;241m=\u001b[39m \u001b[43mPlant\u001b[49m\u001b[43m(\u001b[49m\u001b[43m)\u001b[49m\n",
      "\u001b[1;31mTypeError\u001b[0m: Can't instantiate abstract class Plant with abstract method photosynthesis"
     ]
    }
   ],
   "source": [
    "from abc import abstractclassmethod, ABC\n",
    "\n",
    "# the abstract class must inherit from ABC - abstract base class\n",
    "class Plant(ABC):\n",
    "    @abstractclassmethod\n",
    "    def photosynthesis(self):\n",
    "        pass\n",
    "\n",
    "# can't instantiate from an abstract class, a class is abstract if it has an abstact method\n",
    "planty = Plant()"
   ]
  },
  {
   "cell_type": "code",
   "execution_count": 8,
   "metadata": {},
   "outputs": [
    {
     "name": "stdout",
     "output_type": "stream",
     "text": [
      "<__main__.MoneyPlant object at 0x0000017C28C94CA0>\n"
     ]
    },
    {
     "ename": "TypeError",
     "evalue": "Can't instantiate abstract class Monstera with abstract method photosynthesis",
     "output_type": "error",
     "traceback": [
      "\u001b[1;31m---------------------------------------------------------------------------\u001b[0m",
      "\u001b[1;31mTypeError\u001b[0m                                 Traceback (most recent call last)",
      "Cell \u001b[1;32mIn [8], line 31\u001b[0m\n\u001b[0;32m     28\u001b[0m monet \u001b[38;5;241m=\u001b[39m MoneyPlant()\n\u001b[0;32m     29\u001b[0m \u001b[38;5;28mprint\u001b[39m(monet)\n\u001b[1;32m---> 31\u001b[0m monsterou \u001b[38;5;241m=\u001b[39m \u001b[43mMonstera\u001b[49m\u001b[43m(\u001b[49m\u001b[43m)\u001b[49m\n",
      "\u001b[1;31mTypeError\u001b[0m: Can't instantiate abstract class Monstera with abstract method photosynthesis"
     ]
    }
   ],
   "source": [
    "from abc import abstractclassmethod, ABC\n",
    "\n",
    "# the abstract class must inherit from ABC - abstract base class\n",
    "class Plant(ABC):\n",
    "    @abstractclassmethod\n",
    "    def photosynthesis(self):\n",
    "        pass\n",
    "\n",
    "# develeoper 1\n",
    "class VenusFlyTrap(Plant):\n",
    "    def venus_photosynthesis(self):\n",
    "        print(\"Venus eating bugs\")\n",
    "        # checks the instance class and its name\n",
    "        print(f\"{self.__class__.__name__} does phostosynthesis\")\n",
    "    \n",
    "# developer 2\n",
    "class Monstera(Plant):\n",
    "    def monstera_photosynthesis(self):\n",
    "        print(\"Monstera looking cool\")\n",
    "        print(f\"{self.__class__.__name__} does phostosynthesis\")\n",
    "    \n",
    "# developer 3\n",
    "class MoneyPlant(Plant):\n",
    "    def photosynthesis(self):\n",
    "        print(\"Money hopefuly comes in\")\n",
    "        print(f\"{self.__class__.__name__} does phostosynthesis\")\n",
    "\n",
    "monet = MoneyPlant()\n",
    "print(monet)\n",
    "\n",
    "# inherit from Plant, so Monstera has a method called photosynthesis which is abstract, which makes Monstera abstract\n",
    "monsterou = Monstera()"
   ]
  },
  {
   "cell_type": "code",
   "execution_count": 10,
   "metadata": {},
   "outputs": [
    {
     "name": "stdout",
     "output_type": "stream",
     "text": [
      "Monstera looking cool\n",
      "Monstera does phostosynthesis\n",
      "Money hopefuly comes in\n",
      "MoneyPlant does phostosynthesis\n",
      "Venus eating bugs\n",
      "VenusFlyTrap does phostosynthesis\n"
     ]
    }
   ],
   "source": [
    "from abc import abstractclassmethod, ABC\n",
    "\n",
    "# the abstract class must inherit from ABC - abstract base class\n",
    "class Plant(ABC):\n",
    "    @abstractclassmethod\n",
    "    def photosynthesis(self):\n",
    "        print(\"Plant photosynthesis\")\n",
    "\n",
    "# develeoper 1\n",
    "class VenusFlyTrap(Plant):\n",
    "    def photosynthesis(self):\n",
    "        print(\"Venus eating bugs\")\n",
    "        # checks the instance class and its name\n",
    "        print(f\"{self.__class__.__name__} does phostosynthesis\")\n",
    "    \n",
    "# developer 2\n",
    "class Monstera(Plant):\n",
    "    def photosynthesis(self):\n",
    "        print(\"Monstera looking cool\")\n",
    "        print(f\"{self.__class__.__name__} does phostosynthesis\")\n",
    "    \n",
    "# developer 3\n",
    "class MoneyPlant(Plant):\n",
    "    def photosynthesis(self):\n",
    "        print(\"Money hopefuly comes in\")\n",
    "        print(f\"{self.__class__.__name__} does phostosynthesis\")\n",
    "\n",
    "monet = MoneyPlant()\n",
    "\n",
    "# inherit from Plant, so Monstera has a method called photosynthesis which is abstract, which makes Monstera abstract\n",
    "monsterou = Monstera()\n",
    "\n",
    "venus = VenusFlyTrap()\n",
    "\n",
    "for plant in(monsterou, monet, venus):\n",
    "    plant.photosynthesis()"
   ]
  },
  {
   "cell_type": "markdown",
   "metadata": {},
   "source": [
    "om inte abstract photosynthesis och tex ändrar namn till p-synthesis1 för Venus sså körs programmet ändå men man får inte ut ngt för Venus\n",
    "kan ses som ett felhanteringssätt"
   ]
  },
  {
   "cell_type": "code",
   "execution_count": 11,
   "metadata": {},
   "outputs": [
    {
     "name": "stdout",
     "output_type": "stream",
     "text": [
      "Monstera looking cool\n",
      "Monstera does phostosynthesis\n",
      "Money hopefuly comes in\n",
      "MoneyPlant does phostosynthesis\n",
      "Plant photosynthesis\n"
     ]
    }
   ],
   "source": [
    "from abc import abstractclassmethod, ABC\n",
    "\n",
    "# the abstract class must inherit from ABC - abstract base class\n",
    "class Plant(ABC):\n",
    "    #@abstractclassmethod\n",
    "    def photosynthesis(self):\n",
    "        print(\"Plant photosynthesis\")\n",
    "\n",
    "# develeoper 1\n",
    "class VenusFlyTrap(Plant):\n",
    "    def photosynthesis1(self):\n",
    "        print(\"Venus eating bugs\")\n",
    "        # checks the instance class and its name\n",
    "        print(f\"{self.__class__.__name__} does phostosynthesis\")\n",
    "    \n",
    "# developer 2\n",
    "class Monstera(Plant):\n",
    "    def photosynthesis(self):\n",
    "        print(\"Monstera looking cool\")\n",
    "        print(f\"{self.__class__.__name__} does phostosynthesis\")\n",
    "    \n",
    "# developer 3\n",
    "class MoneyPlant(Plant):\n",
    "    def photosynthesis(self):\n",
    "        print(\"Money hopefuly comes in\")\n",
    "        print(f\"{self.__class__.__name__} does phostosynthesis\")\n",
    "\n",
    "monet = MoneyPlant()\n",
    "\n",
    "# inherit from Plant, so Monstera has a method called photosynthesis which is abstract, which makes Monstera abstract\n",
    "monsterou = Monstera()\n",
    "\n",
    "venus = VenusFlyTrap()\n",
    "\n",
    "for plant in(monsterou, monet, venus):\n",
    "    plant.photosynthesis()"
   ]
  }
 ],
 "metadata": {
  "kernelspec": {
   "display_name": "Python 3.9.13 ('Python-Dorota-Bjoorn-uzahzrwe')",
   "language": "python",
   "name": "python3"
  },
  "language_info": {
   "codemirror_mode": {
    "name": "ipython",
    "version": 3
   },
   "file_extension": ".py",
   "mimetype": "text/x-python",
   "name": "python",
   "nbconvert_exporter": "python",
   "pygments_lexer": "ipython3",
   "version": "3.9.13"
  },
  "orig_nbformat": 4,
  "vscode": {
   "interpreter": {
    "hash": "5a42c404417d75b6068b47c895b5f82ed1ebeda4880f3472a880a0dea30e7469"
   }
  }
 },
 "nbformat": 4,
 "nbformat_minor": 2
}
