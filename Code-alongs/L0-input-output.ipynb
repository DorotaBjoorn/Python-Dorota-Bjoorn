{
 "cells": [
  {
   "cell_type": "markdown",
   "metadata": {},
   "source": [
    "# Code along - input - output"
   ]
  },
  {
   "cell_type": "code",
   "execution_count": 2,
   "metadata": {},
   "outputs": [
    {
     "name": "stdout",
     "output_type": "stream",
     "text": [
      "hej Dorota, du är 46.5 år gammal\n",
      "20\n"
     ]
    }
   ],
   "source": [
    "# variable - daty type string\n",
    "# create a variable (\"box\") and assigns a value\n",
    "name = \"Dorota\"\n",
    "\n",
    "# variabel - data type float\n",
    "age = 46.5\n",
    "\n",
    "# this is an f-string (formated string)\n",
    "print(f\"hej {name}, du är {age} år gammal\")\n",
    "\n",
    "# reassigns\n",
    "# note: bad practice as name not descriptive of the variable\n",
    "name = 20\n",
    "print(name)"
   ]
  },
  {
   "cell_type": "markdown",
   "metadata": {},
   "source": [
    "## Inputs from user"
   ]
  },
  {
   "cell_type": "code",
   "execution_count": 3,
   "metadata": {},
   "outputs": [
    {
     "name": "stdout",
     "output_type": "stream",
     "text": [
      "Hallo Dorota, you are 46 years old\n"
     ]
    }
   ],
   "source": [
    "name = input(\"what is your name?\")\n",
    "age = input (\"What is your age?\")\n",
    "\n",
    "print(f\"Hallo {name}, you are {age} years old\")"
   ]
  },
  {
   "cell_type": "markdown",
   "metadata": {},
   "source": [
    "## Calculations"
   ]
  },
  {
   "cell_type": "code",
   "execution_count": 4,
   "metadata": {},
   "outputs": [
    {
     "name": "stdout",
     "output_type": "stream",
     "text": [
      "Your foces is 608.84 N\n"
     ]
    }
   ],
   "source": [
    "gravity = 9.82\n",
    "mass = 62\n",
    "\n",
    "force = mass*gravity\n",
    "\n",
    "print(f\"Your foces is {force} N\")"
   ]
  },
  {
   "cell_type": "code",
   "execution_count": 6,
   "metadata": {},
   "outputs": [
    {
     "name": "stdout",
     "output_type": "stream",
     "text": [
      "force=589.2N\n"
     ]
    }
   ],
   "source": [
    "mass = float(input(\"Enter your mass (kg):\")) #string som görs om till float\n",
    "\n",
    "#can not multiply sting with float\n",
    "force = mass*gravity\n",
    "\n",
    "#:.1f rounds to 1 decimal\n",
    "# = ger att det skivs ut force = värde och inte bara värdet\n",
    "print(f\"{force=:.1f}N\")"
   ]
  }
 ],
 "metadata": {
  "kernelspec": {
   "display_name": "Python 3.9.13 64-bit (system)",
   "language": "python",
   "name": "python3"
  },
  "language_info": {
   "codemirror_mode": {
    "name": "ipython",
    "version": 3
   },
   "file_extension": ".py",
   "mimetype": "text/x-python",
   "name": "python",
   "nbconvert_exporter": "python",
   "pygments_lexer": "ipython3",
   "version": "3.9.13"
  },
  "orig_nbformat": 4,
  "vscode": {
   "interpreter": {
    "hash": "28ee99f6a7aea1b12ac9ee24ec50cb70bed218d1abf73fd9933c4d88810e27ea"
   }
  }
 },
 "nbformat": 4,
 "nbformat_minor": 2
}
