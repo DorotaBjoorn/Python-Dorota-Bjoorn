{
 "cells": [
  {
   "cell_type": "markdown",
   "metadata": {},
   "source": [
    "# if-statements\n",
    "## if-else\n"
   ]
  },
  {
   "cell_type": "markdown",
   "metadata": {},
   "source": []
  },
  {
   "cell_type": "code",
   "execution_count": 3,
   "metadata": {},
   "outputs": [
    {
     "name": "stdout",
     "output_type": "stream",
     "text": [
      "Du är 8 år gammal. Gränsen är 18 år\n",
      "Du får inte gå in i puben\n"
     ]
    }
   ],
   "source": [
    "age = int(input(\"Hur gammal är du?\")) #int för att omvandla sting till int för att kunna jämföra med 18\n",
    "\n",
    "if age < 18: #kolon är viktigt\n",
    "    print(f\"Du är {age} år gammal. Gränsen är 18 år\")\n",
    "    print(\"Du får inte gå in i puben\") #indentering är viktig (anävnds istället för måsvingar)\n",
    "else:\n",
    "    print(\"Välkommen in\")"
   ]
  },
  {
   "cell_type": "code",
   "execution_count": null,
   "metadata": {},
   "outputs": [],
   "source": [
    "age = 15\n",
    "height = 135\n",
    "\n",
    "if age > 10 and height > 130:\n",
    "    print(\"Du får åka Balder\")\n",
    "else:\n",
    "    print(\"Du får inte åka Balder\")"
   ]
  },
  {
   "cell_type": "code",
   "execution_count": 4,
   "metadata": {},
   "outputs": [
    {
     "name": "stdout",
     "output_type": "stream",
     "text": [
      "Du får åka Balder\n"
     ]
    }
   ],
   "source": [
    "age = 15\n",
    "height = 208\n",
    "\n",
    "# for Python use and or\n",
    "# for Python XX<something<YY specific\n",
    "if age > 10 and 130 < height <= 210:\n",
    "    print(\"Du får åka Balder\")\n",
    "else:\n",
    "    print(\"Du får inte åka Balder\")"
   ]
  },
  {
   "cell_type": "markdown",
   "metadata": {},
   "source": [
    "## Modulo operator %\n",
    "\n",
    "### 5 % 3 =2\n",
    "### 5 % 9 = 4"
   ]
  },
  {
   "cell_type": "markdown",
   "metadata": {},
   "source": []
  },
  {
   "cell_type": "code",
   "execution_count": 5,
   "metadata": {},
   "outputs": [
    {
     "name": "stdout",
     "output_type": "stream",
     "text": [
      "jämt tal\n"
     ]
    }
   ],
   "source": [
    "number = 42\n",
    "\n",
    "if number %2 == 0: # == används vid jämförelse\n",
    "    print(\"jämt tal\")"
   ]
  },
  {
   "cell_type": "code",
   "execution_count": 10,
   "metadata": {},
   "outputs": [
    {
     "name": "stdout",
     "output_type": "stream",
     "text": [
      "3==4: False\n",
      "3==4: True\n",
      "3>=3: True\n",
      "3!=3: False\n"
     ]
    }
   ],
   "source": [
    "print(f\"3==4: {3 == 4}\")\n",
    "print(f\"3==4: {3 == 3}\")\n",
    "print(f\"3>=3: {3 >= 3}\")\n",
    "print(f\"3!=3: {3 != 3}\")"
   ]
  },
  {
   "cell_type": "markdown",
   "metadata": {},
   "source": [
    "## if - elif - else\n",
    "\n",
    "```py\n",
    "if condition:\n",
    "    statement_1\n",
    "    ...\n",
    "    statement_n\n",
    "elif condition:\n",
    "    statement_1\n",
    "    ...\n",
    "    statement_m\n",
    "...\n",
    "elif condition:\n",
    "    ...\n",
    "else:\n",
    "    statements\n",
    "    ...\n",
    "\n",
    "program continues..."
   ]
  },
  {
   "cell_type": "code",
   "execution_count": 3,
   "metadata": {},
   "outputs": [
    {
     "name": "stdout",
     "output_type": "stream",
     "text": [
      "weight=3.0\n",
      "Give patient 500 mg\n"
     ]
    }
   ],
   "source": [
    "weight = float(input(\"Enter patinets weight (kg): \")) #fload declared since the input as such is string\n",
    "print(f\"{weight=}\") #wight= prints out \"weight=input instead of just input\"\n",
    "\n",
    "if weight < 20:\n",
    "    print(\"Give patient 500 mg\")\n",
    "elif weight < 40:\n",
    "    print(\"Give patient 750 mg\")\n",
    "else:\n",
    "    print(\"Give patient 1000 mg\")"
   ]
  },
  {
   "cell_type": "markdown",
   "metadata": {},
   "source": [
    "## Nested if-statements"
   ]
  },
  {
   "cell_type": "code",
   "execution_count": 6,
   "metadata": {},
   "outputs": [
    {
     "name": "stdout",
     "output_type": "stream",
     "text": [
      "10 divisiable by 5\n",
      "Even number\n"
     ]
    }
   ],
   "source": [
    "number = 10\n",
    "\n",
    "if number % 5 == 0:\n",
    "    print(f\"{number} divisiable by 5\")\n",
    "    if number % 2 == 0:\n",
    "        print(\"Even number\")\n",
    "    else:\n",
    "        print(\"Odd number\")\n",
    "else:\n",
    "    print(\"NOt divisible by 5\")"
   ]
  }
 ],
 "metadata": {
  "kernelspec": {
   "display_name": "Python 3.9.13 ('Python-Dorota-Bjoorn-uzahzrwe')",
   "language": "python",
   "name": "python3"
  },
  "language_info": {
   "codemirror_mode": {
    "name": "ipython",
    "version": 3
   },
   "file_extension": ".py",
   "mimetype": "text/x-python",
   "name": "python",
   "nbconvert_exporter": "python",
   "pygments_lexer": "ipython3",
   "version": "3.9.13"
  },
  "orig_nbformat": 4,
  "vscode": {
   "interpreter": {
    "hash": "5a42c404417d75b6068b47c895b5f82ed1ebeda4880f3472a880a0dea30e7469"
   }
  }
 },
 "nbformat": 4,
 "nbformat_minor": 2
}
